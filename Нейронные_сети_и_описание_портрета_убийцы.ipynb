{
  "nbformat": 4,
  "nbformat_minor": 0,
  "metadata": {
    "colab": {
      "name": "Нейронные сети и описание портрета убийцы",
      "provenance": [],
      "collapsed_sections": []
    },
    "kernelspec": {
      "name": "python3",
      "display_name": "Python 3"
    },
    "language_info": {
      "name": "python"
    }
  },
  "cells": [
    {
      "cell_type": "markdown",
      "source": [
        "Импортириуем все необходимые для работы библиотеки"
      ],
      "metadata": {
        "id": "bqPklpb89dI1"
      }
    },
    {
      "cell_type": "markdown",
      "source": [
        "Произведем загрузку файла в notebook"
      ],
      "metadata": {
        "id": "Y-pdAPM19RSb"
      }
    },
    {
      "cell_type": "code",
      "source": [
        "import pandas as pd\n",
        "import numpy as np\n",
        "import matplotlib.pyplot as plt"
      ],
      "metadata": {
        "id": "1XXfuaZl9dML"
      },
      "execution_count": 11,
      "outputs": []
    },
    {
      "cell_type": "markdown",
      "source": [
        "Считаем df и посмотрим на данные нам значения"
      ],
      "metadata": {
        "id": "V9QuMJpS-iwy"
      }
    },
    {
      "cell_type": "code",
      "source": [
        "df = pd.read_csv('https://raw.githubusercontent.com/Magillan17/Junior-ML-Contest/main/data_diplom.csv.csv', )\n",
        "display(df.head())\n"
      ],
      "metadata": {
        "colab": {
          "base_uri": "https://localhost:8080/",
          "height": 444
        },
        "id": "VsEkg7dA7pc5",
        "outputId": "8eda7204-16be-4e15-949d-622efe982f2f"
      },
      "execution_count": 12,
      "outputs": [
        {
          "output_type": "display_data",
          "data": {
            "text/plain": [
              "  орудие преступления                     тип преступления  \\\n",
              "0          голые руки                 убийство, ограбление   \n",
              "1             инсулин                             убийство   \n",
              "2          голые руки  убийство, изнасилование, некрофилия   \n",
              "3          голые руки              убийство, изнасилование   \n",
              "4          голые руки              убийство, изнасилование   \n",
              "\n",
              "  способ совершения преступления      мотив преступления  \\\n",
              "0           сбрасывание с высоты               корыстный   \n",
              "1                     отравление    привлечение внимания   \n",
              "2                       удушение  сексуальный, корыстный   \n",
              "3                       удушение             сексуальный   \n",
              "4                       удушение             сексуальный   \n",
              "\n",
              "  обстановка преступления количество жертв возраст жертвы пол жертвы  \\\n",
              "0                   город               70    от 15 до 30         мж   \n",
              "1                больница                4   от 0,2 до 11         мж   \n",
              "2                   город               15    от 13 до 20          ж   \n",
              "3                     лес               53     от 7 до 40         мж   \n",
              "4                   город                3    от 10 до 11          ж   \n",
              "\n",
              "  возраст преступника   образование преступника семейный статус преступника  \\\n",
              "0                  30                   среднее                         нет   \n",
              "1                  23  среднее профессиональное                         нет   \n",
              "2                  20  среднее профессиональное                         нет   \n",
              "3               18-30                 начальное                         нет   \n",
              "4          неизвестно                неизвестно                  неизвестно   \n",
              "\n",
              "  тип преступника     психотип преступника  \\\n",
              "0   меркантильный  социально дезадаптивный   \n",
              "1     властолюбец  социально дезадаптивный   \n",
              "2        гедонист     социально адаптивный   \n",
              "3     властолюбец  социально дезадаптивный   \n",
              "4        гедонист     социально адаптивный   \n",
              "\n",
              "  наличие психического расстройства у преступника пол преступника  \\\n",
              "0                                             нет               м   \n",
              "1                                         сильное               ж   \n",
              "2                                         среднее               м   \n",
              "3                                         среднее               м   \n",
              "4                                         сильное               м   \n",
              "\n",
              "     профессия преступника  \n",
              "0                      нет  \n",
              "1                медсестра  \n",
              "2  грузчик, военнослужащий  \n",
              "3                      нет  \n",
              "4               неизвестно  "
            ],
            "text/html": [
              "\n",
              "  <div id=\"df-4ddffed4-ac3c-4749-bd82-41dbabd164ce\">\n",
              "    <div class=\"colab-df-container\">\n",
              "      <div>\n",
              "<style scoped>\n",
              "    .dataframe tbody tr th:only-of-type {\n",
              "        vertical-align: middle;\n",
              "    }\n",
              "\n",
              "    .dataframe tbody tr th {\n",
              "        vertical-align: top;\n",
              "    }\n",
              "\n",
              "    .dataframe thead th {\n",
              "        text-align: right;\n",
              "    }\n",
              "</style>\n",
              "<table border=\"1\" class=\"dataframe\">\n",
              "  <thead>\n",
              "    <tr style=\"text-align: right;\">\n",
              "      <th></th>\n",
              "      <th>орудие преступления</th>\n",
              "      <th>тип преступления</th>\n",
              "      <th>способ совершения преступления</th>\n",
              "      <th>мотив преступления</th>\n",
              "      <th>обстановка преступления</th>\n",
              "      <th>количество жертв</th>\n",
              "      <th>возраст жертвы</th>\n",
              "      <th>пол жертвы</th>\n",
              "      <th>возраст преступника</th>\n",
              "      <th>образование преступника</th>\n",
              "      <th>семейный статус преступника</th>\n",
              "      <th>тип преступника</th>\n",
              "      <th>психотип преступника</th>\n",
              "      <th>наличие психического расстройства у преступника</th>\n",
              "      <th>пол преступника</th>\n",
              "      <th>профессия преступника</th>\n",
              "    </tr>\n",
              "  </thead>\n",
              "  <tbody>\n",
              "    <tr>\n",
              "      <th>0</th>\n",
              "      <td>голые руки</td>\n",
              "      <td>убийство, ограбление</td>\n",
              "      <td>сбрасывание с высоты</td>\n",
              "      <td>корыстный</td>\n",
              "      <td>город</td>\n",
              "      <td>70</td>\n",
              "      <td>от 15 до 30</td>\n",
              "      <td>мж</td>\n",
              "      <td>30</td>\n",
              "      <td>среднее</td>\n",
              "      <td>нет</td>\n",
              "      <td>меркантильный</td>\n",
              "      <td>социально дезадаптивный</td>\n",
              "      <td>нет</td>\n",
              "      <td>м</td>\n",
              "      <td>нет</td>\n",
              "    </tr>\n",
              "    <tr>\n",
              "      <th>1</th>\n",
              "      <td>инсулин</td>\n",
              "      <td>убийство</td>\n",
              "      <td>отравление</td>\n",
              "      <td>привлечение внимания</td>\n",
              "      <td>больница</td>\n",
              "      <td>4</td>\n",
              "      <td>от 0,2 до 11</td>\n",
              "      <td>мж</td>\n",
              "      <td>23</td>\n",
              "      <td>среднее профессиональное</td>\n",
              "      <td>нет</td>\n",
              "      <td>властолюбец</td>\n",
              "      <td>социально дезадаптивный</td>\n",
              "      <td>сильное</td>\n",
              "      <td>ж</td>\n",
              "      <td>медсестра</td>\n",
              "    </tr>\n",
              "    <tr>\n",
              "      <th>2</th>\n",
              "      <td>голые руки</td>\n",
              "      <td>убийство, изнасилование, некрофилия</td>\n",
              "      <td>удушение</td>\n",
              "      <td>сексуальный, корыстный</td>\n",
              "      <td>город</td>\n",
              "      <td>15</td>\n",
              "      <td>от 13 до 20</td>\n",
              "      <td>ж</td>\n",
              "      <td>20</td>\n",
              "      <td>среднее профессиональное</td>\n",
              "      <td>нет</td>\n",
              "      <td>гедонист</td>\n",
              "      <td>социально адаптивный</td>\n",
              "      <td>среднее</td>\n",
              "      <td>м</td>\n",
              "      <td>грузчик, военнослужащий</td>\n",
              "    </tr>\n",
              "    <tr>\n",
              "      <th>3</th>\n",
              "      <td>голые руки</td>\n",
              "      <td>убийство, изнасилование</td>\n",
              "      <td>удушение</td>\n",
              "      <td>сексуальный</td>\n",
              "      <td>лес</td>\n",
              "      <td>53</td>\n",
              "      <td>от 7 до 40</td>\n",
              "      <td>мж</td>\n",
              "      <td>18-30</td>\n",
              "      <td>начальное</td>\n",
              "      <td>нет</td>\n",
              "      <td>властолюбец</td>\n",
              "      <td>социально дезадаптивный</td>\n",
              "      <td>среднее</td>\n",
              "      <td>м</td>\n",
              "      <td>нет</td>\n",
              "    </tr>\n",
              "    <tr>\n",
              "      <th>4</th>\n",
              "      <td>голые руки</td>\n",
              "      <td>убийство, изнасилование</td>\n",
              "      <td>удушение</td>\n",
              "      <td>сексуальный</td>\n",
              "      <td>город</td>\n",
              "      <td>3</td>\n",
              "      <td>от 10 до 11</td>\n",
              "      <td>ж</td>\n",
              "      <td>неизвестно</td>\n",
              "      <td>неизвестно</td>\n",
              "      <td>неизвестно</td>\n",
              "      <td>гедонист</td>\n",
              "      <td>социально адаптивный</td>\n",
              "      <td>сильное</td>\n",
              "      <td>м</td>\n",
              "      <td>неизвестно</td>\n",
              "    </tr>\n",
              "  </tbody>\n",
              "</table>\n",
              "</div>\n",
              "      <button class=\"colab-df-convert\" onclick=\"convertToInteractive('df-4ddffed4-ac3c-4749-bd82-41dbabd164ce')\"\n",
              "              title=\"Convert this dataframe to an interactive table.\"\n",
              "              style=\"display:none;\">\n",
              "        \n",
              "  <svg xmlns=\"http://www.w3.org/2000/svg\" height=\"24px\"viewBox=\"0 0 24 24\"\n",
              "       width=\"24px\">\n",
              "    <path d=\"M0 0h24v24H0V0z\" fill=\"none\"/>\n",
              "    <path d=\"M18.56 5.44l.94 2.06.94-2.06 2.06-.94-2.06-.94-.94-2.06-.94 2.06-2.06.94zm-11 1L8.5 8.5l.94-2.06 2.06-.94-2.06-.94L8.5 2.5l-.94 2.06-2.06.94zm10 10l.94 2.06.94-2.06 2.06-.94-2.06-.94-.94-2.06-.94 2.06-2.06.94z\"/><path d=\"M17.41 7.96l-1.37-1.37c-.4-.4-.92-.59-1.43-.59-.52 0-1.04.2-1.43.59L10.3 9.45l-7.72 7.72c-.78.78-.78 2.05 0 2.83L4 21.41c.39.39.9.59 1.41.59.51 0 1.02-.2 1.41-.59l7.78-7.78 2.81-2.81c.8-.78.8-2.07 0-2.86zM5.41 20L4 18.59l7.72-7.72 1.47 1.35L5.41 20z\"/>\n",
              "  </svg>\n",
              "      </button>\n",
              "      \n",
              "  <style>\n",
              "    .colab-df-container {\n",
              "      display:flex;\n",
              "      flex-wrap:wrap;\n",
              "      gap: 12px;\n",
              "    }\n",
              "\n",
              "    .colab-df-convert {\n",
              "      background-color: #E8F0FE;\n",
              "      border: none;\n",
              "      border-radius: 50%;\n",
              "      cursor: pointer;\n",
              "      display: none;\n",
              "      fill: #1967D2;\n",
              "      height: 32px;\n",
              "      padding: 0 0 0 0;\n",
              "      width: 32px;\n",
              "    }\n",
              "\n",
              "    .colab-df-convert:hover {\n",
              "      background-color: #E2EBFA;\n",
              "      box-shadow: 0px 1px 2px rgba(60, 64, 67, 0.3), 0px 1px 3px 1px rgba(60, 64, 67, 0.15);\n",
              "      fill: #174EA6;\n",
              "    }\n",
              "\n",
              "    [theme=dark] .colab-df-convert {\n",
              "      background-color: #3B4455;\n",
              "      fill: #D2E3FC;\n",
              "    }\n",
              "\n",
              "    [theme=dark] .colab-df-convert:hover {\n",
              "      background-color: #434B5C;\n",
              "      box-shadow: 0px 1px 3px 1px rgba(0, 0, 0, 0.15);\n",
              "      filter: drop-shadow(0px 1px 2px rgba(0, 0, 0, 0.3));\n",
              "      fill: #FFFFFF;\n",
              "    }\n",
              "  </style>\n",
              "\n",
              "      <script>\n",
              "        const buttonEl =\n",
              "          document.querySelector('#df-4ddffed4-ac3c-4749-bd82-41dbabd164ce button.colab-df-convert');\n",
              "        buttonEl.style.display =\n",
              "          google.colab.kernel.accessAllowed ? 'block' : 'none';\n",
              "\n",
              "        async function convertToInteractive(key) {\n",
              "          const element = document.querySelector('#df-4ddffed4-ac3c-4749-bd82-41dbabd164ce');\n",
              "          const dataTable =\n",
              "            await google.colab.kernel.invokeFunction('convertToInteractive',\n",
              "                                                     [key], {});\n",
              "          if (!dataTable) return;\n",
              "\n",
              "          const docLinkHtml = 'Like what you see? Visit the ' +\n",
              "            '<a target=\"_blank\" href=https://colab.research.google.com/notebooks/data_table.ipynb>data table notebook</a>'\n",
              "            + ' to learn more about interactive tables.';\n",
              "          element.innerHTML = '';\n",
              "          dataTable['output_type'] = 'display_data';\n",
              "          await google.colab.output.renderOutput(dataTable, element);\n",
              "          const docLink = document.createElement('div');\n",
              "          docLink.innerHTML = docLinkHtml;\n",
              "          element.appendChild(docLink);\n",
              "        }\n",
              "      </script>\n",
              "    </div>\n",
              "  </div>\n",
              "  "
            ]
          },
          "metadata": {}
        }
      ]
    },
    {
      "cell_type": "code",
      "source": [
        "df.shape"
      ],
      "metadata": {
        "colab": {
          "base_uri": "https://localhost:8080/"
        },
        "id": "WBXhrtgMSGLb",
        "outputId": "cc7f87c7-4056-4376-d909-81edf2de4029"
      },
      "execution_count": 13,
      "outputs": [
        {
          "output_type": "execute_result",
          "data": {
            "text/plain": [
              "(185, 16)"
            ]
          },
          "metadata": {},
          "execution_count": 13
        }
      ]
    },
    {
      "cell_type": "markdown",
      "source": [
        "Как мы видим - все признаки (столбцы, написанный русскими символами). Чтобы не возникали проблем при дальнейшей работе алгоритма, переименуем признаки(features)."
      ],
      "metadata": {
        "id": "eYNc6EHA-hxp"
      }
    },
    {
      "cell_type": "code",
      "source": [
        "df.columns"
      ],
      "metadata": {
        "colab": {
          "base_uri": "https://localhost:8080/"
        },
        "id": "UxJ7G3yuDSG9",
        "outputId": "a32cbc1f-7005-4e6b-b0da-7e94b109755d"
      },
      "execution_count": 14,
      "outputs": [
        {
          "output_type": "execute_result",
          "data": {
            "text/plain": [
              "Index(['орудие преступления', 'тип преступления',\n",
              "       'способ совершения преступления', 'мотив преступления',\n",
              "       'обстановка преступления', 'количество жертв', 'возраст жертвы',\n",
              "       'пол жертвы', 'возраст преступника', 'образование преступника',\n",
              "       'семейный статус преступника', 'тип преступника',\n",
              "       'психотип преступника',\n",
              "       'наличие психического расстройства у преступника', 'пол преступника',\n",
              "       'профессия преступника'],\n",
              "      dtype='object')"
            ]
          },
          "metadata": {},
          "execution_count": 14
        }
      ]
    },
    {
      "cell_type": "code",
      "source": [
        "df = df.rename(columns = {'орудие преступления':'weapon',\n",
        "                          'тип преступления':'type_weapon',\n",
        "                          'способ совершения преступления':'way_weapon',\n",
        "                          'мотив преступления':'motive_weapon',\n",
        "                          'обстановка преступления':'place',\n",
        "                          'количество жертв':'amount of victims',\n",
        "                          'возраст жертвы':'age of victim',\n",
        "                          'пол жертвы':'gender of the victim',\n",
        "                          'возраст преступника':'age of the criminal',\n",
        "                          'образование преступника':'criminal education',\n",
        "                          'семейный статус преступника': 'm.s. criminal',\n",
        "                          'тип преступника':'type_cr',\n",
        "                          'психотип преступника':'psychotype_cr',\n",
        "                          'наличие психического расстройства у преступника':'psycho_cr',\n",
        "                          'пол преступника':'gender_cr',\n",
        "                          'профессия преступника':'profession_cr',\n",
        "                          })\n"
      ],
      "metadata": {
        "id": "NqpqwQOL7pgM"
      },
      "execution_count": 15,
      "outputs": []
    },
    {
      "cell_type": "code",
      "source": [
        "df.columns"
      ],
      "metadata": {
        "colab": {
          "base_uri": "https://localhost:8080/"
        },
        "id": "F55QBu1h7pjg",
        "outputId": "998d3029-6424-4099-c86f-279ccbe8805d"
      },
      "execution_count": 16,
      "outputs": [
        {
          "output_type": "execute_result",
          "data": {
            "text/plain": [
              "Index(['weapon', 'type_weapon', 'way_weapon', 'motive_weapon', 'place',\n",
              "       'amount of victims', 'age of victim', 'gender of the victim',\n",
              "       'age of the criminal', 'criminal education', 'm.s. criminal', 'type_cr',\n",
              "       'psychotype_cr', 'psycho_cr', 'gender_cr', 'profession_cr'],\n",
              "      dtype='object')"
            ]
          },
          "metadata": {},
          "execution_count": 16
        }
      ]
    },
    {
      "cell_type": "markdown",
      "source": [
        "В основном наши данные состоят из категориальных признаков. Нейронные сети не умеет работать с категориальными признаками. \n",
        "(На самом деле предобученные модели машинного обучения, по типу CatBoost умеет самостоятельно обрабатывать данные, но наша задача, написать собственную нейросеть, \n",
        " а не использовать решения \"из коробки\"). Предообратаем данные для нейросети в виде числовых значений.\n",
        "Рассмотрим каждый из признаков в отдельности, по насыщенности, колличеству уникальных и пропущенных значений"
      ],
      "metadata": {
        "id": "FHD-MQh_6ozF"
      }
    },
    {
      "cell_type": "code",
      "source": [
        "print(df.weapon.nunique())\n",
        "print(df.weapon.unique())"
      ],
      "metadata": {
        "colab": {
          "base_uri": "https://localhost:8080/"
        },
        "id": "mTKFmTCKElF6",
        "outputId": "d932dcc8-6cfc-495a-f85c-f6866df782d2"
      },
      "execution_count": 17,
      "outputs": [
        {
          "output_type": "stream",
          "name": "stdout",
          "text": [
            "78\n",
            "['голые руки' 'инсулин' 'топор, обрез, молоток, нож, веревка'\n",
            " 'шлейки сумки, рукава куртки, шнурок' 'лекарство, яд' 'пистолет'\n",
            " 'чулок, лом, верёвка, пила, верёвка, нож'\n",
            " 'электрошокер, верёвка, соляная кислота, нож, плоскогубцы, щипцы' 'яд'\n",
            " 'молоток, киянка'\n",
            " 'кухонный нож, пояс, талий, снотворное, нейролептики, транквилизаторы'\n",
            " 'нож, соляная кислота, плоскогубцы, веревка, кусачки' 'нож' 'топор'\n",
            " 'кухонный нож, отвертка, швейцарский нож' 'нож, пистолет' 'лекарство'\n",
            " 'пистолет-пулемет, нож' 'пистолет, нож, молоток' 'яд, мясорубка, топор'\n",
            " 'бита' 'нож, топор' 'голые руки, нож' 'веревка' 'жгут'\n",
            " 'веревка, кухонный нож, складной нож, паяльник, топор' 'пистолет, нож'\n",
            " 'скальпель, щипцы' 'нож, голые руки' 'белая лента'\n",
            " 'веревка, кислота, гантеля, кувалда' 'Нож, пистолет, молоток'\n",
            " 'голые руки, пистолет' 'поджог, пистолет'\n",
            " 'нож, веревка, пневматический пистолет' 'штык, голые руки' 'нож, арбалет'\n",
            " 'тряпка' 'дробовик' 'труба, лекарство' 'нож, палка'\n",
            " 'веревка, удавка, металлический прут, телефонный провод'\n",
            " 'охотничий нож, веревка' 'кочерга, палка, одежда жертв, шампур'\n",
            " 'кислота, голые руки, нож' 'кнут, пистолет' 'камень' 'нож, поджог'\n",
            " 'ремень' 'лекарства' 'нож, ружье' 'нож, молоток, арматура'\n",
            " 'пистолет, дробавик, нож' 'голые руки, бита' 'удавка' 'револьвер'\n",
            " 'топор, печь' 'холодное оружие' 'голые руки, нож, веревка'\n",
            " 'ружье, топор, веревка' 'бельевая верёвка' 'верёвка, снотворное, провод'\n",
            " 'церемониальная румаль' 'ледоруб, проволока, плоскогубцы, кувалда'\n",
            " 'голые руки, нож, футболка' 'дробовик, мачете, пистолет, молоток'\n",
            " 'кирпич, молоток, нож, верёвка' 'утюг, нож' 'верёвка, топор, молоток'\n",
            " 'верёвка' 'чулок, верёвка, шнур' 'острый предмет'\n",
            " 'пистолет, нож, бейсбольная бита' 'дубинка' 'мор голодом' 'винтовка'\n",
            " 'нож, веревка, мачете, молоток, дробовик, пистолет' 'тяжелый предмет']\n"
          ]
        }
      ]
    },
    {
      "cell_type": "markdown",
      "source": [
        "Данная фича имеет 78 уникальных значений. Причем заметим, что многие слова повторяюся в разных сочетаниях. Обработуем данный признак и вырвем самые популярные слова"
      ],
      "metadata": {
        "id": "rsuZCgsAR7Vd"
      }
    },
    {
      "cell_type": "markdown",
      "source": [
        "Проверка значений в признаке будет проходито не один раз. Напишем функцию, которая возвращает 10 самых популярных слов в категории, все оставшиеся значения, и сразу проверяет на наличие NaN значений (по умолчанию все пропущенные значения обозначены словом \"неизвестно\")"
      ],
      "metadata": {
        "id": "Y0Cnyn2ZX1Q1"
      }
    },
    {
      "cell_type": "code",
      "source": [
        "def describe_counter(sample):\n",
        "  spisok_values = list(sample.values)\n",
        "  spisok_values = '!!'.join(spisok_values)\n",
        "  spisok_values = spisok_values.replace(', ', '!!')\n",
        "  spisok_values = spisok_values.split('!!')\n",
        "  sl = {}\n",
        "  from operator import itemgetter\n",
        "\n",
        "  for word in spisok_values:\n",
        "    if word not in sl:\n",
        "      sl[word] = 1\n",
        "    else: \n",
        "      sl[word] += 1\n",
        "  top_10 = []\n",
        "  others = []\n",
        "  for k, v in sorted(sl.items(), key=itemgetter(1), reverse=True):\n",
        "      if len(top_10) < 10:\n",
        "        top_10.append((k,v))\n",
        "      else:\n",
        "        others.append((k))\n",
        "\n",
        "  for i in top_10:\n",
        "    print('value:',i[0],',count:',i[1])\n",
        "  if others:\n",
        "    print('остальное:')\n",
        "    print(*others, sep=',')\n",
        "  print('------------------------')\n",
        "  if 'неизвестно' in ' '.join(spisok_values):\n",
        "    print('есть неизвестные значения')\n",
        "  else:\n",
        "    print('неизвестных значений нет')"
      ],
      "metadata": {
        "id": "Z79sTWo9rtmA"
      },
      "execution_count": 18,
      "outputs": []
    },
    {
      "cell_type": "code",
      "source": [
        "describe_counter(df['weapon'])"
      ],
      "metadata": {
        "colab": {
          "base_uri": "https://localhost:8080/"
        },
        "id": "_6ZYRh_Xr7xw",
        "outputId": "5f66114b-1450-404c-eb87-7c2c901a0d20"
      },
      "execution_count": 19,
      "outputs": [
        {
          "output_type": "stream",
          "name": "stdout",
          "text": [
            "value: голые руки ,count: 62\n",
            "value: нож ,count: 57\n",
            "value: пистолет ,count: 29\n",
            "value: веревка ,count: 17\n",
            "value: топор ,count: 13\n",
            "value: молоток ,count: 9\n",
            "value: верёвка ,count: 8\n",
            "value: яд ,count: 6\n",
            "value: револьвер ,count: 5\n",
            "value: дробовик ,count: 4\n",
            "остальное:\n",
            "лекарство,плоскогубцы,кухонный нож,поджог,инсулин,чулок,соляная кислота,щипцы,снотворное,бита,кислота,кувалда,палка,удавка,ружье,мачете,обрез,шлейки сумки,рукава куртки,шнурок,лом,пила,электрошокер,киянка,пояс,талий,нейролептики,транквилизаторы,кусачки,отвертка,швейцарский нож,пистолет-пулемет,мясорубка,жгут,складной нож,паяльник,скальпель,белая лента,гантеля,Нож,пневматический пистолет,штык,арбалет,тряпка,труба,металлический прут,телефонный провод,охотничий нож,кочерга,одежда жертв,шампур,кнут,камень,ремень,лекарства,арматура,дробавик,печь,холодное оружие,бельевая верёвка,провод,церемониальная румаль,ледоруб,проволока,футболка,кирпич,утюг,шнур,острый предмет,бейсбольная бита,дубинка,мор голодом,винтовка,тяжелый предмет\n",
            "------------------------\n",
            "неизвестных значений нет\n"
          ]
        }
      ]
    },
    {
      "cell_type": "markdown",
      "source": [
        "Мы видим, что самым популярным способом убийства являются голые руки, далее \n",
        "идет разное холодное и огнестрельное оружие.\n",
        "Создадим фичи, отвечающие было ли совершенно убийство голыми руками, холодным оружием, огнестрельным, задушен ли человек. Все остальные способы оружия объедим в признак \"прочее\"."
      ],
      "metadata": {
        "id": "vKYrsn0RUk5k"
      }
    },
    {
      "cell_type": "code",
      "source": [
        "df['weapon_hands'] = df['weapon'].str.find('руки')\n",
        "df['weapon_hands'] = np.where(df['weapon_hands'] != -1, 1, 0)"
      ],
      "metadata": {
        "id": "f671-9tEUk8L"
      },
      "execution_count": 20,
      "outputs": []
    },
    {
      "cell_type": "code",
      "source": [
        "df['weapon_cold_knife'] = df['weapon'].str.find('нож')\n",
        "df['weapon_cold_knife'] = np.where(df['weapon_cold_knife'] != -1, 1, 0)\n",
        "\n",
        "df['weapon_cold_axe'] = df['weapon'].str.find('топор')\n",
        "df['weapon_cold_axe'] = np.where(df['weapon_cold_axe'] != -1, 1, 0)\n",
        "\n",
        "df['weapon_cold_hummer'] = df['weapon'].str.find('молоток')\n",
        "df['weapon_cold_hummer'] = np.where(df['weapon_cold_hummer'] != -1, 1, 0)\n",
        "\n",
        "df['weapon_cold_others'] = df['weapon'].str.find('плоскогубцы')\n",
        "df['weapon_cold_others'] = np.where(df['weapon_cold_others'] != -1, 1, 0)\n",
        "\n",
        "df['weapon_cold'] = np.where(df['weapon_cold_knife'] + df['weapon_cold_axe'] + df['weapon_cold_hummer'] + df['weapon_cold_others'] > 0, 1, 0)\n",
        "df.drop(['weapon_cold_knife', 'weapon_cold_axe', 'weapon_cold_hummer', 'weapon_cold_others' ], axis=1, inplace=True)"
      ],
      "metadata": {
        "id": "bzzzn2yPUk-m"
      },
      "execution_count": 21,
      "outputs": []
    },
    {
      "cell_type": "code",
      "source": [
        "df['weapon_fire_gun'] = df['weapon'].str.find('пистолет')\n",
        "df['weapon_fire_gun'] = np.where(df['weapon_fire_gun'] != -1, 1, 0)\n",
        "\n",
        "df['weapon_fire_gun_r'] = df['weapon'].str.find('револьвер')\n",
        "df['weapon_fire_gun_r'] = np.where(df['weapon_fire_gun_r'] != -1, 1, 0)\n",
        "\n",
        "df['weapon_fire_gun_d'] = df['weapon'].str.find('дробовик')\n",
        "df['weapon_fire_gun_d'] = np.where(df['weapon_fire_gun_d'] != -1, 1, 0)\n",
        "\n",
        "df['weapon_fire'] = np.where(df['weapon_fire_gun'] + df['weapon_fire_gun_r'] + df['weapon_fire_gun_d'] > 0, 1, 0)\n",
        "df.drop(['weapon_fire_gun', 'weapon_fire_gun_r', 'weapon_fire_gun_d'], axis=1, inplace=True)"
      ],
      "metadata": {
        "id": "kWSuQJpQlqCn"
      },
      "execution_count": 22,
      "outputs": []
    },
    {
      "cell_type": "code",
      "source": [
        "df['weapon_core_1'] = df['weapon'].str.find('веревка')\n",
        "df['weapon_core_1'] = np.where(df['weapon_core_1'] != -1, 1, 0)\n",
        "\n",
        "df['weapon_core_2'] = df['weapon'].str.find('верёвка')\n",
        "df['weapon_core_2'] = np.where(df['weapon_core_2'] != -1, 1, 0)\n",
        "\n",
        "df['weapon_core_3'] = df['weapon'].str.find('чулок')\n",
        "df['weapon_core_3'] = np.where(df['weapon_core_3'] != -1, 1, 0)\n",
        "\n",
        "df['weapon_core'] = np.where(df['weapon_core_1'] + df['weapon_core_2'] + df['weapon_core_3'] > 0, 1, 0)\n",
        "df.drop(['weapon_core_1', 'weapon_core_2', 'weapon_core_3'], axis=1, inplace=True)"
      ],
      "metadata": {
        "id": "J9QwP_hNlqFv"
      },
      "execution_count": 23,
      "outputs": []
    },
    {
      "cell_type": "code",
      "source": [
        "df['weapon_others'] = np.where(df['weapon_core'] + df['weapon_fire'] + df['weapon_cold'] + df['weapon_hands'] == 0, 1, 0)\n",
        "df = df.drop(['weapon'], axis = 1)"
      ],
      "metadata": {
        "id": "fSUxtX_hlqIi"
      },
      "execution_count": 24,
      "outputs": []
    },
    {
      "cell_type": "code",
      "source": [
        "df.head()"
      ],
      "metadata": {
        "colab": {
          "base_uri": "https://localhost:8080/",
          "height": 409
        },
        "id": "oh4UKNixlqLS",
        "outputId": "3051ba2f-5304-446c-e05e-945004d22001"
      },
      "execution_count": 25,
      "outputs": [
        {
          "output_type": "execute_result",
          "data": {
            "text/plain": [
              "                           type_weapon            way_weapon  \\\n",
              "0                 убийство, ограбление  сбрасывание с высоты   \n",
              "1                             убийство            отравление   \n",
              "2  убийство, изнасилование, некрофилия              удушение   \n",
              "3              убийство, изнасилование              удушение   \n",
              "4              убийство, изнасилование              удушение   \n",
              "\n",
              "            motive_weapon     place amount of victims age of victim  \\\n",
              "0               корыстный     город                70   от 15 до 30   \n",
              "1    привлечение внимания  больница                 4  от 0,2 до 11   \n",
              "2  сексуальный, корыстный     город                15   от 13 до 20   \n",
              "3             сексуальный       лес                53    от 7 до 40   \n",
              "4             сексуальный     город                 3   от 10 до 11   \n",
              "\n",
              "  gender of the victim age of the criminal        criminal education  \\\n",
              "0                   мж                  30                   среднее   \n",
              "1                   мж                  23  среднее профессиональное   \n",
              "2                    ж                  20  среднее профессиональное   \n",
              "3                   мж               18-30                 начальное   \n",
              "4                    ж          неизвестно                неизвестно   \n",
              "\n",
              "  m.s. criminal        type_cr            psychotype_cr psycho_cr gender_cr  \\\n",
              "0           нет  меркантильный  социально дезадаптивный       нет         м   \n",
              "1           нет    властолюбец  социально дезадаптивный   сильное         ж   \n",
              "2           нет       гедонист     социально адаптивный   среднее         м   \n",
              "3           нет    властолюбец  социально дезадаптивный   среднее         м   \n",
              "4    неизвестно       гедонист     социально адаптивный   сильное         м   \n",
              "\n",
              "             profession_cr  weapon_hands  weapon_cold  weapon_fire  \\\n",
              "0                      нет             1            0            0   \n",
              "1                медсестра             0            0            0   \n",
              "2  грузчик, военнослужащий             1            0            0   \n",
              "3                      нет             1            0            0   \n",
              "4               неизвестно             1            0            0   \n",
              "\n",
              "   weapon_core  weapon_others  \n",
              "0            0              0  \n",
              "1            0              1  \n",
              "2            0              0  \n",
              "3            0              0  \n",
              "4            0              0  "
            ],
            "text/html": [
              "\n",
              "  <div id=\"df-224439a3-4221-4968-9c97-1f62a92635ef\">\n",
              "    <div class=\"colab-df-container\">\n",
              "      <div>\n",
              "<style scoped>\n",
              "    .dataframe tbody tr th:only-of-type {\n",
              "        vertical-align: middle;\n",
              "    }\n",
              "\n",
              "    .dataframe tbody tr th {\n",
              "        vertical-align: top;\n",
              "    }\n",
              "\n",
              "    .dataframe thead th {\n",
              "        text-align: right;\n",
              "    }\n",
              "</style>\n",
              "<table border=\"1\" class=\"dataframe\">\n",
              "  <thead>\n",
              "    <tr style=\"text-align: right;\">\n",
              "      <th></th>\n",
              "      <th>type_weapon</th>\n",
              "      <th>way_weapon</th>\n",
              "      <th>motive_weapon</th>\n",
              "      <th>place</th>\n",
              "      <th>amount of victims</th>\n",
              "      <th>age of victim</th>\n",
              "      <th>gender of the victim</th>\n",
              "      <th>age of the criminal</th>\n",
              "      <th>criminal education</th>\n",
              "      <th>m.s. criminal</th>\n",
              "      <th>type_cr</th>\n",
              "      <th>psychotype_cr</th>\n",
              "      <th>psycho_cr</th>\n",
              "      <th>gender_cr</th>\n",
              "      <th>profession_cr</th>\n",
              "      <th>weapon_hands</th>\n",
              "      <th>weapon_cold</th>\n",
              "      <th>weapon_fire</th>\n",
              "      <th>weapon_core</th>\n",
              "      <th>weapon_others</th>\n",
              "    </tr>\n",
              "  </thead>\n",
              "  <tbody>\n",
              "    <tr>\n",
              "      <th>0</th>\n",
              "      <td>убийство, ограбление</td>\n",
              "      <td>сбрасывание с высоты</td>\n",
              "      <td>корыстный</td>\n",
              "      <td>город</td>\n",
              "      <td>70</td>\n",
              "      <td>от 15 до 30</td>\n",
              "      <td>мж</td>\n",
              "      <td>30</td>\n",
              "      <td>среднее</td>\n",
              "      <td>нет</td>\n",
              "      <td>меркантильный</td>\n",
              "      <td>социально дезадаптивный</td>\n",
              "      <td>нет</td>\n",
              "      <td>м</td>\n",
              "      <td>нет</td>\n",
              "      <td>1</td>\n",
              "      <td>0</td>\n",
              "      <td>0</td>\n",
              "      <td>0</td>\n",
              "      <td>0</td>\n",
              "    </tr>\n",
              "    <tr>\n",
              "      <th>1</th>\n",
              "      <td>убийство</td>\n",
              "      <td>отравление</td>\n",
              "      <td>привлечение внимания</td>\n",
              "      <td>больница</td>\n",
              "      <td>4</td>\n",
              "      <td>от 0,2 до 11</td>\n",
              "      <td>мж</td>\n",
              "      <td>23</td>\n",
              "      <td>среднее профессиональное</td>\n",
              "      <td>нет</td>\n",
              "      <td>властолюбец</td>\n",
              "      <td>социально дезадаптивный</td>\n",
              "      <td>сильное</td>\n",
              "      <td>ж</td>\n",
              "      <td>медсестра</td>\n",
              "      <td>0</td>\n",
              "      <td>0</td>\n",
              "      <td>0</td>\n",
              "      <td>0</td>\n",
              "      <td>1</td>\n",
              "    </tr>\n",
              "    <tr>\n",
              "      <th>2</th>\n",
              "      <td>убийство, изнасилование, некрофилия</td>\n",
              "      <td>удушение</td>\n",
              "      <td>сексуальный, корыстный</td>\n",
              "      <td>город</td>\n",
              "      <td>15</td>\n",
              "      <td>от 13 до 20</td>\n",
              "      <td>ж</td>\n",
              "      <td>20</td>\n",
              "      <td>среднее профессиональное</td>\n",
              "      <td>нет</td>\n",
              "      <td>гедонист</td>\n",
              "      <td>социально адаптивный</td>\n",
              "      <td>среднее</td>\n",
              "      <td>м</td>\n",
              "      <td>грузчик, военнослужащий</td>\n",
              "      <td>1</td>\n",
              "      <td>0</td>\n",
              "      <td>0</td>\n",
              "      <td>0</td>\n",
              "      <td>0</td>\n",
              "    </tr>\n",
              "    <tr>\n",
              "      <th>3</th>\n",
              "      <td>убийство, изнасилование</td>\n",
              "      <td>удушение</td>\n",
              "      <td>сексуальный</td>\n",
              "      <td>лес</td>\n",
              "      <td>53</td>\n",
              "      <td>от 7 до 40</td>\n",
              "      <td>мж</td>\n",
              "      <td>18-30</td>\n",
              "      <td>начальное</td>\n",
              "      <td>нет</td>\n",
              "      <td>властолюбец</td>\n",
              "      <td>социально дезадаптивный</td>\n",
              "      <td>среднее</td>\n",
              "      <td>м</td>\n",
              "      <td>нет</td>\n",
              "      <td>1</td>\n",
              "      <td>0</td>\n",
              "      <td>0</td>\n",
              "      <td>0</td>\n",
              "      <td>0</td>\n",
              "    </tr>\n",
              "    <tr>\n",
              "      <th>4</th>\n",
              "      <td>убийство, изнасилование</td>\n",
              "      <td>удушение</td>\n",
              "      <td>сексуальный</td>\n",
              "      <td>город</td>\n",
              "      <td>3</td>\n",
              "      <td>от 10 до 11</td>\n",
              "      <td>ж</td>\n",
              "      <td>неизвестно</td>\n",
              "      <td>неизвестно</td>\n",
              "      <td>неизвестно</td>\n",
              "      <td>гедонист</td>\n",
              "      <td>социально адаптивный</td>\n",
              "      <td>сильное</td>\n",
              "      <td>м</td>\n",
              "      <td>неизвестно</td>\n",
              "      <td>1</td>\n",
              "      <td>0</td>\n",
              "      <td>0</td>\n",
              "      <td>0</td>\n",
              "      <td>0</td>\n",
              "    </tr>\n",
              "  </tbody>\n",
              "</table>\n",
              "</div>\n",
              "      <button class=\"colab-df-convert\" onclick=\"convertToInteractive('df-224439a3-4221-4968-9c97-1f62a92635ef')\"\n",
              "              title=\"Convert this dataframe to an interactive table.\"\n",
              "              style=\"display:none;\">\n",
              "        \n",
              "  <svg xmlns=\"http://www.w3.org/2000/svg\" height=\"24px\"viewBox=\"0 0 24 24\"\n",
              "       width=\"24px\">\n",
              "    <path d=\"M0 0h24v24H0V0z\" fill=\"none\"/>\n",
              "    <path d=\"M18.56 5.44l.94 2.06.94-2.06 2.06-.94-2.06-.94-.94-2.06-.94 2.06-2.06.94zm-11 1L8.5 8.5l.94-2.06 2.06-.94-2.06-.94L8.5 2.5l-.94 2.06-2.06.94zm10 10l.94 2.06.94-2.06 2.06-.94-2.06-.94-.94-2.06-.94 2.06-2.06.94z\"/><path d=\"M17.41 7.96l-1.37-1.37c-.4-.4-.92-.59-1.43-.59-.52 0-1.04.2-1.43.59L10.3 9.45l-7.72 7.72c-.78.78-.78 2.05 0 2.83L4 21.41c.39.39.9.59 1.41.59.51 0 1.02-.2 1.41-.59l7.78-7.78 2.81-2.81c.8-.78.8-2.07 0-2.86zM5.41 20L4 18.59l7.72-7.72 1.47 1.35L5.41 20z\"/>\n",
              "  </svg>\n",
              "      </button>\n",
              "      \n",
              "  <style>\n",
              "    .colab-df-container {\n",
              "      display:flex;\n",
              "      flex-wrap:wrap;\n",
              "      gap: 12px;\n",
              "    }\n",
              "\n",
              "    .colab-df-convert {\n",
              "      background-color: #E8F0FE;\n",
              "      border: none;\n",
              "      border-radius: 50%;\n",
              "      cursor: pointer;\n",
              "      display: none;\n",
              "      fill: #1967D2;\n",
              "      height: 32px;\n",
              "      padding: 0 0 0 0;\n",
              "      width: 32px;\n",
              "    }\n",
              "\n",
              "    .colab-df-convert:hover {\n",
              "      background-color: #E2EBFA;\n",
              "      box-shadow: 0px 1px 2px rgba(60, 64, 67, 0.3), 0px 1px 3px 1px rgba(60, 64, 67, 0.15);\n",
              "      fill: #174EA6;\n",
              "    }\n",
              "\n",
              "    [theme=dark] .colab-df-convert {\n",
              "      background-color: #3B4455;\n",
              "      fill: #D2E3FC;\n",
              "    }\n",
              "\n",
              "    [theme=dark] .colab-df-convert:hover {\n",
              "      background-color: #434B5C;\n",
              "      box-shadow: 0px 1px 3px 1px rgba(0, 0, 0, 0.15);\n",
              "      filter: drop-shadow(0px 1px 2px rgba(0, 0, 0, 0.3));\n",
              "      fill: #FFFFFF;\n",
              "    }\n",
              "  </style>\n",
              "\n",
              "      <script>\n",
              "        const buttonEl =\n",
              "          document.querySelector('#df-224439a3-4221-4968-9c97-1f62a92635ef button.colab-df-convert');\n",
              "        buttonEl.style.display =\n",
              "          google.colab.kernel.accessAllowed ? 'block' : 'none';\n",
              "\n",
              "        async function convertToInteractive(key) {\n",
              "          const element = document.querySelector('#df-224439a3-4221-4968-9c97-1f62a92635ef');\n",
              "          const dataTable =\n",
              "            await google.colab.kernel.invokeFunction('convertToInteractive',\n",
              "                                                     [key], {});\n",
              "          if (!dataTable) return;\n",
              "\n",
              "          const docLinkHtml = 'Like what you see? Visit the ' +\n",
              "            '<a target=\"_blank\" href=https://colab.research.google.com/notebooks/data_table.ipynb>data table notebook</a>'\n",
              "            + ' to learn more about interactive tables.';\n",
              "          element.innerHTML = '';\n",
              "          dataTable['output_type'] = 'display_data';\n",
              "          await google.colab.output.renderOutput(dataTable, element);\n",
              "          const docLink = document.createElement('div');\n",
              "          docLink.innerHTML = docLinkHtml;\n",
              "          element.appendChild(docLink);\n",
              "        }\n",
              "      </script>\n",
              "    </div>\n",
              "  </div>\n",
              "  "
            ]
          },
          "metadata": {},
          "execution_count": 25
        }
      ]
    },
    {
      "cell_type": "markdown",
      "source": [
        "Рассмотрим следующий признак: типы преступлений."
      ],
      "metadata": {
        "id": "lBOK4XjdlqOG"
      }
    },
    {
      "cell_type": "code",
      "source": [
        "df.type_weapon[df.type_weapon == 'убийства'] = 'убийство'\n",
        "describe_counter(df.type_weapon)"
      ],
      "metadata": {
        "colab": {
          "base_uri": "https://localhost:8080/"
        },
        "id": "7hjW4WmWlqRB",
        "outputId": "a326e14e-102d-45b1-bf7c-e1aa587d69ca"
      },
      "execution_count": 26,
      "outputs": [
        {
          "output_type": "stream",
          "name": "stdout",
          "text": [
            "value: убийство ,count: 174\n",
            "value: изнасилование ,count: 108\n",
            "value: ограбление ,count: 32\n",
            "value: убийства ,count: 11\n",
            "value: каннибализм ,count: 5\n",
            "value: некрофилия ,count: 4\n",
            "value: похищение ,count: 1\n",
            "------------------------\n",
            "неизвестных значений нет\n"
          ]
        },
        {
          "output_type": "stream",
          "name": "stderr",
          "text": [
            "/usr/local/lib/python3.7/dist-packages/ipykernel_launcher.py:1: SettingWithCopyWarning: \n",
            "A value is trying to be set on a copy of a slice from a DataFrame\n",
            "\n",
            "See the caveats in the documentation: https://pandas.pydata.org/pandas-docs/stable/user_guide/indexing.html#returning-a-view-versus-a-copy\n",
            "  \"\"\"Entry point for launching an IPython kernel.\n"
          ]
        }
      ]
    },
    {
      "cell_type": "markdown",
      "source": [
        "Произведём аналогичный парсинг признака. Разделим типы на 4 категории: убийство, изнасилование, ограбление, и другие. "
      ],
      "metadata": {
        "id": "3pe9s0sOlqUL"
      }
    },
    {
      "cell_type": "code",
      "source": [
        "df['type_murder_1'] = df['type_weapon'].str.find('убийство')\n",
        "df['type_murder_1'] = np.where(df['type_murder_1'] != -1, 1, 0)\n",
        "\n",
        "df['type_murder_2'] = df['type_weapon'].str.find('убийства')\n",
        "df['type_murder_2'] = np.where(df['type_murder_2'] != -1, 1, 0)\n",
        "\n",
        "df['type_rape'] = df['type_weapon'].str.find('изнасилование')\n",
        "df['type_rape'] = np.where(df['type_rape'] != -1, 1, 0)\n",
        "\n",
        "df['type_robbery'] = df['type_weapon'].str.find('ограбление')\n",
        "df['type_robbery'] = np.where(df['type_robbery'] != -1, 1, 0)\n",
        "\n",
        "df['type_murder'] = np.where(df['type_murder_1'] + df['type_murder_2']> 0, 1, 0)\n",
        "\n",
        "df.drop(['type_murder_1', 'type_murder_2'], axis=1, inplace=True)\n",
        "df['type_others'] = np.where(df['type_murder'] + df['type_rape'] + df['type_robbery'] == 0, 1, 0)\n",
        "df = df.drop(['type_weapon'], axis = 1)"
      ],
      "metadata": {
        "id": "Ea7PaFZolqXc"
      },
      "execution_count": 27,
      "outputs": []
    },
    {
      "cell_type": "code",
      "source": [
        "df.head()"
      ],
      "metadata": {
        "colab": {
          "base_uri": "https://localhost:8080/",
          "height": 421
        },
        "id": "pItP_3P9tOnJ",
        "outputId": "46910edf-7d35-4d48-98f8-35da415af124"
      },
      "execution_count": 28,
      "outputs": [
        {
          "output_type": "execute_result",
          "data": {
            "text/plain": [
              "             way_weapon           motive_weapon     place amount of victims  \\\n",
              "0  сбрасывание с высоты               корыстный     город                70   \n",
              "1            отравление    привлечение внимания  больница                 4   \n",
              "2              удушение  сексуальный, корыстный     город                15   \n",
              "3              удушение             сексуальный       лес                53   \n",
              "4              удушение             сексуальный     город                 3   \n",
              "\n",
              "  age of victim gender of the victim age of the criminal  \\\n",
              "0   от 15 до 30                   мж                  30   \n",
              "1  от 0,2 до 11                   мж                  23   \n",
              "2   от 13 до 20                    ж                  20   \n",
              "3    от 7 до 40                   мж               18-30   \n",
              "4   от 10 до 11                    ж          неизвестно   \n",
              "\n",
              "         criminal education m.s. criminal        type_cr  ...  \\\n",
              "0                   среднее           нет  меркантильный  ...   \n",
              "1  среднее профессиональное           нет    властолюбец  ...   \n",
              "2  среднее профессиональное           нет       гедонист  ...   \n",
              "3                 начальное           нет    властолюбец  ...   \n",
              "4                неизвестно    неизвестно       гедонист  ...   \n",
              "\n",
              "             profession_cr weapon_hands weapon_cold weapon_fire  weapon_core  \\\n",
              "0                      нет            1           0           0            0   \n",
              "1                медсестра            0           0           0            0   \n",
              "2  грузчик, военнослужащий            1           0           0            0   \n",
              "3                      нет            1           0           0            0   \n",
              "4               неизвестно            1           0           0            0   \n",
              "\n",
              "   weapon_others  type_rape  type_robbery  type_murder  type_others  \n",
              "0              0          0             1            1            0  \n",
              "1              1          0             0            1            0  \n",
              "2              0          1             0            1            0  \n",
              "3              0          1             0            1            0  \n",
              "4              0          1             0            1            0  \n",
              "\n",
              "[5 rows x 23 columns]"
            ],
            "text/html": [
              "\n",
              "  <div id=\"df-3393c684-04c5-438f-8af4-7d252e429b64\">\n",
              "    <div class=\"colab-df-container\">\n",
              "      <div>\n",
              "<style scoped>\n",
              "    .dataframe tbody tr th:only-of-type {\n",
              "        vertical-align: middle;\n",
              "    }\n",
              "\n",
              "    .dataframe tbody tr th {\n",
              "        vertical-align: top;\n",
              "    }\n",
              "\n",
              "    .dataframe thead th {\n",
              "        text-align: right;\n",
              "    }\n",
              "</style>\n",
              "<table border=\"1\" class=\"dataframe\">\n",
              "  <thead>\n",
              "    <tr style=\"text-align: right;\">\n",
              "      <th></th>\n",
              "      <th>way_weapon</th>\n",
              "      <th>motive_weapon</th>\n",
              "      <th>place</th>\n",
              "      <th>amount of victims</th>\n",
              "      <th>age of victim</th>\n",
              "      <th>gender of the victim</th>\n",
              "      <th>age of the criminal</th>\n",
              "      <th>criminal education</th>\n",
              "      <th>m.s. criminal</th>\n",
              "      <th>type_cr</th>\n",
              "      <th>...</th>\n",
              "      <th>profession_cr</th>\n",
              "      <th>weapon_hands</th>\n",
              "      <th>weapon_cold</th>\n",
              "      <th>weapon_fire</th>\n",
              "      <th>weapon_core</th>\n",
              "      <th>weapon_others</th>\n",
              "      <th>type_rape</th>\n",
              "      <th>type_robbery</th>\n",
              "      <th>type_murder</th>\n",
              "      <th>type_others</th>\n",
              "    </tr>\n",
              "  </thead>\n",
              "  <tbody>\n",
              "    <tr>\n",
              "      <th>0</th>\n",
              "      <td>сбрасывание с высоты</td>\n",
              "      <td>корыстный</td>\n",
              "      <td>город</td>\n",
              "      <td>70</td>\n",
              "      <td>от 15 до 30</td>\n",
              "      <td>мж</td>\n",
              "      <td>30</td>\n",
              "      <td>среднее</td>\n",
              "      <td>нет</td>\n",
              "      <td>меркантильный</td>\n",
              "      <td>...</td>\n",
              "      <td>нет</td>\n",
              "      <td>1</td>\n",
              "      <td>0</td>\n",
              "      <td>0</td>\n",
              "      <td>0</td>\n",
              "      <td>0</td>\n",
              "      <td>0</td>\n",
              "      <td>1</td>\n",
              "      <td>1</td>\n",
              "      <td>0</td>\n",
              "    </tr>\n",
              "    <tr>\n",
              "      <th>1</th>\n",
              "      <td>отравление</td>\n",
              "      <td>привлечение внимания</td>\n",
              "      <td>больница</td>\n",
              "      <td>4</td>\n",
              "      <td>от 0,2 до 11</td>\n",
              "      <td>мж</td>\n",
              "      <td>23</td>\n",
              "      <td>среднее профессиональное</td>\n",
              "      <td>нет</td>\n",
              "      <td>властолюбец</td>\n",
              "      <td>...</td>\n",
              "      <td>медсестра</td>\n",
              "      <td>0</td>\n",
              "      <td>0</td>\n",
              "      <td>0</td>\n",
              "      <td>0</td>\n",
              "      <td>1</td>\n",
              "      <td>0</td>\n",
              "      <td>0</td>\n",
              "      <td>1</td>\n",
              "      <td>0</td>\n",
              "    </tr>\n",
              "    <tr>\n",
              "      <th>2</th>\n",
              "      <td>удушение</td>\n",
              "      <td>сексуальный, корыстный</td>\n",
              "      <td>город</td>\n",
              "      <td>15</td>\n",
              "      <td>от 13 до 20</td>\n",
              "      <td>ж</td>\n",
              "      <td>20</td>\n",
              "      <td>среднее профессиональное</td>\n",
              "      <td>нет</td>\n",
              "      <td>гедонист</td>\n",
              "      <td>...</td>\n",
              "      <td>грузчик, военнослужащий</td>\n",
              "      <td>1</td>\n",
              "      <td>0</td>\n",
              "      <td>0</td>\n",
              "      <td>0</td>\n",
              "      <td>0</td>\n",
              "      <td>1</td>\n",
              "      <td>0</td>\n",
              "      <td>1</td>\n",
              "      <td>0</td>\n",
              "    </tr>\n",
              "    <tr>\n",
              "      <th>3</th>\n",
              "      <td>удушение</td>\n",
              "      <td>сексуальный</td>\n",
              "      <td>лес</td>\n",
              "      <td>53</td>\n",
              "      <td>от 7 до 40</td>\n",
              "      <td>мж</td>\n",
              "      <td>18-30</td>\n",
              "      <td>начальное</td>\n",
              "      <td>нет</td>\n",
              "      <td>властолюбец</td>\n",
              "      <td>...</td>\n",
              "      <td>нет</td>\n",
              "      <td>1</td>\n",
              "      <td>0</td>\n",
              "      <td>0</td>\n",
              "      <td>0</td>\n",
              "      <td>0</td>\n",
              "      <td>1</td>\n",
              "      <td>0</td>\n",
              "      <td>1</td>\n",
              "      <td>0</td>\n",
              "    </tr>\n",
              "    <tr>\n",
              "      <th>4</th>\n",
              "      <td>удушение</td>\n",
              "      <td>сексуальный</td>\n",
              "      <td>город</td>\n",
              "      <td>3</td>\n",
              "      <td>от 10 до 11</td>\n",
              "      <td>ж</td>\n",
              "      <td>неизвестно</td>\n",
              "      <td>неизвестно</td>\n",
              "      <td>неизвестно</td>\n",
              "      <td>гедонист</td>\n",
              "      <td>...</td>\n",
              "      <td>неизвестно</td>\n",
              "      <td>1</td>\n",
              "      <td>0</td>\n",
              "      <td>0</td>\n",
              "      <td>0</td>\n",
              "      <td>0</td>\n",
              "      <td>1</td>\n",
              "      <td>0</td>\n",
              "      <td>1</td>\n",
              "      <td>0</td>\n",
              "    </tr>\n",
              "  </tbody>\n",
              "</table>\n",
              "<p>5 rows × 23 columns</p>\n",
              "</div>\n",
              "      <button class=\"colab-df-convert\" onclick=\"convertToInteractive('df-3393c684-04c5-438f-8af4-7d252e429b64')\"\n",
              "              title=\"Convert this dataframe to an interactive table.\"\n",
              "              style=\"display:none;\">\n",
              "        \n",
              "  <svg xmlns=\"http://www.w3.org/2000/svg\" height=\"24px\"viewBox=\"0 0 24 24\"\n",
              "       width=\"24px\">\n",
              "    <path d=\"M0 0h24v24H0V0z\" fill=\"none\"/>\n",
              "    <path d=\"M18.56 5.44l.94 2.06.94-2.06 2.06-.94-2.06-.94-.94-2.06-.94 2.06-2.06.94zm-11 1L8.5 8.5l.94-2.06 2.06-.94-2.06-.94L8.5 2.5l-.94 2.06-2.06.94zm10 10l.94 2.06.94-2.06 2.06-.94-2.06-.94-.94-2.06-.94 2.06-2.06.94z\"/><path d=\"M17.41 7.96l-1.37-1.37c-.4-.4-.92-.59-1.43-.59-.52 0-1.04.2-1.43.59L10.3 9.45l-7.72 7.72c-.78.78-.78 2.05 0 2.83L4 21.41c.39.39.9.59 1.41.59.51 0 1.02-.2 1.41-.59l7.78-7.78 2.81-2.81c.8-.78.8-2.07 0-2.86zM5.41 20L4 18.59l7.72-7.72 1.47 1.35L5.41 20z\"/>\n",
              "  </svg>\n",
              "      </button>\n",
              "      \n",
              "  <style>\n",
              "    .colab-df-container {\n",
              "      display:flex;\n",
              "      flex-wrap:wrap;\n",
              "      gap: 12px;\n",
              "    }\n",
              "\n",
              "    .colab-df-convert {\n",
              "      background-color: #E8F0FE;\n",
              "      border: none;\n",
              "      border-radius: 50%;\n",
              "      cursor: pointer;\n",
              "      display: none;\n",
              "      fill: #1967D2;\n",
              "      height: 32px;\n",
              "      padding: 0 0 0 0;\n",
              "      width: 32px;\n",
              "    }\n",
              "\n",
              "    .colab-df-convert:hover {\n",
              "      background-color: #E2EBFA;\n",
              "      box-shadow: 0px 1px 2px rgba(60, 64, 67, 0.3), 0px 1px 3px 1px rgba(60, 64, 67, 0.15);\n",
              "      fill: #174EA6;\n",
              "    }\n",
              "\n",
              "    [theme=dark] .colab-df-convert {\n",
              "      background-color: #3B4455;\n",
              "      fill: #D2E3FC;\n",
              "    }\n",
              "\n",
              "    [theme=dark] .colab-df-convert:hover {\n",
              "      background-color: #434B5C;\n",
              "      box-shadow: 0px 1px 3px 1px rgba(0, 0, 0, 0.15);\n",
              "      filter: drop-shadow(0px 1px 2px rgba(0, 0, 0, 0.3));\n",
              "      fill: #FFFFFF;\n",
              "    }\n",
              "  </style>\n",
              "\n",
              "      <script>\n",
              "        const buttonEl =\n",
              "          document.querySelector('#df-3393c684-04c5-438f-8af4-7d252e429b64 button.colab-df-convert');\n",
              "        buttonEl.style.display =\n",
              "          google.colab.kernel.accessAllowed ? 'block' : 'none';\n",
              "\n",
              "        async function convertToInteractive(key) {\n",
              "          const element = document.querySelector('#df-3393c684-04c5-438f-8af4-7d252e429b64');\n",
              "          const dataTable =\n",
              "            await google.colab.kernel.invokeFunction('convertToInteractive',\n",
              "                                                     [key], {});\n",
              "          if (!dataTable) return;\n",
              "\n",
              "          const docLinkHtml = 'Like what you see? Visit the ' +\n",
              "            '<a target=\"_blank\" href=https://colab.research.google.com/notebooks/data_table.ipynb>data table notebook</a>'\n",
              "            + ' to learn more about interactive tables.';\n",
              "          element.innerHTML = '';\n",
              "          dataTable['output_type'] = 'display_data';\n",
              "          await google.colab.output.renderOutput(dataTable, element);\n",
              "          const docLink = document.createElement('div');\n",
              "          docLink.innerHTML = docLinkHtml;\n",
              "          element.appendChild(docLink);\n",
              "        }\n",
              "      </script>\n",
              "    </div>\n",
              "  </div>\n",
              "  "
            ]
          },
          "metadata": {},
          "execution_count": 28
        }
      ]
    },
    {
      "cell_type": "markdown",
      "source": [
        "Следующий признак: способ совершения преступления"
      ],
      "metadata": {
        "id": "ZlTTm3cCtOpj"
      }
    },
    {
      "cell_type": "code",
      "source": [
        "describe_counter(df.way_weapon)"
      ],
      "metadata": {
        "colab": {
          "base_uri": "https://localhost:8080/"
        },
        "id": "m6ikA1MytOr9",
        "outputId": "66d3ea85-4703-4275-8445-5ee43e5a00b3"
      },
      "execution_count": 29,
      "outputs": [
        {
          "output_type": "stream",
          "name": "stdout",
          "text": [
            "value: удушение ,count: 95\n",
            "value: ножевые ранения ,count: 34\n",
            "value: огнестрельные ранения ,count: 22\n",
            "value: отравление ,count: 13\n",
            "value: удар тупым предметом ,count: 8\n",
            "value: расстрел ,count: 7\n",
            "value: расчленение ,count: 7\n",
            "value: смертельные пытки ,count: 6\n",
            "value: утопление ,count: 6\n",
            "value: удушения ,count: 4\n",
            "остальное:\n",
            "нанесение колото-резаных ран,удар ножом,нанесение травм тупым предметом,удары топором,выстрелы из пистолета,колото-резанные раны,избиение,поджог,колото-резаные раны,удар тупым металлическим предметом,расчленение тела,выстрел в затылок,мор голодом,удар топором,нанесение ножевых ранений,выстрел в голову,расстрел из огнестрельного оружия,сбрасывание с высоты,удары тупыми и острыми предметами,убийство при помощи огнестрельного оружия,удары тупым металлическим предметом,удар тупым метталическим предметом,нанесение ударов топором,нанесение колото-резанных ран,смертельные выстрелы,выстрелы в затылок,имитация несчастного случая,отрезание половых органов,перерезание горла,странгуляция,атомата,удары тупым предметом,захоронение под действием алкоголя,аборт,перелом позвоночника,нанесение колото-режущих ран,удар молотком,ножевые и огнестрельные ранения,выстрелы из арбалета,удары палкой,нанесение телесных повреждений,многочисленные ножевые ранения,удары топором по голове,удар камнем по голове,многочисленные удары ножом,множественные ножевые ранения,выстрел из ружья,\tУдушение,нанесение ножевых или колото-резаных ран,удушье,удары по голове,перерез горла,множественные удары руками,выстрел из револьвера,халатность,препараты,удар по голове\n",
            "------------------------\n",
            "неизвестных значений нет\n"
          ]
        }
      ]
    },
    {
      "cell_type": "markdown",
      "source": [
        "Как мы видим топ-10 способов совершения преступления, напрямую кореллирует с оружиями убийства:\n",
        "удушье - убийство руками,\n",
        "ножевые ранения, удары тупым предметом - с помощью холодного оружия.\n",
        "Не будем использовать данный признак для дальнейшей работы, и просто его удалим.\n"
      ],
      "metadata": {
        "id": "onD-iJMOtOuW"
      }
    },
    {
      "cell_type": "code",
      "source": [
        "df = df.drop(['way_weapon'], axis=1)\n",
        "df.head()"
      ],
      "metadata": {
        "colab": {
          "base_uri": "https://localhost:8080/",
          "height": 421
        },
        "id": "u0JH3r7PtOwv",
        "outputId": "d7718699-d5e3-4e69-cf99-1e5e41cb996b"
      },
      "execution_count": 30,
      "outputs": [
        {
          "output_type": "execute_result",
          "data": {
            "text/plain": [
              "            motive_weapon     place amount of victims age of victim  \\\n",
              "0               корыстный     город                70   от 15 до 30   \n",
              "1    привлечение внимания  больница                 4  от 0,2 до 11   \n",
              "2  сексуальный, корыстный     город                15   от 13 до 20   \n",
              "3             сексуальный       лес                53    от 7 до 40   \n",
              "4             сексуальный     город                 3   от 10 до 11   \n",
              "\n",
              "  gender of the victim age of the criminal        criminal education  \\\n",
              "0                   мж                  30                   среднее   \n",
              "1                   мж                  23  среднее профессиональное   \n",
              "2                    ж                  20  среднее профессиональное   \n",
              "3                   мж               18-30                 начальное   \n",
              "4                    ж          неизвестно                неизвестно   \n",
              "\n",
              "  m.s. criminal        type_cr            psychotype_cr  ...  \\\n",
              "0           нет  меркантильный  социально дезадаптивный  ...   \n",
              "1           нет    властолюбец  социально дезадаптивный  ...   \n",
              "2           нет       гедонист     социально адаптивный  ...   \n",
              "3           нет    властолюбец  социально дезадаптивный  ...   \n",
              "4    неизвестно       гедонист     социально адаптивный  ...   \n",
              "\n",
              "             profession_cr weapon_hands weapon_cold  weapon_fire  weapon_core  \\\n",
              "0                      нет            1           0            0            0   \n",
              "1                медсестра            0           0            0            0   \n",
              "2  грузчик, военнослужащий            1           0            0            0   \n",
              "3                      нет            1           0            0            0   \n",
              "4               неизвестно            1           0            0            0   \n",
              "\n",
              "   weapon_others  type_rape  type_robbery  type_murder  type_others  \n",
              "0              0          0             1            1            0  \n",
              "1              1          0             0            1            0  \n",
              "2              0          1             0            1            0  \n",
              "3              0          1             0            1            0  \n",
              "4              0          1             0            1            0  \n",
              "\n",
              "[5 rows x 22 columns]"
            ],
            "text/html": [
              "\n",
              "  <div id=\"df-0970c770-c881-4d31-a7a7-73606642dd6b\">\n",
              "    <div class=\"colab-df-container\">\n",
              "      <div>\n",
              "<style scoped>\n",
              "    .dataframe tbody tr th:only-of-type {\n",
              "        vertical-align: middle;\n",
              "    }\n",
              "\n",
              "    .dataframe tbody tr th {\n",
              "        vertical-align: top;\n",
              "    }\n",
              "\n",
              "    .dataframe thead th {\n",
              "        text-align: right;\n",
              "    }\n",
              "</style>\n",
              "<table border=\"1\" class=\"dataframe\">\n",
              "  <thead>\n",
              "    <tr style=\"text-align: right;\">\n",
              "      <th></th>\n",
              "      <th>motive_weapon</th>\n",
              "      <th>place</th>\n",
              "      <th>amount of victims</th>\n",
              "      <th>age of victim</th>\n",
              "      <th>gender of the victim</th>\n",
              "      <th>age of the criminal</th>\n",
              "      <th>criminal education</th>\n",
              "      <th>m.s. criminal</th>\n",
              "      <th>type_cr</th>\n",
              "      <th>psychotype_cr</th>\n",
              "      <th>...</th>\n",
              "      <th>profession_cr</th>\n",
              "      <th>weapon_hands</th>\n",
              "      <th>weapon_cold</th>\n",
              "      <th>weapon_fire</th>\n",
              "      <th>weapon_core</th>\n",
              "      <th>weapon_others</th>\n",
              "      <th>type_rape</th>\n",
              "      <th>type_robbery</th>\n",
              "      <th>type_murder</th>\n",
              "      <th>type_others</th>\n",
              "    </tr>\n",
              "  </thead>\n",
              "  <tbody>\n",
              "    <tr>\n",
              "      <th>0</th>\n",
              "      <td>корыстный</td>\n",
              "      <td>город</td>\n",
              "      <td>70</td>\n",
              "      <td>от 15 до 30</td>\n",
              "      <td>мж</td>\n",
              "      <td>30</td>\n",
              "      <td>среднее</td>\n",
              "      <td>нет</td>\n",
              "      <td>меркантильный</td>\n",
              "      <td>социально дезадаптивный</td>\n",
              "      <td>...</td>\n",
              "      <td>нет</td>\n",
              "      <td>1</td>\n",
              "      <td>0</td>\n",
              "      <td>0</td>\n",
              "      <td>0</td>\n",
              "      <td>0</td>\n",
              "      <td>0</td>\n",
              "      <td>1</td>\n",
              "      <td>1</td>\n",
              "      <td>0</td>\n",
              "    </tr>\n",
              "    <tr>\n",
              "      <th>1</th>\n",
              "      <td>привлечение внимания</td>\n",
              "      <td>больница</td>\n",
              "      <td>4</td>\n",
              "      <td>от 0,2 до 11</td>\n",
              "      <td>мж</td>\n",
              "      <td>23</td>\n",
              "      <td>среднее профессиональное</td>\n",
              "      <td>нет</td>\n",
              "      <td>властолюбец</td>\n",
              "      <td>социально дезадаптивный</td>\n",
              "      <td>...</td>\n",
              "      <td>медсестра</td>\n",
              "      <td>0</td>\n",
              "      <td>0</td>\n",
              "      <td>0</td>\n",
              "      <td>0</td>\n",
              "      <td>1</td>\n",
              "      <td>0</td>\n",
              "      <td>0</td>\n",
              "      <td>1</td>\n",
              "      <td>0</td>\n",
              "    </tr>\n",
              "    <tr>\n",
              "      <th>2</th>\n",
              "      <td>сексуальный, корыстный</td>\n",
              "      <td>город</td>\n",
              "      <td>15</td>\n",
              "      <td>от 13 до 20</td>\n",
              "      <td>ж</td>\n",
              "      <td>20</td>\n",
              "      <td>среднее профессиональное</td>\n",
              "      <td>нет</td>\n",
              "      <td>гедонист</td>\n",
              "      <td>социально адаптивный</td>\n",
              "      <td>...</td>\n",
              "      <td>грузчик, военнослужащий</td>\n",
              "      <td>1</td>\n",
              "      <td>0</td>\n",
              "      <td>0</td>\n",
              "      <td>0</td>\n",
              "      <td>0</td>\n",
              "      <td>1</td>\n",
              "      <td>0</td>\n",
              "      <td>1</td>\n",
              "      <td>0</td>\n",
              "    </tr>\n",
              "    <tr>\n",
              "      <th>3</th>\n",
              "      <td>сексуальный</td>\n",
              "      <td>лес</td>\n",
              "      <td>53</td>\n",
              "      <td>от 7 до 40</td>\n",
              "      <td>мж</td>\n",
              "      <td>18-30</td>\n",
              "      <td>начальное</td>\n",
              "      <td>нет</td>\n",
              "      <td>властолюбец</td>\n",
              "      <td>социально дезадаптивный</td>\n",
              "      <td>...</td>\n",
              "      <td>нет</td>\n",
              "      <td>1</td>\n",
              "      <td>0</td>\n",
              "      <td>0</td>\n",
              "      <td>0</td>\n",
              "      <td>0</td>\n",
              "      <td>1</td>\n",
              "      <td>0</td>\n",
              "      <td>1</td>\n",
              "      <td>0</td>\n",
              "    </tr>\n",
              "    <tr>\n",
              "      <th>4</th>\n",
              "      <td>сексуальный</td>\n",
              "      <td>город</td>\n",
              "      <td>3</td>\n",
              "      <td>от 10 до 11</td>\n",
              "      <td>ж</td>\n",
              "      <td>неизвестно</td>\n",
              "      <td>неизвестно</td>\n",
              "      <td>неизвестно</td>\n",
              "      <td>гедонист</td>\n",
              "      <td>социально адаптивный</td>\n",
              "      <td>...</td>\n",
              "      <td>неизвестно</td>\n",
              "      <td>1</td>\n",
              "      <td>0</td>\n",
              "      <td>0</td>\n",
              "      <td>0</td>\n",
              "      <td>0</td>\n",
              "      <td>1</td>\n",
              "      <td>0</td>\n",
              "      <td>1</td>\n",
              "      <td>0</td>\n",
              "    </tr>\n",
              "  </tbody>\n",
              "</table>\n",
              "<p>5 rows × 22 columns</p>\n",
              "</div>\n",
              "      <button class=\"colab-df-convert\" onclick=\"convertToInteractive('df-0970c770-c881-4d31-a7a7-73606642dd6b')\"\n",
              "              title=\"Convert this dataframe to an interactive table.\"\n",
              "              style=\"display:none;\">\n",
              "        \n",
              "  <svg xmlns=\"http://www.w3.org/2000/svg\" height=\"24px\"viewBox=\"0 0 24 24\"\n",
              "       width=\"24px\">\n",
              "    <path d=\"M0 0h24v24H0V0z\" fill=\"none\"/>\n",
              "    <path d=\"M18.56 5.44l.94 2.06.94-2.06 2.06-.94-2.06-.94-.94-2.06-.94 2.06-2.06.94zm-11 1L8.5 8.5l.94-2.06 2.06-.94-2.06-.94L8.5 2.5l-.94 2.06-2.06.94zm10 10l.94 2.06.94-2.06 2.06-.94-2.06-.94-.94-2.06-.94 2.06-2.06.94z\"/><path d=\"M17.41 7.96l-1.37-1.37c-.4-.4-.92-.59-1.43-.59-.52 0-1.04.2-1.43.59L10.3 9.45l-7.72 7.72c-.78.78-.78 2.05 0 2.83L4 21.41c.39.39.9.59 1.41.59.51 0 1.02-.2 1.41-.59l7.78-7.78 2.81-2.81c.8-.78.8-2.07 0-2.86zM5.41 20L4 18.59l7.72-7.72 1.47 1.35L5.41 20z\"/>\n",
              "  </svg>\n",
              "      </button>\n",
              "      \n",
              "  <style>\n",
              "    .colab-df-container {\n",
              "      display:flex;\n",
              "      flex-wrap:wrap;\n",
              "      gap: 12px;\n",
              "    }\n",
              "\n",
              "    .colab-df-convert {\n",
              "      background-color: #E8F0FE;\n",
              "      border: none;\n",
              "      border-radius: 50%;\n",
              "      cursor: pointer;\n",
              "      display: none;\n",
              "      fill: #1967D2;\n",
              "      height: 32px;\n",
              "      padding: 0 0 0 0;\n",
              "      width: 32px;\n",
              "    }\n",
              "\n",
              "    .colab-df-convert:hover {\n",
              "      background-color: #E2EBFA;\n",
              "      box-shadow: 0px 1px 2px rgba(60, 64, 67, 0.3), 0px 1px 3px 1px rgba(60, 64, 67, 0.15);\n",
              "      fill: #174EA6;\n",
              "    }\n",
              "\n",
              "    [theme=dark] .colab-df-convert {\n",
              "      background-color: #3B4455;\n",
              "      fill: #D2E3FC;\n",
              "    }\n",
              "\n",
              "    [theme=dark] .colab-df-convert:hover {\n",
              "      background-color: #434B5C;\n",
              "      box-shadow: 0px 1px 3px 1px rgba(0, 0, 0, 0.15);\n",
              "      filter: drop-shadow(0px 1px 2px rgba(0, 0, 0, 0.3));\n",
              "      fill: #FFFFFF;\n",
              "    }\n",
              "  </style>\n",
              "\n",
              "      <script>\n",
              "        const buttonEl =\n",
              "          document.querySelector('#df-0970c770-c881-4d31-a7a7-73606642dd6b button.colab-df-convert');\n",
              "        buttonEl.style.display =\n",
              "          google.colab.kernel.accessAllowed ? 'block' : 'none';\n",
              "\n",
              "        async function convertToInteractive(key) {\n",
              "          const element = document.querySelector('#df-0970c770-c881-4d31-a7a7-73606642dd6b');\n",
              "          const dataTable =\n",
              "            await google.colab.kernel.invokeFunction('convertToInteractive',\n",
              "                                                     [key], {});\n",
              "          if (!dataTable) return;\n",
              "\n",
              "          const docLinkHtml = 'Like what you see? Visit the ' +\n",
              "            '<a target=\"_blank\" href=https://colab.research.google.com/notebooks/data_table.ipynb>data table notebook</a>'\n",
              "            + ' to learn more about interactive tables.';\n",
              "          element.innerHTML = '';\n",
              "          dataTable['output_type'] = 'display_data';\n",
              "          await google.colab.output.renderOutput(dataTable, element);\n",
              "          const docLink = document.createElement('div');\n",
              "          docLink.innerHTML = docLinkHtml;\n",
              "          element.appendChild(docLink);\n",
              "        }\n",
              "      </script>\n",
              "    </div>\n",
              "  </div>\n",
              "  "
            ]
          },
          "metadata": {},
          "execution_count": 30
        }
      ]
    },
    {
      "cell_type": "markdown",
      "source": [
        "Следующий признак: причина преступления"
      ],
      "metadata": {
        "id": "CzuFHZSStOzZ"
      }
    },
    {
      "cell_type": "code",
      "source": [
        "describe_counter(df.motive_weapon)"
      ],
      "metadata": {
        "colab": {
          "base_uri": "https://localhost:8080/"
        },
        "id": "LpHiaOrFtO17",
        "outputId": "6190e1e1-3a8d-4c5f-d63d-91214d3cf658"
      },
      "execution_count": 31,
      "outputs": [
        {
          "output_type": "stream",
          "name": "stdout",
          "text": [
            "value: сексуальный ,count: 110\n",
            "value: корыстный ,count: 61\n",
            "value: психическое расстройство ,count: 21\n",
            "value: садизм ,count: 15\n",
            "value: каннибализм ,count: 11\n",
            "value: мизогиния ,count: 11\n",
            "value: личная неприязнь ,count: 6\n",
            "value: получение удовольствия от убийства ,count: 4\n",
            "value: некрофилия ,count: 4\n",
            "value: месть ,count: 3\n",
            "остальное:\n",
            "желание прославиться,получение удовлитворения от убийства,гомофобия,привлечение внимания,ненависть к женщинам,желание очистить планету от гомосексуалистов и педофилов,неизвестно,очищение мира от наркоманов,педофилов,толстяков,гомосексуалистов,эвтаназия,сутенерство,избавление от свидетелей,садизм.,состояние аффекта,сокрытие факта изнасилования,получение удовольствия от убийств,получение удовольствия от преступлений,удовольствие от убийства,мизантропия,религиозный,расизм,пиромания,алкогольное опьянение,грабеж,устранение свидетелей,Корыстный,не установлен,ненависть к правоохранительным органам,устранение свидетилей ограбления,эксперементы с препаратами\n",
            "------------------------\n",
            "есть неизвестные значения\n"
          ]
        }
      ]
    },
    {
      "cell_type": "markdown",
      "source": [
        "Заметим что у нас появились пропущенные значения. Основываясь на наших данных заменим их на самое популярное значение - сексуальный. Также определим 5 основных причин преступлений: \"сексуальный\", \"корыстный\", \"псих.расстройство\", \n",
        "\"желания убийства и другие\"."
      ],
      "metadata": {
        "id": "75YiHE7EtO4R"
      }
    },
    {
      "cell_type": "code",
      "source": [
        "df.loc[df['motive_weapon'] == 'неизвестно', 'motive_weapon'] = 'сексуальный' \n",
        "\n",
        "df['motive_sex'] = df['motive_weapon'].str.find('сексуальный')\n",
        "df['motive_sex'] = np.where(df['motive_sex'] != -1, 1, 0)\n",
        "\n",
        "df['motive_benefit'] = df['motive_weapon'].str.find('корыстный')\n",
        "df['motive_benefit'] = np.where(df['motive_benefit'] != -1, 1, 0)\n",
        "\n",
        "df['motive_psyche_1'] = df['motive_weapon'].str.find('психическое расстройство')\n",
        "df['motive_psyche_1'] = np.where(df['motive_psyche_1'] != -1, 1, 0)\n",
        "\n",
        "df['motive_psyche_2'] = df['motive_weapon'].str.find('садизм')\n",
        "df['motive_psyche_2'] = np.where(df['motive_psyche_2'] != -1, 1, 0)\n",
        "\n",
        "df['motive_psyche_3'] = df['motive_weapon'].str.find('каннибализм')\n",
        "df['motive_psyche_3'] = np.where(df['motive_psyche_3'] != -1, 1, 0)\n",
        "\n",
        "df['motive_psyche_4'] = df['motive_weapon'].str.find('мизогиния')\n",
        "df['motive_psyche_4'] = np.where(df['motive_psyche_4'] != -1, 1, 0)\n",
        "\n",
        "df['motive_psyche'] = np.where(df['motive_psyche_1'] + df['motive_psyche_2'] + df['motive_psyche_3'] + df['motive_psyche_4'] > 0, 1, 0)\n",
        "\n",
        "\n",
        "df.drop(['motive_psyche_1', 'motive_psyche_2', 'motive_psyche_3', 'motive_psyche_4'], axis=1, inplace=True)\n",
        "df['motive_others'] = np.where(df['motive_sex'] + df['motive_benefit'] + df['motive_psyche'] == 0, 1, 0)\n",
        "df = df.drop(['motive_weapon'], axis = 1)"
      ],
      "metadata": {
        "id": "qSkpDDbetO60"
      },
      "execution_count": 32,
      "outputs": []
    },
    {
      "cell_type": "code",
      "source": [
        "df.head()"
      ],
      "metadata": {
        "colab": {
          "base_uri": "https://localhost:8080/",
          "height": 421
        },
        "id": "FUTcNDqgtO9E",
        "outputId": "d40b8f0c-3390-419f-e996-b421a03755c2"
      },
      "execution_count": 33,
      "outputs": [
        {
          "output_type": "execute_result",
          "data": {
            "text/plain": [
              "      place amount of victims age of victim gender of the victim  \\\n",
              "0     город                70   от 15 до 30                   мж   \n",
              "1  больница                 4  от 0,2 до 11                   мж   \n",
              "2     город                15   от 13 до 20                    ж   \n",
              "3       лес                53    от 7 до 40                   мж   \n",
              "4     город                 3   от 10 до 11                    ж   \n",
              "\n",
              "  age of the criminal        criminal education m.s. criminal        type_cr  \\\n",
              "0                  30                   среднее           нет  меркантильный   \n",
              "1                  23  среднее профессиональное           нет    властолюбец   \n",
              "2                  20  среднее профессиональное           нет       гедонист   \n",
              "3               18-30                 начальное           нет    властолюбец   \n",
              "4          неизвестно                неизвестно    неизвестно       гедонист   \n",
              "\n",
              "             psychotype_cr psycho_cr  ... weapon_core weapon_others  \\\n",
              "0  социально дезадаптивный       нет  ...           0             0   \n",
              "1  социально дезадаптивный   сильное  ...           0             1   \n",
              "2     социально адаптивный   среднее  ...           0             0   \n",
              "3  социально дезадаптивный   среднее  ...           0             0   \n",
              "4     социально адаптивный   сильное  ...           0             0   \n",
              "\n",
              "   type_rape  type_robbery  type_murder  type_others  motive_sex  \\\n",
              "0          0             1            1            0           0   \n",
              "1          0             0            1            0           0   \n",
              "2          1             0            1            0           1   \n",
              "3          1             0            1            0           1   \n",
              "4          1             0            1            0           1   \n",
              "\n",
              "   motive_benefit  motive_psyche  motive_others  \n",
              "0               1              0              0  \n",
              "1               0              0              1  \n",
              "2               1              0              0  \n",
              "3               0              0              0  \n",
              "4               0              0              0  \n",
              "\n",
              "[5 rows x 25 columns]"
            ],
            "text/html": [
              "\n",
              "  <div id=\"df-cbf69d90-277a-4728-8c09-7fc075687259\">\n",
              "    <div class=\"colab-df-container\">\n",
              "      <div>\n",
              "<style scoped>\n",
              "    .dataframe tbody tr th:only-of-type {\n",
              "        vertical-align: middle;\n",
              "    }\n",
              "\n",
              "    .dataframe tbody tr th {\n",
              "        vertical-align: top;\n",
              "    }\n",
              "\n",
              "    .dataframe thead th {\n",
              "        text-align: right;\n",
              "    }\n",
              "</style>\n",
              "<table border=\"1\" class=\"dataframe\">\n",
              "  <thead>\n",
              "    <tr style=\"text-align: right;\">\n",
              "      <th></th>\n",
              "      <th>place</th>\n",
              "      <th>amount of victims</th>\n",
              "      <th>age of victim</th>\n",
              "      <th>gender of the victim</th>\n",
              "      <th>age of the criminal</th>\n",
              "      <th>criminal education</th>\n",
              "      <th>m.s. criminal</th>\n",
              "      <th>type_cr</th>\n",
              "      <th>psychotype_cr</th>\n",
              "      <th>psycho_cr</th>\n",
              "      <th>...</th>\n",
              "      <th>weapon_core</th>\n",
              "      <th>weapon_others</th>\n",
              "      <th>type_rape</th>\n",
              "      <th>type_robbery</th>\n",
              "      <th>type_murder</th>\n",
              "      <th>type_others</th>\n",
              "      <th>motive_sex</th>\n",
              "      <th>motive_benefit</th>\n",
              "      <th>motive_psyche</th>\n",
              "      <th>motive_others</th>\n",
              "    </tr>\n",
              "  </thead>\n",
              "  <tbody>\n",
              "    <tr>\n",
              "      <th>0</th>\n",
              "      <td>город</td>\n",
              "      <td>70</td>\n",
              "      <td>от 15 до 30</td>\n",
              "      <td>мж</td>\n",
              "      <td>30</td>\n",
              "      <td>среднее</td>\n",
              "      <td>нет</td>\n",
              "      <td>меркантильный</td>\n",
              "      <td>социально дезадаптивный</td>\n",
              "      <td>нет</td>\n",
              "      <td>...</td>\n",
              "      <td>0</td>\n",
              "      <td>0</td>\n",
              "      <td>0</td>\n",
              "      <td>1</td>\n",
              "      <td>1</td>\n",
              "      <td>0</td>\n",
              "      <td>0</td>\n",
              "      <td>1</td>\n",
              "      <td>0</td>\n",
              "      <td>0</td>\n",
              "    </tr>\n",
              "    <tr>\n",
              "      <th>1</th>\n",
              "      <td>больница</td>\n",
              "      <td>4</td>\n",
              "      <td>от 0,2 до 11</td>\n",
              "      <td>мж</td>\n",
              "      <td>23</td>\n",
              "      <td>среднее профессиональное</td>\n",
              "      <td>нет</td>\n",
              "      <td>властолюбец</td>\n",
              "      <td>социально дезадаптивный</td>\n",
              "      <td>сильное</td>\n",
              "      <td>...</td>\n",
              "      <td>0</td>\n",
              "      <td>1</td>\n",
              "      <td>0</td>\n",
              "      <td>0</td>\n",
              "      <td>1</td>\n",
              "      <td>0</td>\n",
              "      <td>0</td>\n",
              "      <td>0</td>\n",
              "      <td>0</td>\n",
              "      <td>1</td>\n",
              "    </tr>\n",
              "    <tr>\n",
              "      <th>2</th>\n",
              "      <td>город</td>\n",
              "      <td>15</td>\n",
              "      <td>от 13 до 20</td>\n",
              "      <td>ж</td>\n",
              "      <td>20</td>\n",
              "      <td>среднее профессиональное</td>\n",
              "      <td>нет</td>\n",
              "      <td>гедонист</td>\n",
              "      <td>социально адаптивный</td>\n",
              "      <td>среднее</td>\n",
              "      <td>...</td>\n",
              "      <td>0</td>\n",
              "      <td>0</td>\n",
              "      <td>1</td>\n",
              "      <td>0</td>\n",
              "      <td>1</td>\n",
              "      <td>0</td>\n",
              "      <td>1</td>\n",
              "      <td>1</td>\n",
              "      <td>0</td>\n",
              "      <td>0</td>\n",
              "    </tr>\n",
              "    <tr>\n",
              "      <th>3</th>\n",
              "      <td>лес</td>\n",
              "      <td>53</td>\n",
              "      <td>от 7 до 40</td>\n",
              "      <td>мж</td>\n",
              "      <td>18-30</td>\n",
              "      <td>начальное</td>\n",
              "      <td>нет</td>\n",
              "      <td>властолюбец</td>\n",
              "      <td>социально дезадаптивный</td>\n",
              "      <td>среднее</td>\n",
              "      <td>...</td>\n",
              "      <td>0</td>\n",
              "      <td>0</td>\n",
              "      <td>1</td>\n",
              "      <td>0</td>\n",
              "      <td>1</td>\n",
              "      <td>0</td>\n",
              "      <td>1</td>\n",
              "      <td>0</td>\n",
              "      <td>0</td>\n",
              "      <td>0</td>\n",
              "    </tr>\n",
              "    <tr>\n",
              "      <th>4</th>\n",
              "      <td>город</td>\n",
              "      <td>3</td>\n",
              "      <td>от 10 до 11</td>\n",
              "      <td>ж</td>\n",
              "      <td>неизвестно</td>\n",
              "      <td>неизвестно</td>\n",
              "      <td>неизвестно</td>\n",
              "      <td>гедонист</td>\n",
              "      <td>социально адаптивный</td>\n",
              "      <td>сильное</td>\n",
              "      <td>...</td>\n",
              "      <td>0</td>\n",
              "      <td>0</td>\n",
              "      <td>1</td>\n",
              "      <td>0</td>\n",
              "      <td>1</td>\n",
              "      <td>0</td>\n",
              "      <td>1</td>\n",
              "      <td>0</td>\n",
              "      <td>0</td>\n",
              "      <td>0</td>\n",
              "    </tr>\n",
              "  </tbody>\n",
              "</table>\n",
              "<p>5 rows × 25 columns</p>\n",
              "</div>\n",
              "      <button class=\"colab-df-convert\" onclick=\"convertToInteractive('df-cbf69d90-277a-4728-8c09-7fc075687259')\"\n",
              "              title=\"Convert this dataframe to an interactive table.\"\n",
              "              style=\"display:none;\">\n",
              "        \n",
              "  <svg xmlns=\"http://www.w3.org/2000/svg\" height=\"24px\"viewBox=\"0 0 24 24\"\n",
              "       width=\"24px\">\n",
              "    <path d=\"M0 0h24v24H0V0z\" fill=\"none\"/>\n",
              "    <path d=\"M18.56 5.44l.94 2.06.94-2.06 2.06-.94-2.06-.94-.94-2.06-.94 2.06-2.06.94zm-11 1L8.5 8.5l.94-2.06 2.06-.94-2.06-.94L8.5 2.5l-.94 2.06-2.06.94zm10 10l.94 2.06.94-2.06 2.06-.94-2.06-.94-.94-2.06-.94 2.06-2.06.94z\"/><path d=\"M17.41 7.96l-1.37-1.37c-.4-.4-.92-.59-1.43-.59-.52 0-1.04.2-1.43.59L10.3 9.45l-7.72 7.72c-.78.78-.78 2.05 0 2.83L4 21.41c.39.39.9.59 1.41.59.51 0 1.02-.2 1.41-.59l7.78-7.78 2.81-2.81c.8-.78.8-2.07 0-2.86zM5.41 20L4 18.59l7.72-7.72 1.47 1.35L5.41 20z\"/>\n",
              "  </svg>\n",
              "      </button>\n",
              "      \n",
              "  <style>\n",
              "    .colab-df-container {\n",
              "      display:flex;\n",
              "      flex-wrap:wrap;\n",
              "      gap: 12px;\n",
              "    }\n",
              "\n",
              "    .colab-df-convert {\n",
              "      background-color: #E8F0FE;\n",
              "      border: none;\n",
              "      border-radius: 50%;\n",
              "      cursor: pointer;\n",
              "      display: none;\n",
              "      fill: #1967D2;\n",
              "      height: 32px;\n",
              "      padding: 0 0 0 0;\n",
              "      width: 32px;\n",
              "    }\n",
              "\n",
              "    .colab-df-convert:hover {\n",
              "      background-color: #E2EBFA;\n",
              "      box-shadow: 0px 1px 2px rgba(60, 64, 67, 0.3), 0px 1px 3px 1px rgba(60, 64, 67, 0.15);\n",
              "      fill: #174EA6;\n",
              "    }\n",
              "\n",
              "    [theme=dark] .colab-df-convert {\n",
              "      background-color: #3B4455;\n",
              "      fill: #D2E3FC;\n",
              "    }\n",
              "\n",
              "    [theme=dark] .colab-df-convert:hover {\n",
              "      background-color: #434B5C;\n",
              "      box-shadow: 0px 1px 3px 1px rgba(0, 0, 0, 0.15);\n",
              "      filter: drop-shadow(0px 1px 2px rgba(0, 0, 0, 0.3));\n",
              "      fill: #FFFFFF;\n",
              "    }\n",
              "  </style>\n",
              "\n",
              "      <script>\n",
              "        const buttonEl =\n",
              "          document.querySelector('#df-cbf69d90-277a-4728-8c09-7fc075687259 button.colab-df-convert');\n",
              "        buttonEl.style.display =\n",
              "          google.colab.kernel.accessAllowed ? 'block' : 'none';\n",
              "\n",
              "        async function convertToInteractive(key) {\n",
              "          const element = document.querySelector('#df-cbf69d90-277a-4728-8c09-7fc075687259');\n",
              "          const dataTable =\n",
              "            await google.colab.kernel.invokeFunction('convertToInteractive',\n",
              "                                                     [key], {});\n",
              "          if (!dataTable) return;\n",
              "\n",
              "          const docLinkHtml = 'Like what you see? Visit the ' +\n",
              "            '<a target=\"_blank\" href=https://colab.research.google.com/notebooks/data_table.ipynb>data table notebook</a>'\n",
              "            + ' to learn more about interactive tables.';\n",
              "          element.innerHTML = '';\n",
              "          dataTable['output_type'] = 'display_data';\n",
              "          await google.colab.output.renderOutput(dataTable, element);\n",
              "          const docLink = document.createElement('div');\n",
              "          docLink.innerHTML = docLinkHtml;\n",
              "          element.appendChild(docLink);\n",
              "        }\n",
              "      </script>\n",
              "    </div>\n",
              "  </div>\n",
              "  "
            ]
          },
          "metadata": {},
          "execution_count": 33
        }
      ]
    },
    {
      "cell_type": "markdown",
      "source": [
        "Следующий признак - место преступления"
      ],
      "metadata": {
        "id": "AHLH6IGftO_Q"
      }
    },
    {
      "cell_type": "code",
      "source": [
        "describe_counter(df.place)"
      ],
      "metadata": {
        "colab": {
          "base_uri": "https://localhost:8080/"
        },
        "id": "azO7tVuPtPBt",
        "outputId": "637c8194-b5b8-454d-dc8e-8ea1b7b1417e"
      },
      "execution_count": 34,
      "outputs": [
        {
          "output_type": "stream",
          "name": "stdout",
          "text": [
            "value: город ,count: 63\n",
            "value: дом ,count: 31\n",
            "value: лес ,count: 23\n",
            "value: дом жертвы ,count: 20\n",
            "value: автомобиль ,count: 18\n",
            "value: дороги ,count: 15\n",
            "value: улица ,count: 12\n",
            "value: деревня ,count: 8\n",
            "value: дорога ,count: 7\n",
            "value: квартира ,count: 6\n",
            "остальное:\n",
            "пустыри,больница,парк,берег реки,дом ,отель,поезд,ферма,ранчо,горы,пересеченная местность,бункер,фургон,завод,лифт,река,мотель,дом престарелых,школа,бар,фабрики,стоянка,реки,трасса,вилла,университет,трейлер,военная часть,заброшенные обьекты,подвал\n",
            "------------------------\n",
            "неизвестных значений нет\n"
          ]
        }
      ]
    },
    {
      "cell_type": "markdown",
      "source": [
        "Распределим признак места преступления на 5 категорий:\n",
        "Город, Дом/Квартира, Лес/Дороги/Улица, Деревня, и другие."
      ],
      "metadata": {
        "id": "H7LNiZ7gtPD-"
      }
    },
    {
      "cell_type": "code",
      "source": [
        "df['place_city'] = df.place.str.find('город')\n",
        "df['place_city'] = np.where(df['place_city'] != -1, 1, 0)\n",
        "\n",
        "df['place_village_1'] = df.place.str.find('деревня')\n",
        "df['place_village_1'] = np.where(df['place_village_1'] != -1, 1, 0)\n",
        "df['place_village_2'] = df.place.str.find('ферма')\n",
        "df['place_village_2'] = np.where(df['place_village_2'] != -1, 1, 0)\n",
        "df['place_village'] = np.where(df['place_village_2'] + df['place_village_1'] > 0, 1, 0)\n",
        "\n",
        "df['place_home_1'] = df.place.str.find('дом')\n",
        "df['place_home_1'] = np.where(df['place_home_1'] != -1, 1, 0)\n",
        "df['place_home_2'] = df.place.str.find('квартира')\n",
        "df['place_home_2'] = np.where(df['place_home_2'] != -1, 1, 0)\n",
        "df['place_home'] = np.where(df['place_home_1'] + df['place_home_2'] > 0, 1, 0)\n",
        "\n",
        "df['place_street_1'] = df.place.str.find('лес')\n",
        "df['place_street_1'] = np.where(df['place_street_1'] != -1, 1, 0)\n",
        "df['place_street_2'] = df.place.str.find('автомобиль')\n",
        "df['place_street_2'] = np.where(df['place_street_2'] != -1, 1, 0)\n",
        "df['place_street_3'] = df.place.str.find('дороги')\n",
        "df['place_street_3'] = np.where(df['place_street_3'] != -1, 1, 0)\n",
        "df['place_street_4'] = df.place.str.find('улица')\n",
        "df['place_street_4'] = np.where(df['place_street_4'] != -1, 1, 0)\n",
        "df['place_street_5'] = df.place.str.find('дорога')\n",
        "df['place_street_5'] = np.where(df['place_street_5'] != -1, 1, 0)\n",
        "\n",
        "df['place_street'] = np.where(df['place_street_1'] + df['place_street_2'] + df['place_street_3'] + df['place_street_4'] + df['place_street_5']  > 0, 1, 0)\n",
        "\n",
        "df['place_others'] = np.where(df['place_street'] + df['place_home'] + df['place_city'] + df['place_village']  == 0, 1, 0)\n",
        "df.drop(['place_home_1', 'place_home_2', 'place_street_2', 'place_street_1', 'place_street_3', 'place_street_4','place_street_5', 'place_village_1', 'place_village_2','place'], axis=1, inplace=True)"
      ],
      "metadata": {
        "id": "RYBXu3VJtPGz"
      },
      "execution_count": 35,
      "outputs": []
    },
    {
      "cell_type": "code",
      "source": [
        "df.head()\n"
      ],
      "metadata": {
        "colab": {
          "base_uri": "https://localhost:8080/",
          "height": 421
        },
        "id": "SaUJj8motPJM",
        "outputId": "17c98e01-2dc3-474d-f39b-524dbcd14c44"
      },
      "execution_count": 36,
      "outputs": [
        {
          "output_type": "execute_result",
          "data": {
            "text/plain": [
              "  amount of victims age of victim gender of the victim age of the criminal  \\\n",
              "0                70   от 15 до 30                   мж                  30   \n",
              "1                 4  от 0,2 до 11                   мж                  23   \n",
              "2                15   от 13 до 20                    ж                  20   \n",
              "3                53    от 7 до 40                   мж               18-30   \n",
              "4                 3   от 10 до 11                    ж          неизвестно   \n",
              "\n",
              "         criminal education m.s. criminal        type_cr  \\\n",
              "0                   среднее           нет  меркантильный   \n",
              "1  среднее профессиональное           нет    властолюбец   \n",
              "2  среднее профессиональное           нет       гедонист   \n",
              "3                 начальное           нет    властолюбец   \n",
              "4                неизвестно    неизвестно       гедонист   \n",
              "\n",
              "             psychotype_cr psycho_cr gender_cr  ... type_others  motive_sex  \\\n",
              "0  социально дезадаптивный       нет         м  ...           0           0   \n",
              "1  социально дезадаптивный   сильное         ж  ...           0           0   \n",
              "2     социально адаптивный   среднее         м  ...           0           1   \n",
              "3  социально дезадаптивный   среднее         м  ...           0           1   \n",
              "4     социально адаптивный   сильное         м  ...           0           1   \n",
              "\n",
              "   motive_benefit  motive_psyche  motive_others  place_city  place_village  \\\n",
              "0               1              0              0           1              0   \n",
              "1               0              0              1           0              0   \n",
              "2               1              0              0           1              0   \n",
              "3               0              0              0           0              0   \n",
              "4               0              0              0           1              0   \n",
              "\n",
              "   place_home  place_street  place_others  \n",
              "0           0             0             0  \n",
              "1           0             0             1  \n",
              "2           0             0             0  \n",
              "3           0             1             0  \n",
              "4           0             0             0  \n",
              "\n",
              "[5 rows x 29 columns]"
            ],
            "text/html": [
              "\n",
              "  <div id=\"df-0d3b10cd-373a-4a15-9eb7-e657ea5a8bcd\">\n",
              "    <div class=\"colab-df-container\">\n",
              "      <div>\n",
              "<style scoped>\n",
              "    .dataframe tbody tr th:only-of-type {\n",
              "        vertical-align: middle;\n",
              "    }\n",
              "\n",
              "    .dataframe tbody tr th {\n",
              "        vertical-align: top;\n",
              "    }\n",
              "\n",
              "    .dataframe thead th {\n",
              "        text-align: right;\n",
              "    }\n",
              "</style>\n",
              "<table border=\"1\" class=\"dataframe\">\n",
              "  <thead>\n",
              "    <tr style=\"text-align: right;\">\n",
              "      <th></th>\n",
              "      <th>amount of victims</th>\n",
              "      <th>age of victim</th>\n",
              "      <th>gender of the victim</th>\n",
              "      <th>age of the criminal</th>\n",
              "      <th>criminal education</th>\n",
              "      <th>m.s. criminal</th>\n",
              "      <th>type_cr</th>\n",
              "      <th>psychotype_cr</th>\n",
              "      <th>psycho_cr</th>\n",
              "      <th>gender_cr</th>\n",
              "      <th>...</th>\n",
              "      <th>type_others</th>\n",
              "      <th>motive_sex</th>\n",
              "      <th>motive_benefit</th>\n",
              "      <th>motive_psyche</th>\n",
              "      <th>motive_others</th>\n",
              "      <th>place_city</th>\n",
              "      <th>place_village</th>\n",
              "      <th>place_home</th>\n",
              "      <th>place_street</th>\n",
              "      <th>place_others</th>\n",
              "    </tr>\n",
              "  </thead>\n",
              "  <tbody>\n",
              "    <tr>\n",
              "      <th>0</th>\n",
              "      <td>70</td>\n",
              "      <td>от 15 до 30</td>\n",
              "      <td>мж</td>\n",
              "      <td>30</td>\n",
              "      <td>среднее</td>\n",
              "      <td>нет</td>\n",
              "      <td>меркантильный</td>\n",
              "      <td>социально дезадаптивный</td>\n",
              "      <td>нет</td>\n",
              "      <td>м</td>\n",
              "      <td>...</td>\n",
              "      <td>0</td>\n",
              "      <td>0</td>\n",
              "      <td>1</td>\n",
              "      <td>0</td>\n",
              "      <td>0</td>\n",
              "      <td>1</td>\n",
              "      <td>0</td>\n",
              "      <td>0</td>\n",
              "      <td>0</td>\n",
              "      <td>0</td>\n",
              "    </tr>\n",
              "    <tr>\n",
              "      <th>1</th>\n",
              "      <td>4</td>\n",
              "      <td>от 0,2 до 11</td>\n",
              "      <td>мж</td>\n",
              "      <td>23</td>\n",
              "      <td>среднее профессиональное</td>\n",
              "      <td>нет</td>\n",
              "      <td>властолюбец</td>\n",
              "      <td>социально дезадаптивный</td>\n",
              "      <td>сильное</td>\n",
              "      <td>ж</td>\n",
              "      <td>...</td>\n",
              "      <td>0</td>\n",
              "      <td>0</td>\n",
              "      <td>0</td>\n",
              "      <td>0</td>\n",
              "      <td>1</td>\n",
              "      <td>0</td>\n",
              "      <td>0</td>\n",
              "      <td>0</td>\n",
              "      <td>0</td>\n",
              "      <td>1</td>\n",
              "    </tr>\n",
              "    <tr>\n",
              "      <th>2</th>\n",
              "      <td>15</td>\n",
              "      <td>от 13 до 20</td>\n",
              "      <td>ж</td>\n",
              "      <td>20</td>\n",
              "      <td>среднее профессиональное</td>\n",
              "      <td>нет</td>\n",
              "      <td>гедонист</td>\n",
              "      <td>социально адаптивный</td>\n",
              "      <td>среднее</td>\n",
              "      <td>м</td>\n",
              "      <td>...</td>\n",
              "      <td>0</td>\n",
              "      <td>1</td>\n",
              "      <td>1</td>\n",
              "      <td>0</td>\n",
              "      <td>0</td>\n",
              "      <td>1</td>\n",
              "      <td>0</td>\n",
              "      <td>0</td>\n",
              "      <td>0</td>\n",
              "      <td>0</td>\n",
              "    </tr>\n",
              "    <tr>\n",
              "      <th>3</th>\n",
              "      <td>53</td>\n",
              "      <td>от 7 до 40</td>\n",
              "      <td>мж</td>\n",
              "      <td>18-30</td>\n",
              "      <td>начальное</td>\n",
              "      <td>нет</td>\n",
              "      <td>властолюбец</td>\n",
              "      <td>социально дезадаптивный</td>\n",
              "      <td>среднее</td>\n",
              "      <td>м</td>\n",
              "      <td>...</td>\n",
              "      <td>0</td>\n",
              "      <td>1</td>\n",
              "      <td>0</td>\n",
              "      <td>0</td>\n",
              "      <td>0</td>\n",
              "      <td>0</td>\n",
              "      <td>0</td>\n",
              "      <td>0</td>\n",
              "      <td>1</td>\n",
              "      <td>0</td>\n",
              "    </tr>\n",
              "    <tr>\n",
              "      <th>4</th>\n",
              "      <td>3</td>\n",
              "      <td>от 10 до 11</td>\n",
              "      <td>ж</td>\n",
              "      <td>неизвестно</td>\n",
              "      <td>неизвестно</td>\n",
              "      <td>неизвестно</td>\n",
              "      <td>гедонист</td>\n",
              "      <td>социально адаптивный</td>\n",
              "      <td>сильное</td>\n",
              "      <td>м</td>\n",
              "      <td>...</td>\n",
              "      <td>0</td>\n",
              "      <td>1</td>\n",
              "      <td>0</td>\n",
              "      <td>0</td>\n",
              "      <td>0</td>\n",
              "      <td>1</td>\n",
              "      <td>0</td>\n",
              "      <td>0</td>\n",
              "      <td>0</td>\n",
              "      <td>0</td>\n",
              "    </tr>\n",
              "  </tbody>\n",
              "</table>\n",
              "<p>5 rows × 29 columns</p>\n",
              "</div>\n",
              "      <button class=\"colab-df-convert\" onclick=\"convertToInteractive('df-0d3b10cd-373a-4a15-9eb7-e657ea5a8bcd')\"\n",
              "              title=\"Convert this dataframe to an interactive table.\"\n",
              "              style=\"display:none;\">\n",
              "        \n",
              "  <svg xmlns=\"http://www.w3.org/2000/svg\" height=\"24px\"viewBox=\"0 0 24 24\"\n",
              "       width=\"24px\">\n",
              "    <path d=\"M0 0h24v24H0V0z\" fill=\"none\"/>\n",
              "    <path d=\"M18.56 5.44l.94 2.06.94-2.06 2.06-.94-2.06-.94-.94-2.06-.94 2.06-2.06.94zm-11 1L8.5 8.5l.94-2.06 2.06-.94-2.06-.94L8.5 2.5l-.94 2.06-2.06.94zm10 10l.94 2.06.94-2.06 2.06-.94-2.06-.94-.94-2.06-.94 2.06-2.06.94z\"/><path d=\"M17.41 7.96l-1.37-1.37c-.4-.4-.92-.59-1.43-.59-.52 0-1.04.2-1.43.59L10.3 9.45l-7.72 7.72c-.78.78-.78 2.05 0 2.83L4 21.41c.39.39.9.59 1.41.59.51 0 1.02-.2 1.41-.59l7.78-7.78 2.81-2.81c.8-.78.8-2.07 0-2.86zM5.41 20L4 18.59l7.72-7.72 1.47 1.35L5.41 20z\"/>\n",
              "  </svg>\n",
              "      </button>\n",
              "      \n",
              "  <style>\n",
              "    .colab-df-container {\n",
              "      display:flex;\n",
              "      flex-wrap:wrap;\n",
              "      gap: 12px;\n",
              "    }\n",
              "\n",
              "    .colab-df-convert {\n",
              "      background-color: #E8F0FE;\n",
              "      border: none;\n",
              "      border-radius: 50%;\n",
              "      cursor: pointer;\n",
              "      display: none;\n",
              "      fill: #1967D2;\n",
              "      height: 32px;\n",
              "      padding: 0 0 0 0;\n",
              "      width: 32px;\n",
              "    }\n",
              "\n",
              "    .colab-df-convert:hover {\n",
              "      background-color: #E2EBFA;\n",
              "      box-shadow: 0px 1px 2px rgba(60, 64, 67, 0.3), 0px 1px 3px 1px rgba(60, 64, 67, 0.15);\n",
              "      fill: #174EA6;\n",
              "    }\n",
              "\n",
              "    [theme=dark] .colab-df-convert {\n",
              "      background-color: #3B4455;\n",
              "      fill: #D2E3FC;\n",
              "    }\n",
              "\n",
              "    [theme=dark] .colab-df-convert:hover {\n",
              "      background-color: #434B5C;\n",
              "      box-shadow: 0px 1px 3px 1px rgba(0, 0, 0, 0.15);\n",
              "      filter: drop-shadow(0px 1px 2px rgba(0, 0, 0, 0.3));\n",
              "      fill: #FFFFFF;\n",
              "    }\n",
              "  </style>\n",
              "\n",
              "      <script>\n",
              "        const buttonEl =\n",
              "          document.querySelector('#df-0d3b10cd-373a-4a15-9eb7-e657ea5a8bcd button.colab-df-convert');\n",
              "        buttonEl.style.display =\n",
              "          google.colab.kernel.accessAllowed ? 'block' : 'none';\n",
              "\n",
              "        async function convertToInteractive(key) {\n",
              "          const element = document.querySelector('#df-0d3b10cd-373a-4a15-9eb7-e657ea5a8bcd');\n",
              "          const dataTable =\n",
              "            await google.colab.kernel.invokeFunction('convertToInteractive',\n",
              "                                                     [key], {});\n",
              "          if (!dataTable) return;\n",
              "\n",
              "          const docLinkHtml = 'Like what you see? Visit the ' +\n",
              "            '<a target=\"_blank\" href=https://colab.research.google.com/notebooks/data_table.ipynb>data table notebook</a>'\n",
              "            + ' to learn more about interactive tables.';\n",
              "          element.innerHTML = '';\n",
              "          dataTable['output_type'] = 'display_data';\n",
              "          await google.colab.output.renderOutput(dataTable, element);\n",
              "          const docLink = document.createElement('div');\n",
              "          docLink.innerHTML = docLinkHtml;\n",
              "          element.appendChild(docLink);\n",
              "        }\n",
              "      </script>\n",
              "    </div>\n",
              "  </div>\n",
              "  "
            ]
          },
          "metadata": {},
          "execution_count": 36
        }
      ]
    },
    {
      "cell_type": "markdown",
      "source": [
        "Следующий признак кол-во жертв. проверим есть ли пропущенные(неизвестные значения)."
      ],
      "metadata": {
        "id": "KquyoUQ3tPLe"
      }
    },
    {
      "cell_type": "code",
      "source": [
        "df['amount of victims'][df['amount of victims'] == 'неизвестно'].count()"
      ],
      "metadata": {
        "colab": {
          "base_uri": "https://localhost:8080/"
        },
        "id": "TJil_Vv-tPOB",
        "outputId": "42fbb325-fd2b-4823-8368-6ac8ca027006"
      },
      "execution_count": 37,
      "outputs": [
        {
          "output_type": "execute_result",
          "data": {
            "text/plain": [
              "0"
            ]
          },
          "metadata": {},
          "execution_count": 37
        }
      ]
    },
    {
      "cell_type": "markdown",
      "source": [
        "Пропущенных значений нет, посмотрим информацию о значениях"
      ],
      "metadata": {
        "id": "gMA6_P2-tPQa"
      }
    },
    {
      "cell_type": "code",
      "source": [
        "describe_counter(df['amount of victims'])"
      ],
      "metadata": {
        "colab": {
          "base_uri": "https://localhost:8080/"
        },
        "id": "WS5UeybZtPTA",
        "outputId": "edc0eaac-ece8-44b7-a435-1a5a852f6cee"
      },
      "execution_count": 38,
      "outputs": [
        {
          "output_type": "stream",
          "name": "stdout",
          "text": [
            "value: 6 ,count: 17\n",
            "value: 4 ,count: 16\n",
            "value: 7 ,count: 16\n",
            "value: 3 ,count: 14\n",
            "value: 5 ,count: 14\n",
            "value: 9 ,count: 12\n",
            "value: 11 ,count: 11\n",
            "value: 8 ,count: 9\n",
            "value: 10 ,count: 8\n",
            "value: 15 ,count: 6\n",
            "остальное:\n",
            "17,16,13,12,27,18,21,26,20,24,37,14,125,31,70,53,50,41,45,25,52,40,138,33,110,63,30,29,100,60,23,300,14-36,89,93,28,85,19\n",
            "------------------------\n",
            "неизвестных значений нет\n"
          ]
        }
      ]
    },
    {
      "cell_type": "markdown",
      "source": [
        "Во входных данных есть опечатки. В кол-венных значениях есть диапозон '14-36'. Для удобной обработки поменяем данное значение на значение самого частого диапазона.\n",
        "\n"
      ],
      "metadata": {
        "id": "SVptGNaqtPVq"
      }
    },
    {
      "cell_type": "code",
      "source": [
        "df.loc[df['amount of victims'] == '14-36', 'amount of victims'] = '15'"
      ],
      "metadata": {
        "id": "gba0aJUxtPYT"
      },
      "execution_count": 39,
      "outputs": []
    },
    {
      "cell_type": "markdown",
      "source": [
        "Входные данные в данном признаке имеют тип \"строки\". Преобразуем его в числа, и построим график кол-ва преступлений, и кол-ва найденных значений"
      ],
      "metadata": {
        "id": "KL-Ki3elXXmX"
      }
    },
    {
      "cell_type": "code",
      "source": [
        "df['amount of victims'] = pd.to_numeric(df['amount of victims'])"
      ],
      "metadata": {
        "id": "Ik8byIOmUlIn"
      },
      "execution_count": 40,
      "outputs": []
    },
    {
      "cell_type": "code",
      "source": [
        "plt.title('График зависимости числа преступлений и их кол-ва в данных', fontsize=18);\n",
        "plt.ylabel('Кол-во найденных значений', fontsize=14);\n",
        "plt.xlabel('Число преступлений', fontsize=14);\n",
        "df['amount of victims'].hist(bins=100);"
      ],
      "metadata": {
        "colab": {
          "base_uri": "https://localhost:8080/",
          "height": 303
        },
        "id": "Ld2m0JylUlLB",
        "outputId": "e81594b7-b925-4faf-b222-76f0e06fdb19"
      },
      "execution_count": 41,
      "outputs": [
        {
          "output_type": "display_data",
          "data": {
            "text/plain": [
              "<Figure size 432x288 with 1 Axes>"
            ],
            "image/png": "[encoded data removed]"
          },
          "metadata": {
            "needs_background": "light"
          }
        }
      ]
    },
    {
      "cell_type": "markdown",
      "source": [
        "По графику видим, наибольшое \"скопление\" данных в диапозоне до 50. преступлений. Разобьем все данные на 4 категории. меньше 10, от 10 до 25, 25-50, и \"выбросы\" - когда кол-во преступлений более 100."
      ],
      "metadata": {
        "id": "Jp5DcVxwUlN-"
      }
    },
    {
      "cell_type": "code",
      "source": [
        "df['victims_<10'] = np.where(df['amount of victims'] < 10, 1, 0)\n",
        "df['victims_10_25'] = np.where((df['amount of victims'] < 25) & (df['amount of victims'] >= 10) , 1, 0)\n",
        "df['victims_25_50'] = np.where((df['amount of victims'] < 50) & (df['amount of victims'] >= 25) , 1, 0)\n",
        "df['victims_>50'] = np.where(df['amount of victims'] >= 50, 1, 0)\n",
        "df.drop(['amount of victims'], axis=1, inplace=True);"
      ],
      "metadata": {
        "id": "wLLtyTonUlRd"
      },
      "execution_count": 42,
      "outputs": []
    },
    {
      "cell_type": "code",
      "source": [
        "df.head()"
      ],
      "metadata": {
        "colab": {
          "base_uri": "https://localhost:8080/",
          "height": 421
        },
        "id": "Mso7mwr5UlVz",
        "outputId": "7c2dbbb4-352c-47e4-f6e3-11e00d3d7a96"
      },
      "execution_count": 43,
      "outputs": [
        {
          "output_type": "execute_result",
          "data": {
            "text/plain": [
              "  age of victim gender of the victim age of the criminal  \\\n",
              "0   от 15 до 30                   мж                  30   \n",
              "1  от 0,2 до 11                   мж                  23   \n",
              "2   от 13 до 20                    ж                  20   \n",
              "3    от 7 до 40                   мж               18-30   \n",
              "4   от 10 до 11                    ж          неизвестно   \n",
              "\n",
              "         criminal education m.s. criminal        type_cr  \\\n",
              "0                   среднее           нет  меркантильный   \n",
              "1  среднее профессиональное           нет    властолюбец   \n",
              "2  среднее профессиональное           нет       гедонист   \n",
              "3                 начальное           нет    властолюбец   \n",
              "4                неизвестно    неизвестно       гедонист   \n",
              "\n",
              "             psychotype_cr psycho_cr gender_cr            profession_cr  ...  \\\n",
              "0  социально дезадаптивный       нет         м                      нет  ...   \n",
              "1  социально дезадаптивный   сильное         ж                медсестра  ...   \n",
              "2     социально адаптивный   среднее         м  грузчик, военнослужащий  ...   \n",
              "3  социально дезадаптивный   среднее         м                      нет  ...   \n",
              "4     социально адаптивный   сильное         м               неизвестно  ...   \n",
              "\n",
              "   motive_others  place_city  place_village  place_home  place_street  \\\n",
              "0              0           1              0           0             0   \n",
              "1              1           0              0           0             0   \n",
              "2              0           1              0           0             0   \n",
              "3              0           0              0           0             1   \n",
              "4              0           1              0           0             0   \n",
              "\n",
              "   place_others  victims_<10  victims_10_25  victims_25_50  victims_>50  \n",
              "0             0            0              0              0            1  \n",
              "1             1            1              0              0            0  \n",
              "2             0            0              1              0            0  \n",
              "3             0            0              0              0            1  \n",
              "4             0            1              0              0            0  \n",
              "\n",
              "[5 rows x 32 columns]"
            ],
            "text/html": [
              "\n",
              "  <div id=\"df-c7ebe6ab-ec63-4f5a-becb-a6abecb69671\">\n",
              "    <div class=\"colab-df-container\">\n",
              "      <div>\n",
              "<style scoped>\n",
              "    .dataframe tbody tr th:only-of-type {\n",
              "        vertical-align: middle;\n",
              "    }\n",
              "\n",
              "    .dataframe tbody tr th {\n",
              "        vertical-align: top;\n",
              "    }\n",
              "\n",
              "    .dataframe thead th {\n",
              "        text-align: right;\n",
              "    }\n",
              "</style>\n",
              "<table border=\"1\" class=\"dataframe\">\n",
              "  <thead>\n",
              "    <tr style=\"text-align: right;\">\n",
              "      <th></th>\n",
              "      <th>age of victim</th>\n",
              "      <th>gender of the victim</th>\n",
              "      <th>age of the criminal</th>\n",
              "      <th>criminal education</th>\n",
              "      <th>m.s. criminal</th>\n",
              "      <th>type_cr</th>\n",
              "      <th>psychotype_cr</th>\n",
              "      <th>psycho_cr</th>\n",
              "      <th>gender_cr</th>\n",
              "      <th>profession_cr</th>\n",
              "      <th>...</th>\n",
              "      <th>motive_others</th>\n",
              "      <th>place_city</th>\n",
              "      <th>place_village</th>\n",
              "      <th>place_home</th>\n",
              "      <th>place_street</th>\n",
              "      <th>place_others</th>\n",
              "      <th>victims_&lt;10</th>\n",
              "      <th>victims_10_25</th>\n",
              "      <th>victims_25_50</th>\n",
              "      <th>victims_&gt;50</th>\n",
              "    </tr>\n",
              "  </thead>\n",
              "  <tbody>\n",
              "    <tr>\n",
              "      <th>0</th>\n",
              "      <td>от 15 до 30</td>\n",
              "      <td>мж</td>\n",
              "      <td>30</td>\n",
              "      <td>среднее</td>\n",
              "      <td>нет</td>\n",
              "      <td>меркантильный</td>\n",
              "      <td>социально дезадаптивный</td>\n",
              "      <td>нет</td>\n",
              "      <td>м</td>\n",
              "      <td>нет</td>\n",
              "      <td>...</td>\n",
              "      <td>0</td>\n",
              "      <td>1</td>\n",
              "      <td>0</td>\n",
              "      <td>0</td>\n",
              "      <td>0</td>\n",
              "      <td>0</td>\n",
              "      <td>0</td>\n",
              "      <td>0</td>\n",
              "      <td>0</td>\n",
              "      <td>1</td>\n",
              "    </tr>\n",
              "    <tr>\n",
              "      <th>1</th>\n",
              "      <td>от 0,2 до 11</td>\n",
              "      <td>мж</td>\n",
              "      <td>23</td>\n",
              "      <td>среднее профессиональное</td>\n",
              "      <td>нет</td>\n",
              "      <td>властолюбец</td>\n",
              "      <td>социально дезадаптивный</td>\n",
              "      <td>сильное</td>\n",
              "      <td>ж</td>\n",
              "      <td>медсестра</td>\n",
              "      <td>...</td>\n",
              "      <td>1</td>\n",
              "      <td>0</td>\n",
              "      <td>0</td>\n",
              "      <td>0</td>\n",
              "      <td>0</td>\n",
              "      <td>1</td>\n",
              "      <td>1</td>\n",
              "      <td>0</td>\n",
              "      <td>0</td>\n",
              "      <td>0</td>\n",
              "    </tr>\n",
              "    <tr>\n",
              "      <th>2</th>\n",
              "      <td>от 13 до 20</td>\n",
              "      <td>ж</td>\n",
              "      <td>20</td>\n",
              "      <td>среднее профессиональное</td>\n",
              "      <td>нет</td>\n",
              "      <td>гедонист</td>\n",
              "      <td>социально адаптивный</td>\n",
              "      <td>среднее</td>\n",
              "      <td>м</td>\n",
              "      <td>грузчик, военнослужащий</td>\n",
              "      <td>...</td>\n",
              "      <td>0</td>\n",
              "      <td>1</td>\n",
              "      <td>0</td>\n",
              "      <td>0</td>\n",
              "      <td>0</td>\n",
              "      <td>0</td>\n",
              "      <td>0</td>\n",
              "      <td>1</td>\n",
              "      <td>0</td>\n",
              "      <td>0</td>\n",
              "    </tr>\n",
              "    <tr>\n",
              "      <th>3</th>\n",
              "      <td>от 7 до 40</td>\n",
              "      <td>мж</td>\n",
              "      <td>18-30</td>\n",
              "      <td>начальное</td>\n",
              "      <td>нет</td>\n",
              "      <td>властолюбец</td>\n",
              "      <td>социально дезадаптивный</td>\n",
              "      <td>среднее</td>\n",
              "      <td>м</td>\n",
              "      <td>нет</td>\n",
              "      <td>...</td>\n",
              "      <td>0</td>\n",
              "      <td>0</td>\n",
              "      <td>0</td>\n",
              "      <td>0</td>\n",
              "      <td>1</td>\n",
              "      <td>0</td>\n",
              "      <td>0</td>\n",
              "      <td>0</td>\n",
              "      <td>0</td>\n",
              "      <td>1</td>\n",
              "    </tr>\n",
              "    <tr>\n",
              "      <th>4</th>\n",
              "      <td>от 10 до 11</td>\n",
              "      <td>ж</td>\n",
              "      <td>неизвестно</td>\n",
              "      <td>неизвестно</td>\n",
              "      <td>неизвестно</td>\n",
              "      <td>гедонист</td>\n",
              "      <td>социально адаптивный</td>\n",
              "      <td>сильное</td>\n",
              "      <td>м</td>\n",
              "      <td>неизвестно</td>\n",
              "      <td>...</td>\n",
              "      <td>0</td>\n",
              "      <td>1</td>\n",
              "      <td>0</td>\n",
              "      <td>0</td>\n",
              "      <td>0</td>\n",
              "      <td>0</td>\n",
              "      <td>1</td>\n",
              "      <td>0</td>\n",
              "      <td>0</td>\n",
              "      <td>0</td>\n",
              "    </tr>\n",
              "  </tbody>\n",
              "</table>\n",
              "<p>5 rows × 32 columns</p>\n",
              "</div>\n",
              "      <button class=\"colab-df-convert\" onclick=\"convertToInteractive('df-c7ebe6ab-ec63-4f5a-becb-a6abecb69671')\"\n",
              "              title=\"Convert this dataframe to an interactive table.\"\n",
              "              style=\"display:none;\">\n",
              "        \n",
              "  <svg xmlns=\"http://www.w3.org/2000/svg\" height=\"24px\"viewBox=\"0 0 24 24\"\n",
              "       width=\"24px\">\n",
              "    <path d=\"M0 0h24v24H0V0z\" fill=\"none\"/>\n",
              "    <path d=\"M18.56 5.44l.94 2.06.94-2.06 2.06-.94-2.06-.94-.94-2.06-.94 2.06-2.06.94zm-11 1L8.5 8.5l.94-2.06 2.06-.94-2.06-.94L8.5 2.5l-.94 2.06-2.06.94zm10 10l.94 2.06.94-2.06 2.06-.94-2.06-.94-.94-2.06-.94 2.06-2.06.94z\"/><path d=\"M17.41 7.96l-1.37-1.37c-.4-.4-.92-.59-1.43-.59-.52 0-1.04.2-1.43.59L10.3 9.45l-7.72 7.72c-.78.78-.78 2.05 0 2.83L4 21.41c.39.39.9.59 1.41.59.51 0 1.02-.2 1.41-.59l7.78-7.78 2.81-2.81c.8-.78.8-2.07 0-2.86zM5.41 20L4 18.59l7.72-7.72 1.47 1.35L5.41 20z\"/>\n",
              "  </svg>\n",
              "      </button>\n",
              "      \n",
              "  <style>\n",
              "    .colab-df-container {\n",
              "      display:flex;\n",
              "      flex-wrap:wrap;\n",
              "      gap: 12px;\n",
              "    }\n",
              "\n",
              "    .colab-df-convert {\n",
              "      background-color: #E8F0FE;\n",
              "      border: none;\n",
              "      border-radius: 50%;\n",
              "      cursor: pointer;\n",
              "      display: none;\n",
              "      fill: #1967D2;\n",
              "      height: 32px;\n",
              "      padding: 0 0 0 0;\n",
              "      width: 32px;\n",
              "    }\n",
              "\n",
              "    .colab-df-convert:hover {\n",
              "      background-color: #E2EBFA;\n",
              "      box-shadow: 0px 1px 2px rgba(60, 64, 67, 0.3), 0px 1px 3px 1px rgba(60, 64, 67, 0.15);\n",
              "      fill: #174EA6;\n",
              "    }\n",
              "\n",
              "    [theme=dark] .colab-df-convert {\n",
              "      background-color: #3B4455;\n",
              "      fill: #D2E3FC;\n",
              "    }\n",
              "\n",
              "    [theme=dark] .colab-df-convert:hover {\n",
              "      background-color: #434B5C;\n",
              "      box-shadow: 0px 1px 3px 1px rgba(0, 0, 0, 0.15);\n",
              "      filter: drop-shadow(0px 1px 2px rgba(0, 0, 0, 0.3));\n",
              "      fill: #FFFFFF;\n",
              "    }\n",
              "  </style>\n",
              "\n",
              "      <script>\n",
              "        const buttonEl =\n",
              "          document.querySelector('#df-c7ebe6ab-ec63-4f5a-becb-a6abecb69671 button.colab-df-convert');\n",
              "        buttonEl.style.display =\n",
              "          google.colab.kernel.accessAllowed ? 'block' : 'none';\n",
              "\n",
              "        async function convertToInteractive(key) {\n",
              "          const element = document.querySelector('#df-c7ebe6ab-ec63-4f5a-becb-a6abecb69671');\n",
              "          const dataTable =\n",
              "            await google.colab.kernel.invokeFunction('convertToInteractive',\n",
              "                                                     [key], {});\n",
              "          if (!dataTable) return;\n",
              "\n",
              "          const docLinkHtml = 'Like what you see? Visit the ' +\n",
              "            '<a target=\"_blank\" href=https://colab.research.google.com/notebooks/data_table.ipynb>data table notebook</a>'\n",
              "            + ' to learn more about interactive tables.';\n",
              "          element.innerHTML = '';\n",
              "          dataTable['output_type'] = 'display_data';\n",
              "          await google.colab.output.renderOutput(dataTable, element);\n",
              "          const docLink = document.createElement('div');\n",
              "          docLink.innerHTML = docLinkHtml;\n",
              "          element.appendChild(docLink);\n",
              "        }\n",
              "      </script>\n",
              "    </div>\n",
              "  </div>\n",
              "  "
            ]
          },
          "metadata": {},
          "execution_count": 43
        }
      ]
    },
    {
      "cell_type": "markdown",
      "source": [
        "Следующий признак возраст жертв. Преобразуем данные на минимальный и максимальный возраст жертв"
      ],
      "metadata": {
        "id": "JZLLWPXzUlYj"
      }
    },
    {
      "cell_type": "code",
      "source": [
        "describe_counter(df['age of victim'])"
      ],
      "metadata": {
        "colab": {
          "base_uri": "https://localhost:8080/"
        },
        "id": "bc-edqKZUla2",
        "outputId": "29827b39-86e3-4e27-b2c7-dc19f933fb09"
      },
      "execution_count": 44,
      "outputs": [
        {
          "output_type": "stream",
          "name": "stdout",
          "text": [
            "value: от 18 ,count: 12\n",
            "value: от 17 ,count: 7\n",
            "value: от 16 ,count: 5\n",
            "value: от 20 ,count: 4\n",
            "value: от 15 ,count: 3\n",
            "value: от 14 ,count: 3\n",
            "value: от 18 до 40 ,count: 3\n",
            "value: от 60 ,count: 2\n",
            "value: от 11 ,count: 2\n",
            "value: от 23 ,count: 2\n",
            "остальное:\n",
            "от 30,от 13 до 34,от 15 до 31,от 14 до 18,от 20 до 35,от 15 до 42,от 18 до 22,от 15 до 55,от 16 до 30,неизвестно,от 17 до 27,от 15 до 30,от 0,2 до 11,от 13 до 20,от 7 до 40,от 10 до 11,от 8 до 13,от 15 ,от 22,от 8 ,от 10 до 14,от 19 до 53,от 69 до 70,от 66 до 82,от 57 до 96,от 3 до 5,от 11 до 20,от 12,от 8,от 6 до 16,от 18 до 20,от 33 до 45,от 29 до 81,от 15 до 36,от 0,2 до 3,от 12 до 16,от 0,от 6 до 19,от 15 до 20,от 2 до 10,от 13 до 27,от 9 до 40,от 19 до 85,от 20 до 44,от 15 дл 25,от 22 до 47,от 22 до 30,от 19 до 51,от 34 до 58,от 31 до 43,от 65 до 97,от 22 до 36,от 15 до 25,от 9 до 16,от 9 до 22,от 55,от 16 до 66,от 7 до 12,от 8 до 77,от 3 до 49,от 12 до 70,от 21 до 22,от 14 до 44,от 10,от 5 до 17,от 12 до 74,от 17 до 32,от 25,от 21 до 52,от 39 до 79,от 11 до 59,от 14 до 49,от 19 до 37,от 17 до 30,от 0.9 до 3,от 22 до 67,от 25 до 40,от 23 до 37,от 12 до 61,от 4 до 11,от 16 до 46,от 21 до 66,от 11 до 37,от 34 до 64,от 15 до 44,от 21 до 50,от 8 до 16,от 40 до 63,от 32 до 40,от 17 до 20,от 8 до 14,от 9 до 75,от 17 до 60,от 22 до 40,от 15 до 22 ,от 16 до 22,от 8 до 15,от 1 до 2 ,от 13 до 18,от 19 до 47,от 9 до 17,от 17 до 70,от 47 до 59,от 20 до 45,от 29 до 41,от 20 до 54,от 13 до 36,от 20 до 24,от 27 до 52,от 20 до 31,от 22 до 24,от 28 до 50,от 18 до 55,от 24 до 30,от 17 до 26,от 15 до 24,от 19 до 72,от 16 до 27,от 19 до 30,от 31 до 41,от 8 до 51,от 55 до 80,от 0.9 до 1.5,от 10 до 51,от 38 до 78,от 17 до 38,от 13,от 12 до 13,от 19 до 38,от 11 до 22,от 27\n",
            "------------------------\n",
            "есть неизвестные значения\n"
          ]
        }
      ]
    },
    {
      "cell_type": "markdown",
      "source": [
        "Поменяем значение \"15\" на \"от 15\". Также заменим значение \"неизвестно\" на самое популярное значение \"от 18\". Распарсим значения в два фича. от и до "
      ],
      "metadata": {
        "id": "mzt4Hg_ZdTF7"
      }
    },
    {
      "cell_type": "code",
      "source": [
        "df.loc[df['age of victim'] == '15', 'age of victim'] = 'от 15'\n",
        "df.loc[df['age of victim'] == 'неизвестно', 'age of victim'] = 'от 18'\n",
        "df.loc[df['age of victim'] == 'от 0,2 до 11', 'age of victim'] = 'от 2 до 11'"
      ],
      "metadata": {
        "id": "e92LRfvtUldk"
      },
      "execution_count": 45,
      "outputs": []
    },
    {
      "cell_type": "code",
      "source": [
        "describe_counter(df['age of victim'])"
      ],
      "metadata": {
        "colab": {
          "base_uri": "https://localhost:8080/"
        },
        "id": "FCwYI_aedlH8",
        "outputId": "5aec5d76-d111-48be-8e9c-6d8ba8a651e0"
      },
      "execution_count": 46,
      "outputs": [
        {
          "output_type": "stream",
          "name": "stdout",
          "text": [
            "value: от 18 ,count: 14\n",
            "value: от 17 ,count: 7\n",
            "value: от 16 ,count: 5\n",
            "value: от 20 ,count: 4\n",
            "value: от 15 ,count: 3\n",
            "value: от 14 ,count: 3\n",
            "value: от 18 до 40 ,count: 3\n",
            "value: от 60 ,count: 2\n",
            "value: от 11 ,count: 2\n",
            "value: от 23 ,count: 2\n",
            "остальное:\n",
            "от 30,от 13 до 34,от 15 до 31,от 14 до 18,от 20 до 35,от 15 до 42,от 18 до 22,от 15 до 55,от 16 до 30,от 17 до 27,от 15 до 30,от 2 до 11,от 13 до 20,от 7 до 40,от 10 до 11,от 8 до 13,от 15 ,от 22,от 8 ,от 10 до 14,от 19 до 53,от 69 до 70,от 66 до 82,от 57 до 96,от 3 до 5,от 11 до 20,от 12,от 8,от 6 до 16,от 18 до 20,от 33 до 45,от 29 до 81,от 15 до 36,от 0,2 до 3,от 12 до 16,от 0,от 6 до 19,от 15 до 20,от 2 до 10,от 13 до 27,от 9 до 40,от 19 до 85,от 20 до 44,от 15 дл 25,от 22 до 47,от 22 до 30,от 19 до 51,от 34 до 58,от 31 до 43,от 65 до 97,от 22 до 36,от 15 до 25,от 9 до 16,от 9 до 22,от 55,от 16 до 66,от 7 до 12,от 8 до 77,от 3 до 49,от 12 до 70,от 21 до 22,от 14 до 44,от 10,от 5 до 17,от 12 до 74,от 17 до 32,от 25,от 21 до 52,от 39 до 79,от 11 до 59,от 14 до 49,от 19 до 37,от 17 до 30,от 0.9 до 3,от 22 до 67,от 25 до 40,от 23 до 37,от 12 до 61,от 4 до 11,от 16 до 46,от 21 до 66,от 11 до 37,от 34 до 64,от 15 до 44,от 21 до 50,от 8 до 16,от 40 до 63,от 32 до 40,от 17 до 20,от 8 до 14,от 9 до 75,от 17 до 60,от 22 до 40,от 15 до 22 ,от 16 до 22,от 8 до 15,от 1 до 2 ,от 13 до 18,от 19 до 47,от 9 до 17,от 17 до 70,от 47 до 59,от 20 до 45,от 29 до 41,от 20 до 54,от 13 до 36,от 20 до 24,от 27 до 52,от 20 до 31,от 22 до 24,от 28 до 50,от 18 до 55,от 24 до 30,от 17 до 26,от 15 до 24,от 19 до 72,от 16 до 27,от 19 до 30,от 31 до 41,от 8 до 51,от 55 до 80,от 0.9 до 1.5,от 10 до 51,от 38 до 78,от 17 до 38,от 13,от 12 до 13,от 19 до 38,от 11 до 22,от 27\n",
            "------------------------\n",
            "неизвестных значений нет\n"
          ]
        }
      ]
    },
    {
      "cell_type": "markdown",
      "source": [
        "Напишем функцию, которая разделяет возраст жертв преступника в две категории \"от\" и \"до\""
      ],
      "metadata": {
        "id": "ejCpXj6pclhi"
      }
    },
    {
      "cell_type": "code",
      "source": [
        "array = list(df['age of victim'].values)\n",
        "ot_ = []\n",
        "do_ = []\n",
        "for v in array:\n",
        "  v = v.replace(' ','')\n",
        "  if 'от' in v:\n",
        "    ind = v.find('т')\n",
        "    if v[ind+1: ind+3].isdigit():\n",
        "      ot_.append(int(v[ind+1: ind+3]))\n",
        "    elif v[ind+1: ind+2].isdigit():\n",
        "      ot_.append(int(v[ind+1: ind+2]))\n",
        "  else:\n",
        "    ot_.append(np.NaN)\n",
        "  if 'до' in v:\n",
        "    ind = v.find('д') + 1\n",
        "    if v[ind+1: ind+3].isdigit():\n",
        "      do_.append(int(v[ind+1: ind+3]))\n",
        "    elif v[ind+1: ind+2].isdigit():\n",
        "      do_.append(int(v[ind+1: ind+2]))\n",
        "    else:\n",
        "      do_.append(np.NaN)\n",
        "  else:\n",
        "    do_.append(np.NaN)"
      ],
      "metadata": {
        "id": "Byba1YDadlKC"
      },
      "execution_count": 47,
      "outputs": []
    },
    {
      "cell_type": "code",
      "source": [
        "df['age_ot'] = ot_\n",
        "df['age_do'] = do_"
      ],
      "metadata": {
        "id": "7tLXJYjUdlMn"
      },
      "execution_count": 48,
      "outputs": []
    },
    {
      "cell_type": "code",
      "source": [
        "df['age_do'].value_counts()"
      ],
      "metadata": {
        "colab": {
          "base_uri": "https://localhost:8080/"
        },
        "id": "hW_DjuI_cEDg",
        "outputId": "306aaeae-3903-4710-ec83-07f7fa330d49"
      },
      "execution_count": 49,
      "outputs": [
        {
          "output_type": "execute_result",
          "data": {
            "text/plain": [
              "40.0    8\n",
              "30.0    7\n",
              "22.0    7\n",
              "20.0    5\n",
              "27.0    4\n",
              "       ..\n",
              "74.0    1\n",
              "81.0    1\n",
              "10.0    1\n",
              "77.0    1\n",
              "96.0    1\n",
              "Name: age_do, Length: 64, dtype: int64"
            ]
          },
          "metadata": {},
          "execution_count": 49
        }
      ]
    },
    {
      "cell_type": "markdown",
      "source": [
        "Решим вопрос с пропущенными значениями в графе до. поменяем их на медиану признака. "
      ],
      "metadata": {
        "id": "V9np4EeLgV7q"
      }
    },
    {
      "cell_type": "code",
      "source": [
        "print(f'Кол-во пропущенных значений: {df[\"age_do\"].isna().sum()}')\n",
        "df['age_do'] = df['age_do'].fillna(df['age_do'].median())\n",
        "print(f'update: Кол-во пропущенных значений: {df[\"age_do\"].isna().sum()}')\n",
        "df.drop(['age of victim'], axis=1, inplace=True)"
      ],
      "metadata": {
        "colab": {
          "base_uri": "https://localhost:8080/"
        },
        "id": "eCTRwBMfdlO1",
        "outputId": "4b0b70e3-2a09-43a1-e51b-8a8c5d46cb23"
      },
      "execution_count": 50,
      "outputs": [
        {
          "output_type": "stream",
          "name": "stdout",
          "text": [
            "Кол-во пропущенных значений: 56\n",
            "update: Кол-во пропущенных значений: 0\n"
          ]
        }
      ]
    },
    {
      "cell_type": "markdown",
      "source": [
        "Рассмотрим следующий признак пол жертвы."
      ],
      "metadata": {
        "id": "205G3V8rdlQ2"
      }
    },
    {
      "cell_type": "code",
      "source": [
        "describe_counter(df['gender of the victim'])"
      ],
      "metadata": {
        "colab": {
          "base_uri": "https://localhost:8080/"
        },
        "id": "y3z1GnNDdlTZ",
        "outputId": "81c1d7d8-092d-406c-dee3-de8bd7697807"
      },
      "execution_count": 51,
      "outputs": [
        {
          "output_type": "stream",
          "name": "stdout",
          "text": [
            "value: ж ,count: 86\n",
            "value: мж ,count: 77\n",
            "value: м ,count: 22\n",
            "------------------------\n",
            "неизвестных значений нет\n"
          ]
        }
      ]
    },
    {
      "cell_type": "markdown",
      "source": [
        "Данный фич имеет только 3 различных значения. Для кодировки воспользуемся решением из коробки \"get_dummies\""
      ],
      "metadata": {
        "id": "J4j0XsORnQY8"
      }
    },
    {
      "cell_type": "code",
      "source": [
        "new_df = pd.get_dummies(df['gender of the victim'], )\n",
        "\n",
        "new_df = new_df.rename(columns={'ж':'Female',\n",
        "                       'м':'Male',\n",
        "                       'мж':'FM'})\n",
        "df = pd.concat([df, new_df], axis=1)\n",
        "df.drop('gender of the victim', axis=1, inplace=True)\n",
        "df.head()"
      ],
      "metadata": {
        "colab": {
          "base_uri": "https://localhost:8080/",
          "height": 421
        },
        "id": "z53gzy1qnQbg",
        "outputId": "87c7fd71-be8c-42e3-c249-a5322df1868d"
      },
      "execution_count": 52,
      "outputs": [
        {
          "output_type": "execute_result",
          "data": {
            "text/plain": [
              "  age of the criminal        criminal education m.s. criminal        type_cr  \\\n",
              "0                  30                   среднее           нет  меркантильный   \n",
              "1                  23  среднее профессиональное           нет    властолюбец   \n",
              "2                  20  среднее профессиональное           нет       гедонист   \n",
              "3               18-30                 начальное           нет    властолюбец   \n",
              "4          неизвестно                неизвестно    неизвестно       гедонист   \n",
              "\n",
              "             psychotype_cr psycho_cr gender_cr            profession_cr  \\\n",
              "0  социально дезадаптивный       нет         м                      нет   \n",
              "1  социально дезадаптивный   сильное         ж                медсестра   \n",
              "2     социально адаптивный   среднее         м  грузчик, военнослужащий   \n",
              "3  социально дезадаптивный   среднее         м                      нет   \n",
              "4     социально адаптивный   сильное         м               неизвестно   \n",
              "\n",
              "   weapon_hands  weapon_cold  ...  place_others  victims_<10  victims_10_25  \\\n",
              "0             1            0  ...             0            0              0   \n",
              "1             0            0  ...             1            1              0   \n",
              "2             1            0  ...             0            0              1   \n",
              "3             1            0  ...             0            0              0   \n",
              "4             1            0  ...             0            1              0   \n",
              "\n",
              "   victims_25_50  victims_>50  age_ot  age_do  Female  Male  FM  \n",
              "0              0            1      15    30.0       0     0   1  \n",
              "1              0            0       2    11.0       0     0   1  \n",
              "2              0            0      13    20.0       1     0   0  \n",
              "3              0            1       7    40.0       0     0   1  \n",
              "4              0            0      10    11.0       1     0   0  \n",
              "\n",
              "[5 rows x 35 columns]"
            ],
            "text/html": [
              "\n",
              "  <div id=\"df-7c168ec4-ca0f-4a4e-90cc-a6764734f0c9\">\n",
              "    <div class=\"colab-df-container\">\n",
              "      <div>\n",
              "<style scoped>\n",
              "    .dataframe tbody tr th:only-of-type {\n",
              "        vertical-align: middle;\n",
              "    }\n",
              "\n",
              "    .dataframe tbody tr th {\n",
              "        vertical-align: top;\n",
              "    }\n",
              "\n",
              "    .dataframe thead th {\n",
              "        text-align: right;\n",
              "    }\n",
              "</style>\n",
              "<table border=\"1\" class=\"dataframe\">\n",
              "  <thead>\n",
              "    <tr style=\"text-align: right;\">\n",
              "      <th></th>\n",
              "      <th>age of the criminal</th>\n",
              "      <th>criminal education</th>\n",
              "      <th>m.s. criminal</th>\n",
              "      <th>type_cr</th>\n",
              "      <th>psychotype_cr</th>\n",
              "      <th>psycho_cr</th>\n",
              "      <th>gender_cr</th>\n",
              "      <th>profession_cr</th>\n",
              "      <th>weapon_hands</th>\n",
              "      <th>weapon_cold</th>\n",
              "      <th>...</th>\n",
              "      <th>place_others</th>\n",
              "      <th>victims_&lt;10</th>\n",
              "      <th>victims_10_25</th>\n",
              "      <th>victims_25_50</th>\n",
              "      <th>victims_&gt;50</th>\n",
              "      <th>age_ot</th>\n",
              "      <th>age_do</th>\n",
              "      <th>Female</th>\n",
              "      <th>Male</th>\n",
              "      <th>FM</th>\n",
              "    </tr>\n",
              "  </thead>\n",
              "  <tbody>\n",
              "    <tr>\n",
              "      <th>0</th>\n",
              "      <td>30</td>\n",
              "      <td>среднее</td>\n",
              "      <td>нет</td>\n",
              "      <td>меркантильный</td>\n",
              "      <td>социально дезадаптивный</td>\n",
              "      <td>нет</td>\n",
              "      <td>м</td>\n",
              "      <td>нет</td>\n",
              "      <td>1</td>\n",
              "      <td>0</td>\n",
              "      <td>...</td>\n",
              "      <td>0</td>\n",
              "      <td>0</td>\n",
              "      <td>0</td>\n",
              "      <td>0</td>\n",
              "      <td>1</td>\n",
              "      <td>15</td>\n",
              "      <td>30.0</td>\n",
              "      <td>0</td>\n",
              "      <td>0</td>\n",
              "      <td>1</td>\n",
              "    </tr>\n",
              "    <tr>\n",
              "      <th>1</th>\n",
              "      <td>23</td>\n",
              "      <td>среднее профессиональное</td>\n",
              "      <td>нет</td>\n",
              "      <td>властолюбец</td>\n",
              "      <td>социально дезадаптивный</td>\n",
              "      <td>сильное</td>\n",
              "      <td>ж</td>\n",
              "      <td>медсестра</td>\n",
              "      <td>0</td>\n",
              "      <td>0</td>\n",
              "      <td>...</td>\n",
              "      <td>1</td>\n",
              "      <td>1</td>\n",
              "      <td>0</td>\n",
              "      <td>0</td>\n",
              "      <td>0</td>\n",
              "      <td>2</td>\n",
              "      <td>11.0</td>\n",
              "      <td>0</td>\n",
              "      <td>0</td>\n",
              "      <td>1</td>\n",
              "    </tr>\n",
              "    <tr>\n",
              "      <th>2</th>\n",
              "      <td>20</td>\n",
              "      <td>среднее профессиональное</td>\n",
              "      <td>нет</td>\n",
              "      <td>гедонист</td>\n",
              "      <td>социально адаптивный</td>\n",
              "      <td>среднее</td>\n",
              "      <td>м</td>\n",
              "      <td>грузчик, военнослужащий</td>\n",
              "      <td>1</td>\n",
              "      <td>0</td>\n",
              "      <td>...</td>\n",
              "      <td>0</td>\n",
              "      <td>0</td>\n",
              "      <td>1</td>\n",
              "      <td>0</td>\n",
              "      <td>0</td>\n",
              "      <td>13</td>\n",
              "      <td>20.0</td>\n",
              "      <td>1</td>\n",
              "      <td>0</td>\n",
              "      <td>0</td>\n",
              "    </tr>\n",
              "    <tr>\n",
              "      <th>3</th>\n",
              "      <td>18-30</td>\n",
              "      <td>начальное</td>\n",
              "      <td>нет</td>\n",
              "      <td>властолюбец</td>\n",
              "      <td>социально дезадаптивный</td>\n",
              "      <td>среднее</td>\n",
              "      <td>м</td>\n",
              "      <td>нет</td>\n",
              "      <td>1</td>\n",
              "      <td>0</td>\n",
              "      <td>...</td>\n",
              "      <td>0</td>\n",
              "      <td>0</td>\n",
              "      <td>0</td>\n",
              "      <td>0</td>\n",
              "      <td>1</td>\n",
              "      <td>7</td>\n",
              "      <td>40.0</td>\n",
              "      <td>0</td>\n",
              "      <td>0</td>\n",
              "      <td>1</td>\n",
              "    </tr>\n",
              "    <tr>\n",
              "      <th>4</th>\n",
              "      <td>неизвестно</td>\n",
              "      <td>неизвестно</td>\n",
              "      <td>неизвестно</td>\n",
              "      <td>гедонист</td>\n",
              "      <td>социально адаптивный</td>\n",
              "      <td>сильное</td>\n",
              "      <td>м</td>\n",
              "      <td>неизвестно</td>\n",
              "      <td>1</td>\n",
              "      <td>0</td>\n",
              "      <td>...</td>\n",
              "      <td>0</td>\n",
              "      <td>1</td>\n",
              "      <td>0</td>\n",
              "      <td>0</td>\n",
              "      <td>0</td>\n",
              "      <td>10</td>\n",
              "      <td>11.0</td>\n",
              "      <td>1</td>\n",
              "      <td>0</td>\n",
              "      <td>0</td>\n",
              "    </tr>\n",
              "  </tbody>\n",
              "</table>\n",
              "<p>5 rows × 35 columns</p>\n",
              "</div>\n",
              "      <button class=\"colab-df-convert\" onclick=\"convertToInteractive('df-7c168ec4-ca0f-4a4e-90cc-a6764734f0c9')\"\n",
              "              title=\"Convert this dataframe to an interactive table.\"\n",
              "              style=\"display:none;\">\n",
              "        \n",
              "  <svg xmlns=\"http://www.w3.org/2000/svg\" height=\"24px\"viewBox=\"0 0 24 24\"\n",
              "       width=\"24px\">\n",
              "    <path d=\"M0 0h24v24H0V0z\" fill=\"none\"/>\n",
              "    <path d=\"M18.56 5.44l.94 2.06.94-2.06 2.06-.94-2.06-.94-.94-2.06-.94 2.06-2.06.94zm-11 1L8.5 8.5l.94-2.06 2.06-.94-2.06-.94L8.5 2.5l-.94 2.06-2.06.94zm10 10l.94 2.06.94-2.06 2.06-.94-2.06-.94-.94-2.06-.94 2.06-2.06.94z\"/><path d=\"M17.41 7.96l-1.37-1.37c-.4-.4-.92-.59-1.43-.59-.52 0-1.04.2-1.43.59L10.3 9.45l-7.72 7.72c-.78.78-.78 2.05 0 2.83L4 21.41c.39.39.9.59 1.41.59.51 0 1.02-.2 1.41-.59l7.78-7.78 2.81-2.81c.8-.78.8-2.07 0-2.86zM5.41 20L4 18.59l7.72-7.72 1.47 1.35L5.41 20z\"/>\n",
              "  </svg>\n",
              "      </button>\n",
              "      \n",
              "  <style>\n",
              "    .colab-df-container {\n",
              "      display:flex;\n",
              "      flex-wrap:wrap;\n",
              "      gap: 12px;\n",
              "    }\n",
              "\n",
              "    .colab-df-convert {\n",
              "      background-color: #E8F0FE;\n",
              "      border: none;\n",
              "      border-radius: 50%;\n",
              "      cursor: pointer;\n",
              "      display: none;\n",
              "      fill: #1967D2;\n",
              "      height: 32px;\n",
              "      padding: 0 0 0 0;\n",
              "      width: 32px;\n",
              "    }\n",
              "\n",
              "    .colab-df-convert:hover {\n",
              "      background-color: #E2EBFA;\n",
              "      box-shadow: 0px 1px 2px rgba(60, 64, 67, 0.3), 0px 1px 3px 1px rgba(60, 64, 67, 0.15);\n",
              "      fill: #174EA6;\n",
              "    }\n",
              "\n",
              "    [theme=dark] .colab-df-convert {\n",
              "      background-color: #3B4455;\n",
              "      fill: #D2E3FC;\n",
              "    }\n",
              "\n",
              "    [theme=dark] .colab-df-convert:hover {\n",
              "      background-color: #434B5C;\n",
              "      box-shadow: 0px 1px 3px 1px rgba(0, 0, 0, 0.15);\n",
              "      filter: drop-shadow(0px 1px 2px rgba(0, 0, 0, 0.3));\n",
              "      fill: #FFFFFF;\n",
              "    }\n",
              "  </style>\n",
              "\n",
              "      <script>\n",
              "        const buttonEl =\n",
              "          document.querySelector('#df-7c168ec4-ca0f-4a4e-90cc-a6764734f0c9 button.colab-df-convert');\n",
              "        buttonEl.style.display =\n",
              "          google.colab.kernel.accessAllowed ? 'block' : 'none';\n",
              "\n",
              "        async function convertToInteractive(key) {\n",
              "          const element = document.querySelector('#df-7c168ec4-ca0f-4a4e-90cc-a6764734f0c9');\n",
              "          const dataTable =\n",
              "            await google.colab.kernel.invokeFunction('convertToInteractive',\n",
              "                                                     [key], {});\n",
              "          if (!dataTable) return;\n",
              "\n",
              "          const docLinkHtml = 'Like what you see? Visit the ' +\n",
              "            '<a target=\"_blank\" href=https://colab.research.google.com/notebooks/data_table.ipynb>data table notebook</a>'\n",
              "            + ' to learn more about interactive tables.';\n",
              "          element.innerHTML = '';\n",
              "          dataTable['output_type'] = 'display_data';\n",
              "          await google.colab.output.renderOutput(dataTable, element);\n",
              "          const docLink = document.createElement('div');\n",
              "          docLink.innerHTML = docLinkHtml;\n",
              "          element.appendChild(docLink);\n",
              "        }\n",
              "      </script>\n",
              "    </div>\n",
              "  </div>\n",
              "  "
            ]
          },
          "metadata": {},
          "execution_count": 52
        }
      ]
    },
    {
      "cell_type": "markdown",
      "source": [
        "Следующий, один из наиболее важных признаков, на которые будем обучать нашу сеть - возраст преступника. Посмотрим распределение возраста преступника, и попробуем разбить на возрастные подгруппы."
      ],
      "metadata": {
        "id": "5ZyB9Wg_nQeE"
      }
    },
    {
      "cell_type": "code",
      "source": [
        "describe_counter(df['age of the criminal'])"
      ],
      "metadata": {
        "colab": {
          "base_uri": "https://localhost:8080/"
        },
        "id": "HV0Nx9lPdlVz",
        "outputId": "603b78ba-c011-4360-cec4-f64dc1993fbc"
      },
      "execution_count": 53,
      "outputs": [
        {
          "output_type": "stream",
          "name": "stdout",
          "text": [
            "value: неизвестно ,count: 11\n",
            "value: 35 ,count: 6\n",
            "value: 30 ,count: 4\n",
            "value: 28 ,count: 3\n",
            "value: 31 ,count: 3\n",
            "value: 38 ,count: 3\n",
            "value: 23 ,count: 2\n",
            "value: 29-32 ,count: 2\n",
            "value: 27-32 ,count: 2\n",
            "value: 23-29 ,count: 2\n",
            "остальное:\n",
            "20-26,33,32-34,24-36,33-42,30-31,20-23,27-33,28-30,31-33,22,32-33,26,24-31,19,40,18,26-28,29,32,20,18-30,28-37,49-55,20-21,34-43,26-34,42-46,15-19,51,38-42,21,45,14,17,36,40-48,17-33,34-37,30-36,29-37,28-34,33-34,32-42,43,28-56,10-16,38-59,50,18-20,30-40,40-60,18-31,36-45,31-41,30 и 32,20-40,41-64,24-34,20-31,40-41,58,25-37,31-32,41-42,26-30,27-28,19-23,19-22,66-74,29-34,29-31,18-32,35-46,41-43,26-27,23-45,37-39,25-26,38-45,41-44,27-38,13-30,25-28,32-48,23-25,46-50,52,49-51,14-23,34-39,23-24,23-26,25 - 75,30-35,46-47,39,45-48,16-42,42-51,37-38,39-41,38-40,25,27,23-31,30-65,38-48,34-36,26-38,16-27,20 - 31,17-25,39-40,52-56,38-39,21-32,23-32,28-53,45-54,32-35,36-50,51-57,14-36,33-37,34-38,35-37\n",
            "------------------------\n",
            "есть неизвестные значения\n"
          ]
        }
      ]
    },
    {
      "cell_type": "markdown",
      "source": [
        "Обработуем возраста преступников, с возрастным промежутком преступника и возмем средние значения."
      ],
      "metadata": {
        "id": "C6sD1SZ8dlYJ"
      }
    },
    {
      "cell_type": "code",
      "source": [
        "array = list(df['age of the criminal'].values)\n",
        "age = []\n",
        "do_ = []\n",
        "for v in array:\n",
        "  v = v.replace(' ','')\n",
        "  if v == 'неизвестно':\n",
        "    age.append(np.NaN)\n",
        "  elif '-' in v:\n",
        "    s,f = v.split('-')\n",
        "    age.append((int(s) + int(f)) / 2)\n",
        "  elif 'и' in v:\n",
        "    s,f = v.split('и')\n",
        "    age.append((int(s) + int(f)) / 2)\n",
        "  else:\n",
        "    age.append(int(v))"
      ],
      "metadata": {
        "id": "ECQkhY34dla4"
      },
      "execution_count": 54,
      "outputs": []
    },
    {
      "cell_type": "code",
      "source": [
        "df['age_cr'] = age\n",
        "df.drop('age of the criminal', axis=1, inplace=True)"
      ],
      "metadata": {
        "id": "8bOQXgBvdldR"
      },
      "execution_count": 55,
      "outputs": []
    },
    {
      "cell_type": "markdown",
      "source": [
        "У нас были неизвестные значения. Поменяем их на медианну данных, и построим график зависимости \"возраст - кол-во преступников\""
      ],
      "metadata": {
        "id": "4oRLk8GSr0e7"
      }
    },
    {
      "cell_type": "code",
      "source": [
        "print(f\"Кол-во пропущенных значений: {df['age_cr'].isna().sum()}\")\n",
        "df['age_cr'] = df['age_cr'].fillna(df['age_cr'].median())\n",
        "print(f\"update: Кол-во пропущенных значений: {df['age_cr'].isna().sum()}\")"
      ],
      "metadata": {
        "colab": {
          "base_uri": "https://localhost:8080/"
        },
        "id": "hmYJ3RPur0ha",
        "outputId": "518ac593-445a-400a-d27c-dacd2ac903bf"
      },
      "execution_count": 56,
      "outputs": [
        {
          "output_type": "stream",
          "name": "stdout",
          "text": [
            "Кол-во пропущенных значений: 11\n",
            "update: Кол-во пропущенных значений: 0\n"
          ]
        }
      ]
    },
    {
      "cell_type": "code",
      "source": [
        "plt.title('График возраста преступников и их кол-ва', fontsize=18);\n",
        "plt.ylabel('Кол-во найденных значений', fontsize=14);\n",
        "plt.xlabel('Возраст преступника', fontsize=14);\n",
        "df['age_cr'].hist(bins=100);"
      ],
      "metadata": {
        "colab": {
          "base_uri": "https://localhost:8080/",
          "height": 303
        },
        "id": "sMdkR8Sur0kj",
        "outputId": "741b038e-feac-45ef-9694-45bec30bec8d"
      },
      "execution_count": 57,
      "outputs": [
        {
          "output_type": "display_data",
          "data": {
            "text/plain": [
              "<Figure size 432x288 with 1 Axes>"
            ],
            "image/png": "[encoded data removed]"
          },
          "metadata": {
            "needs_background": "light"
          }
        }
      ]
    },
    {
      "cell_type": "markdown",
      "source": [
        "Данные распределены неравномерно. Создадим следующие возрастные категории: \n",
        "10-20, 20-30, 30-40, 40-50, 50-60 и т.д."
      ],
      "metadata": {
        "id": "Edb0I0S6dlf3"
      }
    },
    {
      "cell_type": "code",
      "source": [
        "df['age_cr'] = df['age_cr'] // 10 - 1\n",
        "df['age_cr'] = df['age_cr'].astype(int)\n",
        "df['age_cr'].value_counts()"
      ],
      "metadata": {
        "colab": {
          "base_uri": "https://localhost:8080/"
        },
        "id": "wqhwKTTbdliU",
        "outputId": "3eeb5e8a-c85d-4d41-e71c-d527ff10f342"
      },
      "execution_count": 58,
      "outputs": [
        {
          "output_type": "execute_result",
          "data": {
            "text/plain": [
              "2    81\n",
              "1    55\n",
              "3    27\n",
              "4    11\n",
              "0    10\n",
              "6     1\n",
              "Name: age_cr, dtype: int64"
            ]
          },
          "metadata": {},
          "execution_count": 58
        }
      ]
    },
    {
      "cell_type": "markdown",
      "source": [
        "Заметим, что существует категория 6 - состоящая из 1 человека. Определим его в 5ую категорию (самая возрастная)"
      ],
      "metadata": {
        "id": "kP5w6LB7dlk3"
      }
    },
    {
      "cell_type": "code",
      "source": [
        "df.loc[df['age_cr'] == 6, 'age_cr'] = 1\n",
        "df['age_cr'].value_counts()"
      ],
      "metadata": {
        "colab": {
          "base_uri": "https://localhost:8080/"
        },
        "id": "STiD0INKdlnA",
        "outputId": "67bcf1f2-76df-4903-b3f5-f2200f428141"
      },
      "execution_count": 59,
      "outputs": [
        {
          "output_type": "execute_result",
          "data": {
            "text/plain": [
              "2    81\n",
              "1    56\n",
              "3    27\n",
              "4    11\n",
              "0    10\n",
              "Name: age_cr, dtype: int64"
            ]
          },
          "metadata": {},
          "execution_count": 59
        }
      ]
    },
    {
      "cell_type": "markdown",
      "source": [
        "Следующий признак - образование преступников"
      ],
      "metadata": {
        "id": "soAMKgxbdlpV"
      }
    },
    {
      "cell_type": "code",
      "source": [
        "describe_counter(df['criminal education'])"
      ],
      "metadata": {
        "colab": {
          "base_uri": "https://localhost:8080/"
        },
        "id": "feRBh3SLdlsU",
        "outputId": "8fce69fa-c90b-4deb-d98b-8dacf4ced308"
      },
      "execution_count": 60,
      "outputs": [
        {
          "output_type": "stream",
          "name": "stdout",
          "text": [
            "value: среднее ,count: 56\n",
            "value: нет ,count: 49\n",
            "value: начальное ,count: 34\n",
            "value: высшее ,count: 19\n",
            "value: среднее профессиональное ,count: 14\n",
            "value: неизвестно ,count: 11\n",
            "value: среднее неоконченное ,count: 1\n",
            "value: среднее  ,count: 1\n",
            "------------------------\n",
            "есть неизвестные значения\n"
          ]
        }
      ]
    },
    {
      "cell_type": "markdown",
      "source": [
        "Разобьем данные на категории по образованию: среднее, начальное, высшее, отсутствует. Если нет данных об образование, предположим, что образование отсутствует.\n",
        "Создадим результрующий признак, в котором будет 4 категории образование:\n",
        "0 - среднее, 1 - начальное, 2 - высшее, 3 - без образования"
      ],
      "metadata": {
        "id": "NUanlLQfdlwU"
      }
    },
    {
      "cell_type": "code",
      "source": [
        "df['cr_ed'] = df['criminal education'].str.find('среднее')\n",
        "df['cr_ed'] = np.where(df['cr_ed'] != -1, 1, 0)\n",
        "\n",
        "df['start_ed'] = df['criminal education'].str.find('начальное')\n",
        "df['start_ed'] = np.where(df['start_ed'] != -1, 1, 0)\n",
        "\n",
        "df['high_ed'] = df['criminal education'].str.find('высшее')\n",
        "df['high_ed'] = np.where(df['high_ed'] != -1, 1, 0)\n",
        "\n",
        "df['no_ed_1'] = df['criminal education'].str.find('неизвестно')\n",
        "df['no_ed_1'] = np.where(df['no_ed_1'] != -1, 1, 0)\n",
        "df['no_ed_2'] = df['criminal education'].str.find('нет')\n",
        "df['no_ed_2'] = np.where(df['no_ed_2'] != -1, 1, 0)\n",
        "df['no_ed_'] = df['no_ed_1'] + df['no_ed_2']\n",
        "df.drop(['no_ed_1', 'no_ed_2', 'criminal education'], axis=1, inplace=True)\n",
        "df['ed_cr'] = 0\n",
        "df['ed_cr'] = np.where(df['cr_ed'] == 1, 0, df['ed_cr'])\n",
        "df['ed_cr'] = np.where(df['start_ed'] == 1, 1, df['ed_cr'])\n",
        "df['ed_cr'] = np.where(df['high_ed'] == 1, 2, df['ed_cr'])\n",
        "df['ed_cr'] = np.where(df['no_ed_'] == 1, 3, df['ed_cr'])\n",
        "df.drop(['cr_ed', 'start_ed', 'high_ed', 'no_ed_'],axis=1, inplace=True)"
      ],
      "metadata": {
        "id": "QfSjnkKzdlys"
      },
      "execution_count": 61,
      "outputs": []
    },
    {
      "cell_type": "markdown",
      "source": [
        "Следующий признак - семейный статус преступника"
      ],
      "metadata": {
        "id": "85uffPENdl1I"
      }
    },
    {
      "cell_type": "code",
      "source": [
        "describe_counter(df['m.s. criminal'])"
      ],
      "metadata": {
        "colab": {
          "base_uri": "https://localhost:8080/"
        },
        "id": "04YhIwR5dl3l",
        "outputId": "c6d6a281-0e96-4dba-879a-a4a381163db4"
      },
      "execution_count": 62,
      "outputs": [
        {
          "output_type": "stream",
          "name": "stdout",
          "text": [
            "value: нет ,count: 114\n",
            "value: брак ,count: 58\n",
            "value: неизвестно ,count: 7\n",
            "value: гр. брак ,count: 5\n",
            "value: да ,count: 1\n",
            "------------------------\n",
            "есть неизвестные значения\n"
          ]
        }
      ]
    },
    {
      "cell_type": "markdown",
      "source": [
        "Сделаем бинарный признак: 1 - будет означать женат, 0 - нет. Все неизвестнные значения поменяем на 0."
      ],
      "metadata": {
        "id": "YaBaXn7Mdl55"
      }
    },
    {
      "cell_type": "code",
      "source": [
        "df['m.s_cr'] = df['m.s. criminal'].str.find('а')\n",
        "df['m.s_cr']  = np.where(df['m.s_cr']  != -1, 1, 0)\n",
        "df['m.s_cr'].value_counts()\n",
        "df.drop(['m.s. criminal'], axis=1, inplace=True)"
      ],
      "metadata": {
        "id": "WycUKc3Fdl8i"
      },
      "execution_count": 63,
      "outputs": []
    },
    {
      "cell_type": "markdown",
      "source": [
        "Следующий важные признаки - тип преступника и психологический тип преступника."
      ],
      "metadata": {
        "id": "mJvv-ecgdl_C"
      }
    },
    {
      "cell_type": "code",
      "source": [
        "describe_counter(df['type_cr'])"
      ],
      "metadata": {
        "colab": {
          "base_uri": "https://localhost:8080/"
        },
        "id": "NrVCRSZgUlg8",
        "outputId": "f97be4d8-d495-41ec-b9e4-3bd1432e27d3"
      },
      "execution_count": 64,
      "outputs": [
        {
          "output_type": "stream",
          "name": "stdout",
          "text": [
            "value: гедонист ,count: 112\n",
            "value: меркантильный ,count: 29\n",
            "value: властолюбец ,count: 17\n",
            "value: визионер ,count: 14\n",
            "value: миссионер ,count: 13\n",
            "value: каннибал ,count: 3\n",
            "value: неизвестно ,count: 1\n",
            "value: меркантильность ,count: 1\n",
            "------------------------\n",
            "есть неизвестные значения\n"
          ]
        }
      ]
    },
    {
      "cell_type": "markdown",
      "source": [
        "Создадим аналогично признаку семейного положения два бинарных признака. Является ли он гедонистом или меркантильный. (Выбор основан на данных двух характеристиках по наибольшей популярности типа преступника)\n"
      ],
      "metadata": {
        "id": "GVRkQUsO0WFg"
      }
    },
    {
      "cell_type": "code",
      "source": [
        "df['type_gedonist'] = df['type_cr'].str.find('гедонист')\n",
        "df['type_gedonist']  = np.where(df['type_gedonist']  != -1, 1, 0)\n",
        "\n",
        "df['type_merkantilnii'] = df['type_cr'].str.find('меркантильн')\n",
        "df['type_merkantilnii']  = np.where(df['type_merkantilnii']  != -1, 1, 0)\n",
        "\n",
        "df.drop(['type_cr'], axis=1, inplace=True)"
      ],
      "metadata": {
        "id": "HmgLTx6X0sNb"
      },
      "execution_count": 65,
      "outputs": []
    },
    {
      "cell_type": "code",
      "source": [
        "describe_counter(df['psychotype_cr'])"
      ],
      "metadata": {
        "colab": {
          "base_uri": "https://localhost:8080/"
        },
        "id": "L9trZZlM1XAN",
        "outputId": "6d2bab03-b6aa-4934-f695-64c5b045b4f7"
      },
      "execution_count": 66,
      "outputs": [
        {
          "output_type": "stream",
          "name": "stdout",
          "text": [
            "value: социально дезадаптивный ,count: 98\n",
            "value: социально адаптивный ,count: 84\n",
            "value: социальное дезадаптивный ,count: 1\n",
            "value: неизвестно ,count: 1\n",
            "value: социаьно адаптивный ,count: 1\n",
            "------------------------\n",
            "есть неизвестные значения\n"
          ]
        }
      ]
    },
    {
      "cell_type": "markdown",
      "source": [
        "Снова преобразуем в 2 бинарных значения: 1 - адаптивный, 2 - дезадаптивный."
      ],
      "metadata": {
        "id": "F9E7gUBL2GBH"
      }
    },
    {
      "cell_type": "code",
      "source": [
        "df['adapt/dezapt'] = 0\n",
        "df.loc[df['psychotype_cr'] == \"социально адаптивный\", 'adapt/dezapt'] = 1\n",
        "df.loc[df['psychotype_cr'] == \"социаьно адаптивный\", 'adapt/dezapt'] = 1\n",
        "df.drop(['psychotype_cr'], axis=1, inplace=True)"
      ],
      "metadata": {
        "id": "YMh2iexl2Vxn"
      },
      "execution_count": 67,
      "outputs": []
    },
    {
      "cell_type": "markdown",
      "source": [
        "Рассмотрим следующий признак - наличие психологического расстройства у преступника"
      ],
      "metadata": {
        "id": "I9nLnbHd3VUN"
      }
    },
    {
      "cell_type": "code",
      "source": [
        "describe_counter(df['psycho_cr'])"
      ],
      "metadata": {
        "colab": {
          "base_uri": "https://localhost:8080/"
        },
        "id": "ANrTwhlU3VX8",
        "outputId": "a7992dd9-4e98-400f-a7fe-fd57ab830760"
      },
      "execution_count": 68,
      "outputs": [
        {
          "output_type": "stream",
          "name": "stdout",
          "text": [
            "value: нет ,count: 64\n",
            "value: сильное ,count: 58\n",
            "value: среднее ,count: 58\n",
            "value: неизвестно ,count: 5\n",
            "------------------------\n",
            "есть неизвестные значения\n"
          ]
        }
      ]
    },
    {
      "cell_type": "markdown",
      "source": [
        "Закодируем признак по приниципу:\n",
        "0 - нету расстройства,\n",
        "1 - среднее,\n",
        "2 -сильное расстройство."
      ],
      "metadata": {
        "id": "JB4Fn0843oph"
      }
    },
    {
      "cell_type": "code",
      "source": [
        "df['psycho_r'] = 0\n",
        "df.loc[df['psycho_cr'] == \"сильное\", 'psycho_r'] = 2\n",
        "df.loc[df['psycho_cr'] == \"среднее\", 'psycho_r'] = 1\n",
        "df.drop(['psycho_cr'], axis=1, inplace=True)"
      ],
      "metadata": {
        "id": "IWTzLKc53osL"
      },
      "execution_count": 69,
      "outputs": []
    },
    {
      "cell_type": "markdown",
      "source": [
        "Второй важный признак, на который будет обучаться нейросеть - пол преступника. \n",
        "Рассмотрим значения данного признака, и закодируем по принципу one_hot_encoding"
      ],
      "metadata": {
        "id": "Fkns9_3f3ovV"
      }
    },
    {
      "cell_type": "code",
      "source": [
        "describe_counter(df['gender_cr'])\n",
        "df['gender_cr'] = df['gender_cr'].str.replace(' ', '')\n",
        "print()\n",
        "print('UPDATE')\n",
        "describe_counter(df['gender_cr'])"
      ],
      "metadata": {
        "colab": {
          "base_uri": "https://localhost:8080/"
        },
        "id": "dH-Is75-2V1u",
        "outputId": "2cbb762b-b477-4065-b701-3e2ab92a4eb7"
      },
      "execution_count": 70,
      "outputs": [
        {
          "output_type": "stream",
          "name": "stdout",
          "text": [
            "value: м ,count: 166\n",
            "value: ж ,count: 16\n",
            "value: м  ,count: 3\n",
            "------------------------\n",
            "неизвестных значений нет\n",
            "\n",
            "UPDATE\n",
            "value: м ,count: 169\n",
            "value: ж ,count: 16\n",
            "------------------------\n",
            "неизвестных значений нет\n"
          ]
        }
      ]
    },
    {
      "cell_type": "code",
      "source": [
        "new_df = pd.get_dummies(df['gender_cr'])\n",
        "df = pd.concat([df, new_df], axis=1)\n",
        "df.drop('gender_cr', axis=1, inplace=True)\n"
      ],
      "metadata": {
        "id": "HN7-VUCx2V4K"
      },
      "execution_count": 71,
      "outputs": []
    },
    {
      "cell_type": "code",
      "source": [
        "df = df.rename({'м': 'Sex'},axis=1)\n",
        "df.drop('ж', axis=1, inplace=True)\n"
      ],
      "metadata": {
        "id": "8RCGPMUs2V67"
      },
      "execution_count": 72,
      "outputs": []
    },
    {
      "cell_type": "code",
      "source": [
        "df.head()"
      ],
      "metadata": {
        "colab": {
          "base_uri": "https://localhost:8080/",
          "height": 317
        },
        "id": "5TKhXngH2V9F",
        "outputId": "75665291-28e2-45af-fca5-a79bc9bf0ffd"
      },
      "execution_count": 73,
      "outputs": [
        {
          "output_type": "execute_result",
          "data": {
            "text/plain": [
              "             profession_cr  weapon_hands  weapon_cold  weapon_fire  \\\n",
              "0                      нет             1            0            0   \n",
              "1                медсестра             0            0            0   \n",
              "2  грузчик, военнослужащий             1            0            0   \n",
              "3                      нет             1            0            0   \n",
              "4               неизвестно             1            0            0   \n",
              "\n",
              "   weapon_core  weapon_others  type_rape  type_robbery  type_murder  \\\n",
              "0            0              0          0             1            1   \n",
              "1            0              1          0             0            1   \n",
              "2            0              0          1             0            1   \n",
              "3            0              0          1             0            1   \n",
              "4            0              0          1             0            1   \n",
              "\n",
              "   type_others  ...  Male  FM  age_cr  ed_cr  m.s_cr  type_gedonist  \\\n",
              "0            0  ...     0   1       2      0       0              0   \n",
              "1            0  ...     0   1       1      0       0              0   \n",
              "2            0  ...     0   0       1      0       0              1   \n",
              "3            0  ...     0   1       1      1       0              0   \n",
              "4            0  ...     0   0       2      3       0              1   \n",
              "\n",
              "   type_merkantilnii  adapt/dezapt  psycho_r  Sex  \n",
              "0                  1             0         0    1  \n",
              "1                  0             0         2    0  \n",
              "2                  0             1         1    1  \n",
              "3                  0             0         1    1  \n",
              "4                  0             1         2    1  \n",
              "\n",
              "[5 rows x 36 columns]"
            ],
            "text/html": [
              "\n",
              "  <div id=\"df-d3867d72-97b3-4146-82b1-e030a2a30a71\">\n",
              "    <div class=\"colab-df-container\">\n",
              "      <div>\n",
              "<style scoped>\n",
              "    .dataframe tbody tr th:only-of-type {\n",
              "        vertical-align: middle;\n",
              "    }\n",
              "\n",
              "    .dataframe tbody tr th {\n",
              "        vertical-align: top;\n",
              "    }\n",
              "\n",
              "    .dataframe thead th {\n",
              "        text-align: right;\n",
              "    }\n",
              "</style>\n",
              "<table border=\"1\" class=\"dataframe\">\n",
              "  <thead>\n",
              "    <tr style=\"text-align: right;\">\n",
              "      <th></th>\n",
              "      <th>profession_cr</th>\n",
              "      <th>weapon_hands</th>\n",
              "      <th>weapon_cold</th>\n",
              "      <th>weapon_fire</th>\n",
              "      <th>weapon_core</th>\n",
              "      <th>weapon_others</th>\n",
              "      <th>type_rape</th>\n",
              "      <th>type_robbery</th>\n",
              "      <th>type_murder</th>\n",
              "      <th>type_others</th>\n",
              "      <th>...</th>\n",
              "      <th>Male</th>\n",
              "      <th>FM</th>\n",
              "      <th>age_cr</th>\n",
              "      <th>ed_cr</th>\n",
              "      <th>m.s_cr</th>\n",
              "      <th>type_gedonist</th>\n",
              "      <th>type_merkantilnii</th>\n",
              "      <th>adapt/dezapt</th>\n",
              "      <th>psycho_r</th>\n",
              "      <th>Sex</th>\n",
              "    </tr>\n",
              "  </thead>\n",
              "  <tbody>\n",
              "    <tr>\n",
              "      <th>0</th>\n",
              "      <td>нет</td>\n",
              "      <td>1</td>\n",
              "      <td>0</td>\n",
              "      <td>0</td>\n",
              "      <td>0</td>\n",
              "      <td>0</td>\n",
              "      <td>0</td>\n",
              "      <td>1</td>\n",
              "      <td>1</td>\n",
              "      <td>0</td>\n",
              "      <td>...</td>\n",
              "      <td>0</td>\n",
              "      <td>1</td>\n",
              "      <td>2</td>\n",
              "      <td>0</td>\n",
              "      <td>0</td>\n",
              "      <td>0</td>\n",
              "      <td>1</td>\n",
              "      <td>0</td>\n",
              "      <td>0</td>\n",
              "      <td>1</td>\n",
              "    </tr>\n",
              "    <tr>\n",
              "      <th>1</th>\n",
              "      <td>медсестра</td>\n",
              "      <td>0</td>\n",
              "      <td>0</td>\n",
              "      <td>0</td>\n",
              "      <td>0</td>\n",
              "      <td>1</td>\n",
              "      <td>0</td>\n",
              "      <td>0</td>\n",
              "      <td>1</td>\n",
              "      <td>0</td>\n",
              "      <td>...</td>\n",
              "      <td>0</td>\n",
              "      <td>1</td>\n",
              "      <td>1</td>\n",
              "      <td>0</td>\n",
              "      <td>0</td>\n",
              "      <td>0</td>\n",
              "      <td>0</td>\n",
              "      <td>0</td>\n",
              "      <td>2</td>\n",
              "      <td>0</td>\n",
              "    </tr>\n",
              "    <tr>\n",
              "      <th>2</th>\n",
              "      <td>грузчик, военнослужащий</td>\n",
              "      <td>1</td>\n",
              "      <td>0</td>\n",
              "      <td>0</td>\n",
              "      <td>0</td>\n",
              "      <td>0</td>\n",
              "      <td>1</td>\n",
              "      <td>0</td>\n",
              "      <td>1</td>\n",
              "      <td>0</td>\n",
              "      <td>...</td>\n",
              "      <td>0</td>\n",
              "      <td>0</td>\n",
              "      <td>1</td>\n",
              "      <td>0</td>\n",
              "      <td>0</td>\n",
              "      <td>1</td>\n",
              "      <td>0</td>\n",
              "      <td>1</td>\n",
              "      <td>1</td>\n",
              "      <td>1</td>\n",
              "    </tr>\n",
              "    <tr>\n",
              "      <th>3</th>\n",
              "      <td>нет</td>\n",
              "      <td>1</td>\n",
              "      <td>0</td>\n",
              "      <td>0</td>\n",
              "      <td>0</td>\n",
              "      <td>0</td>\n",
              "      <td>1</td>\n",
              "      <td>0</td>\n",
              "      <td>1</td>\n",
              "      <td>0</td>\n",
              "      <td>...</td>\n",
              "      <td>0</td>\n",
              "      <td>1</td>\n",
              "      <td>1</td>\n",
              "      <td>1</td>\n",
              "      <td>0</td>\n",
              "      <td>0</td>\n",
              "      <td>0</td>\n",
              "      <td>0</td>\n",
              "      <td>1</td>\n",
              "      <td>1</td>\n",
              "    </tr>\n",
              "    <tr>\n",
              "      <th>4</th>\n",
              "      <td>неизвестно</td>\n",
              "      <td>1</td>\n",
              "      <td>0</td>\n",
              "      <td>0</td>\n",
              "      <td>0</td>\n",
              "      <td>0</td>\n",
              "      <td>1</td>\n",
              "      <td>0</td>\n",
              "      <td>1</td>\n",
              "      <td>0</td>\n",
              "      <td>...</td>\n",
              "      <td>0</td>\n",
              "      <td>0</td>\n",
              "      <td>2</td>\n",
              "      <td>3</td>\n",
              "      <td>0</td>\n",
              "      <td>1</td>\n",
              "      <td>0</td>\n",
              "      <td>1</td>\n",
              "      <td>2</td>\n",
              "      <td>1</td>\n",
              "    </tr>\n",
              "  </tbody>\n",
              "</table>\n",
              "<p>5 rows × 36 columns</p>\n",
              "</div>\n",
              "      <button class=\"colab-df-convert\" onclick=\"convertToInteractive('df-d3867d72-97b3-4146-82b1-e030a2a30a71')\"\n",
              "              title=\"Convert this dataframe to an interactive table.\"\n",
              "              style=\"display:none;\">\n",
              "        \n",
              "  <svg xmlns=\"http://www.w3.org/2000/svg\" height=\"24px\"viewBox=\"0 0 24 24\"\n",
              "       width=\"24px\">\n",
              "    <path d=\"M0 0h24v24H0V0z\" fill=\"none\"/>\n",
              "    <path d=\"M18.56 5.44l.94 2.06.94-2.06 2.06-.94-2.06-.94-.94-2.06-.94 2.06-2.06.94zm-11 1L8.5 8.5l.94-2.06 2.06-.94-2.06-.94L8.5 2.5l-.94 2.06-2.06.94zm10 10l.94 2.06.94-2.06 2.06-.94-2.06-.94-.94-2.06-.94 2.06-2.06.94z\"/><path d=\"M17.41 7.96l-1.37-1.37c-.4-.4-.92-.59-1.43-.59-.52 0-1.04.2-1.43.59L10.3 9.45l-7.72 7.72c-.78.78-.78 2.05 0 2.83L4 21.41c.39.39.9.59 1.41.59.51 0 1.02-.2 1.41-.59l7.78-7.78 2.81-2.81c.8-.78.8-2.07 0-2.86zM5.41 20L4 18.59l7.72-7.72 1.47 1.35L5.41 20z\"/>\n",
              "  </svg>\n",
              "      </button>\n",
              "      \n",
              "  <style>\n",
              "    .colab-df-container {\n",
              "      display:flex;\n",
              "      flex-wrap:wrap;\n",
              "      gap: 12px;\n",
              "    }\n",
              "\n",
              "    .colab-df-convert {\n",
              "      background-color: #E8F0FE;\n",
              "      border: none;\n",
              "      border-radius: 50%;\n",
              "      cursor: pointer;\n",
              "      display: none;\n",
              "      fill: #1967D2;\n",
              "      height: 32px;\n",
              "      padding: 0 0 0 0;\n",
              "      width: 32px;\n",
              "    }\n",
              "\n",
              "    .colab-df-convert:hover {\n",
              "      background-color: #E2EBFA;\n",
              "      box-shadow: 0px 1px 2px rgba(60, 64, 67, 0.3), 0px 1px 3px 1px rgba(60, 64, 67, 0.15);\n",
              "      fill: #174EA6;\n",
              "    }\n",
              "\n",
              "    [theme=dark] .colab-df-convert {\n",
              "      background-color: #3B4455;\n",
              "      fill: #D2E3FC;\n",
              "    }\n",
              "\n",
              "    [theme=dark] .colab-df-convert:hover {\n",
              "      background-color: #434B5C;\n",
              "      box-shadow: 0px 1px 3px 1px rgba(0, 0, 0, 0.15);\n",
              "      filter: drop-shadow(0px 1px 2px rgba(0, 0, 0, 0.3));\n",
              "      fill: #FFFFFF;\n",
              "    }\n",
              "  </style>\n",
              "\n",
              "      <script>\n",
              "        const buttonEl =\n",
              "          document.querySelector('#df-d3867d72-97b3-4146-82b1-e030a2a30a71 button.colab-df-convert');\n",
              "        buttonEl.style.display =\n",
              "          google.colab.kernel.accessAllowed ? 'block' : 'none';\n",
              "\n",
              "        async function convertToInteractive(key) {\n",
              "          const element = document.querySelector('#df-d3867d72-97b3-4146-82b1-e030a2a30a71');\n",
              "          const dataTable =\n",
              "            await google.colab.kernel.invokeFunction('convertToInteractive',\n",
              "                                                     [key], {});\n",
              "          if (!dataTable) return;\n",
              "\n",
              "          const docLinkHtml = 'Like what you see? Visit the ' +\n",
              "            '<a target=\"_blank\" href=https://colab.research.google.com/notebooks/data_table.ipynb>data table notebook</a>'\n",
              "            + ' to learn more about interactive tables.';\n",
              "          element.innerHTML = '';\n",
              "          dataTable['output_type'] = 'display_data';\n",
              "          await google.colab.output.renderOutput(dataTable, element);\n",
              "          const docLink = document.createElement('div');\n",
              "          docLink.innerHTML = docLinkHtml;\n",
              "          element.appendChild(docLink);\n",
              "        }\n",
              "      </script>\n",
              "    </div>\n",
              "  </div>\n",
              "  "
            ]
          },
          "metadata": {},
          "execution_count": 73
        }
      ]
    },
    {
      "cell_type": "markdown",
      "source": [
        "Наличие 1 в признаке пола - означает что преступник является мужщиной, 0 - девушкой. Последний признак профессия преступника. Рассмотрим входные значения признака."
      ],
      "metadata": {
        "id": "5wAGcD0e6al1"
      }
    },
    {
      "cell_type": "code",
      "source": [
        "describe_counter(df['profession_cr'])"
      ],
      "metadata": {
        "colab": {
          "base_uri": "https://localhost:8080/"
        },
        "id": "gmqVzomS2V_Z",
        "outputId": "c8f5dffa-afa6-4f60-9849-748ec61e6e4d"
      },
      "execution_count": 74,
      "outputs": [
        {
          "output_type": "stream",
          "name": "stdout",
          "text": [
            "value: нет ,count: 73\n",
            "value: военный ,count: 12\n",
            "value: неизвестно ,count: 9\n",
            "value: медсестра ,count: 6\n",
            "value: автослесарь ,count: 5\n",
            "value: фермер ,count: 4\n",
            "value: рабочий ,count: 4\n",
            "value: низкоквалифицированный труд ,count: 4\n",
            "value: фотограф ,count: 3\n",
            "value: продавец ,count: 3\n",
            "остальное:\n",
            "автомеханик,грузчик,сиделка,психолог,бизнесмен,пожарный,сутенер,солдат,электрик,строитель,преприниматель,разнорабочий,слесарь,военнослужащий,дальнобойщик,педагог,сварщик,футболист,служанка,владелец магазина,клоун,художник,воспитатель,подмастерье,стекольщик,зоотехник,предприниматель,врач,кондитер,курьер,полицейский,органист,работник склада,секс-работник,шофер,натурщик,лаборант,матрос,инженер-радиотехник,милиционер,тракторист,водитель,посудомойка,театр,охранник,сезонный рабочий,няня,дровосек,жокей,психиатр,таксист,пристрельщик,бухгалтер,каменщик,дорожный разметчик,работник почты,секретарь,пекарь,автомойщик,батрак,кучер,инженер,жестянщик,оператор котельной,работник фастфуда,журналист,пиццерия,учитель\n",
            "------------------------\n",
            "есть неизвестные значения\n"
          ]
        }
      ]
    },
    {
      "cell_type": "markdown",
      "source": [
        "Около 50% неизвестных значений. Удалим данные фич, чтобы не портить входные данные. "
      ],
      "metadata": {
        "id": "ZthQ8Z4v2WDL"
      }
    },
    {
      "cell_type": "code",
      "source": [
        "df = df.drop('profession_cr', axis=1)\n",
        "df.head()"
      ],
      "metadata": {
        "colab": {
          "base_uri": "https://localhost:8080/",
          "height": 299
        },
        "id": "eZIKzri72WEx",
        "outputId": "e02fcf66-49e5-484f-f417-33cc9bb9ea0e"
      },
      "execution_count": 75,
      "outputs": [
        {
          "output_type": "execute_result",
          "data": {
            "text/plain": [
              "   weapon_hands  weapon_cold  weapon_fire  weapon_core  weapon_others  \\\n",
              "0             1            0            0            0              0   \n",
              "1             0            0            0            0              1   \n",
              "2             1            0            0            0              0   \n",
              "3             1            0            0            0              0   \n",
              "4             1            0            0            0              0   \n",
              "\n",
              "   type_rape  type_robbery  type_murder  type_others  motive_sex  ...  Male  \\\n",
              "0          0             1            1            0           0  ...     0   \n",
              "1          0             0            1            0           0  ...     0   \n",
              "2          1             0            1            0           1  ...     0   \n",
              "3          1             0            1            0           1  ...     0   \n",
              "4          1             0            1            0           1  ...     0   \n",
              "\n",
              "   FM  age_cr  ed_cr  m.s_cr  type_gedonist  type_merkantilnii  adapt/dezapt  \\\n",
              "0   1       2      0       0              0                  1             0   \n",
              "1   1       1      0       0              0                  0             0   \n",
              "2   0       1      0       0              1                  0             1   \n",
              "3   1       1      1       0              0                  0             0   \n",
              "4   0       2      3       0              1                  0             1   \n",
              "\n",
              "   psycho_r  Sex  \n",
              "0         0    1  \n",
              "1         2    0  \n",
              "2         1    1  \n",
              "3         1    1  \n",
              "4         2    1  \n",
              "\n",
              "[5 rows x 35 columns]"
            ],
            "text/html": [
              "\n",
              "  <div id=\"df-b003ced9-1d93-423b-a1cb-c7501ed5c1b3\">\n",
              "    <div class=\"colab-df-container\">\n",
              "      <div>\n",
              "<style scoped>\n",
              "    .dataframe tbody tr th:only-of-type {\n",
              "        vertical-align: middle;\n",
              "    }\n",
              "\n",
              "    .dataframe tbody tr th {\n",
              "        vertical-align: top;\n",
              "    }\n",
              "\n",
              "    .dataframe thead th {\n",
              "        text-align: right;\n",
              "    }\n",
              "</style>\n",
              "<table border=\"1\" class=\"dataframe\">\n",
              "  <thead>\n",
              "    <tr style=\"text-align: right;\">\n",
              "      <th></th>\n",
              "      <th>weapon_hands</th>\n",
              "      <th>weapon_cold</th>\n",
              "      <th>weapon_fire</th>\n",
              "      <th>weapon_core</th>\n",
              "      <th>weapon_others</th>\n",
              "      <th>type_rape</th>\n",
              "      <th>type_robbery</th>\n",
              "      <th>type_murder</th>\n",
              "      <th>type_others</th>\n",
              "      <th>motive_sex</th>\n",
              "      <th>...</th>\n",
              "      <th>Male</th>\n",
              "      <th>FM</th>\n",
              "      <th>age_cr</th>\n",
              "      <th>ed_cr</th>\n",
              "      <th>m.s_cr</th>\n",
              "      <th>type_gedonist</th>\n",
              "      <th>type_merkantilnii</th>\n",
              "      <th>adapt/dezapt</th>\n",
              "      <th>psycho_r</th>\n",
              "      <th>Sex</th>\n",
              "    </tr>\n",
              "  </thead>\n",
              "  <tbody>\n",
              "    <tr>\n",
              "      <th>0</th>\n",
              "      <td>1</td>\n",
              "      <td>0</td>\n",
              "      <td>0</td>\n",
              "      <td>0</td>\n",
              "      <td>0</td>\n",
              "      <td>0</td>\n",
              "      <td>1</td>\n",
              "      <td>1</td>\n",
              "      <td>0</td>\n",
              "      <td>0</td>\n",
              "      <td>...</td>\n",
              "      <td>0</td>\n",
              "      <td>1</td>\n",
              "      <td>2</td>\n",
              "      <td>0</td>\n",
              "      <td>0</td>\n",
              "      <td>0</td>\n",
              "      <td>1</td>\n",
              "      <td>0</td>\n",
              "      <td>0</td>\n",
              "      <td>1</td>\n",
              "    </tr>\n",
              "    <tr>\n",
              "      <th>1</th>\n",
              "      <td>0</td>\n",
              "      <td>0</td>\n",
              "      <td>0</td>\n",
              "      <td>0</td>\n",
              "      <td>1</td>\n",
              "      <td>0</td>\n",
              "      <td>0</td>\n",
              "      <td>1</td>\n",
              "      <td>0</td>\n",
              "      <td>0</td>\n",
              "      <td>...</td>\n",
              "      <td>0</td>\n",
              "      <td>1</td>\n",
              "      <td>1</td>\n",
              "      <td>0</td>\n",
              "      <td>0</td>\n",
              "      <td>0</td>\n",
              "      <td>0</td>\n",
              "      <td>0</td>\n",
              "      <td>2</td>\n",
              "      <td>0</td>\n",
              "    </tr>\n",
              "    <tr>\n",
              "      <th>2</th>\n",
              "      <td>1</td>\n",
              "      <td>0</td>\n",
              "      <td>0</td>\n",
              "      <td>0</td>\n",
              "      <td>0</td>\n",
              "      <td>1</td>\n",
              "      <td>0</td>\n",
              "      <td>1</td>\n",
              "      <td>0</td>\n",
              "      <td>1</td>\n",
              "      <td>...</td>\n",
              "      <td>0</td>\n",
              "      <td>0</td>\n",
              "      <td>1</td>\n",
              "      <td>0</td>\n",
              "      <td>0</td>\n",
              "      <td>1</td>\n",
              "      <td>0</td>\n",
              "      <td>1</td>\n",
              "      <td>1</td>\n",
              "      <td>1</td>\n",
              "    </tr>\n",
              "    <tr>\n",
              "      <th>3</th>\n",
              "      <td>1</td>\n",
              "      <td>0</td>\n",
              "      <td>0</td>\n",
              "      <td>0</td>\n",
              "      <td>0</td>\n",
              "      <td>1</td>\n",
              "      <td>0</td>\n",
              "      <td>1</td>\n",
              "      <td>0</td>\n",
              "      <td>1</td>\n",
              "      <td>...</td>\n",
              "      <td>0</td>\n",
              "      <td>1</td>\n",
              "      <td>1</td>\n",
              "      <td>1</td>\n",
              "      <td>0</td>\n",
              "      <td>0</td>\n",
              "      <td>0</td>\n",
              "      <td>0</td>\n",
              "      <td>1</td>\n",
              "      <td>1</td>\n",
              "    </tr>\n",
              "    <tr>\n",
              "      <th>4</th>\n",
              "      <td>1</td>\n",
              "      <td>0</td>\n",
              "      <td>0</td>\n",
              "      <td>0</td>\n",
              "      <td>0</td>\n",
              "      <td>1</td>\n",
              "      <td>0</td>\n",
              "      <td>1</td>\n",
              "      <td>0</td>\n",
              "      <td>1</td>\n",
              "      <td>...</td>\n",
              "      <td>0</td>\n",
              "      <td>0</td>\n",
              "      <td>2</td>\n",
              "      <td>3</td>\n",
              "      <td>0</td>\n",
              "      <td>1</td>\n",
              "      <td>0</td>\n",
              "      <td>1</td>\n",
              "      <td>2</td>\n",
              "      <td>1</td>\n",
              "    </tr>\n",
              "  </tbody>\n",
              "</table>\n",
              "<p>5 rows × 35 columns</p>\n",
              "</div>\n",
              "      <button class=\"colab-df-convert\" onclick=\"convertToInteractive('df-b003ced9-1d93-423b-a1cb-c7501ed5c1b3')\"\n",
              "              title=\"Convert this dataframe to an interactive table.\"\n",
              "              style=\"display:none;\">\n",
              "        \n",
              "  <svg xmlns=\"http://www.w3.org/2000/svg\" height=\"24px\"viewBox=\"0 0 24 24\"\n",
              "       width=\"24px\">\n",
              "    <path d=\"M0 0h24v24H0V0z\" fill=\"none\"/>\n",
              "    <path d=\"M18.56 5.44l.94 2.06.94-2.06 2.06-.94-2.06-.94-.94-2.06-.94 2.06-2.06.94zm-11 1L8.5 8.5l.94-2.06 2.06-.94-2.06-.94L8.5 2.5l-.94 2.06-2.06.94zm10 10l.94 2.06.94-2.06 2.06-.94-2.06-.94-.94-2.06-.94 2.06-2.06.94z\"/><path d=\"M17.41 7.96l-1.37-1.37c-.4-.4-.92-.59-1.43-.59-.52 0-1.04.2-1.43.59L10.3 9.45l-7.72 7.72c-.78.78-.78 2.05 0 2.83L4 21.41c.39.39.9.59 1.41.59.51 0 1.02-.2 1.41-.59l7.78-7.78 2.81-2.81c.8-.78.8-2.07 0-2.86zM5.41 20L4 18.59l7.72-7.72 1.47 1.35L5.41 20z\"/>\n",
              "  </svg>\n",
              "      </button>\n",
              "      \n",
              "  <style>\n",
              "    .colab-df-container {\n",
              "      display:flex;\n",
              "      flex-wrap:wrap;\n",
              "      gap: 12px;\n",
              "    }\n",
              "\n",
              "    .colab-df-convert {\n",
              "      background-color: #E8F0FE;\n",
              "      border: none;\n",
              "      border-radius: 50%;\n",
              "      cursor: pointer;\n",
              "      display: none;\n",
              "      fill: #1967D2;\n",
              "      height: 32px;\n",
              "      padding: 0 0 0 0;\n",
              "      width: 32px;\n",
              "    }\n",
              "\n",
              "    .colab-df-convert:hover {\n",
              "      background-color: #E2EBFA;\n",
              "      box-shadow: 0px 1px 2px rgba(60, 64, 67, 0.3), 0px 1px 3px 1px rgba(60, 64, 67, 0.15);\n",
              "      fill: #174EA6;\n",
              "    }\n",
              "\n",
              "    [theme=dark] .colab-df-convert {\n",
              "      background-color: #3B4455;\n",
              "      fill: #D2E3FC;\n",
              "    }\n",
              "\n",
              "    [theme=dark] .colab-df-convert:hover {\n",
              "      background-color: #434B5C;\n",
              "      box-shadow: 0px 1px 3px 1px rgba(0, 0, 0, 0.15);\n",
              "      filter: drop-shadow(0px 1px 2px rgba(0, 0, 0, 0.3));\n",
              "      fill: #FFFFFF;\n",
              "    }\n",
              "  </style>\n",
              "\n",
              "      <script>\n",
              "        const buttonEl =\n",
              "          document.querySelector('#df-b003ced9-1d93-423b-a1cb-c7501ed5c1b3 button.colab-df-convert');\n",
              "        buttonEl.style.display =\n",
              "          google.colab.kernel.accessAllowed ? 'block' : 'none';\n",
              "\n",
              "        async function convertToInteractive(key) {\n",
              "          const element = document.querySelector('#df-b003ced9-1d93-423b-a1cb-c7501ed5c1b3');\n",
              "          const dataTable =\n",
              "            await google.colab.kernel.invokeFunction('convertToInteractive',\n",
              "                                                     [key], {});\n",
              "          if (!dataTable) return;\n",
              "\n",
              "          const docLinkHtml = 'Like what you see? Visit the ' +\n",
              "            '<a target=\"_blank\" href=https://colab.research.google.com/notebooks/data_table.ipynb>data table notebook</a>'\n",
              "            + ' to learn more about interactive tables.';\n",
              "          element.innerHTML = '';\n",
              "          dataTable['output_type'] = 'display_data';\n",
              "          await google.colab.output.renderOutput(dataTable, element);\n",
              "          const docLink = document.createElement('div');\n",
              "          docLink.innerHTML = docLinkHtml;\n",
              "          element.appendChild(docLink);\n",
              "        }\n",
              "      </script>\n",
              "    </div>\n",
              "  </div>\n",
              "  "
            ]
          },
          "metadata": {},
          "execution_count": 75
        }
      ]
    },
    {
      "cell_type": "markdown",
      "source": [
        "Мы предобработали данные для входа нейронной сети. Теперь преступим к написанию самой нейронной сети, которая на основе входных данных будет предсказывать ответы. Для этого мы будем использовать обучение с учителем - отдадим часть данных сети для обучения, а на другой части, которую сеть видеть не будет- будем предсказывать результат. Сверяя правильные значения с предсказанными будем считать ошибку, и корректировать веса нашей сети. Для создания сети будем использовать библиотеку PyTorch. "
      ],
      "metadata": {
        "id": "sn_Fqz4L2WGx"
      }
    },
    {
      "cell_type": "markdown",
      "source": [
        "Разделим наши данные на три категории: данные которые нам не понадобятся, данные которые мы будем предсказывать, и данные которые нам будут известы. \n",
        "Известные данные о преступлениях - орудие преступления, тип преступления, способ преступления, обстановка, возраст и пол жертвы. На выходе будем предсказывать данные о преступнике - возраст, пол, образование и семейный статус. "
      ],
      "metadata": {
        "id": "rUPuzATvq7E8"
      }
    },
    {
      "cell_type": "code",
      "source": [
        "df.columns"
      ],
      "metadata": {
        "colab": {
          "base_uri": "https://localhost:8080/"
        },
        "id": "pDvl-nDaqzf3",
        "outputId": "b5316610-1343-4aa6-a112-59490c4f5469"
      },
      "execution_count": 76,
      "outputs": [
        {
          "output_type": "execute_result",
          "data": {
            "text/plain": [
              "Index(['weapon_hands', 'weapon_cold', 'weapon_fire', 'weapon_core',\n",
              "       'weapon_others', 'type_rape', 'type_robbery', 'type_murder',\n",
              "       'type_others', 'motive_sex', 'motive_benefit', 'motive_psyche',\n",
              "       'motive_others', 'place_city', 'place_village', 'place_home',\n",
              "       'place_street', 'place_others', 'victims_<10', 'victims_10_25',\n",
              "       'victims_25_50', 'victims_>50', 'age_ot', 'age_do', 'Female', 'Male',\n",
              "       'FM', 'age_cr', 'ed_cr', 'm.s_cr', 'type_gedonist', 'type_merkantilnii',\n",
              "       'adapt/dezapt', 'psycho_r', 'Sex'],\n",
              "      dtype='object')"
            ]
          },
          "metadata": {},
          "execution_count": 76
        }
      ]
    },
    {
      "cell_type": "code",
      "source": [
        "df.drop(['motive_sex', 'motive_benefit', 'motive_psyche',\n",
        "       'motive_others', 'victims_<10', 'victims_10_25',\n",
        "       'victims_25_50', 'victims_>50','type_gedonist', 'type_merkantilnii',\n",
        "       'adapt/dezapt', 'psycho_r', 'age_do' ], axis=1, inplace=True)"
      ],
      "metadata": {
        "id": "aa2GZuKOrt25"
      },
      "execution_count": 77,
      "outputs": []
    },
    {
      "cell_type": "code",
      "source": [
        "df.columns"
      ],
      "metadata": {
        "colab": {
          "base_uri": "https://localhost:8080/"
        },
        "id": "BLf08z40sN0t",
        "outputId": "835e69d8-cea0-4acb-e7e0-7cffcf0cb143"
      },
      "execution_count": 78,
      "outputs": [
        {
          "output_type": "execute_result",
          "data": {
            "text/plain": [
              "Index(['weapon_hands', 'weapon_cold', 'weapon_fire', 'weapon_core',\n",
              "       'weapon_others', 'type_rape', 'type_robbery', 'type_murder',\n",
              "       'type_others', 'place_city', 'place_village', 'place_home',\n",
              "       'place_street', 'place_others', 'age_ot', 'Female', 'Male', 'FM',\n",
              "       'age_cr', 'ed_cr', 'm.s_cr', 'Sex'],\n",
              "      dtype='object')"
            ]
          },
          "metadata": {},
          "execution_count": 78
        }
      ]
    },
    {
      "cell_type": "code",
      "source": [
        "from sklearn.preprocessing import LabelEncoder\n",
        "import torch\n",
        "import torch.nn as nn\n",
        "from sklearn.model_selection import train_test_split\n",
        "import random"
      ],
      "metadata": {
        "id": "IMgNNFCt2WJf"
      },
      "execution_count": 79,
      "outputs": []
    },
    {
      "cell_type": "markdown",
      "source": [
        "Разделим наши данные на матрицу признаков - Х, на основе которой будут предсказываться значения,\n",
        "а так-же создадим два вектора значений, к-ые будут предсказываться - возраст и пол преступника"
      ],
      "metadata": {
        "id": "ZF1WgRBl6Kie"
      }
    },
    {
      "cell_type": "code",
      "source": [
        "y_age = df['age_cr']\n",
        "y_sex = df['Sex']\n",
        "y_ed = df['ed_cr']\n",
        "y_ms = df['m.s_cr']\n",
        "X = df.drop(['age_cr', 'Sex', 'ed_cr', 'm.s_cr'], axis=1)"
      ],
      "metadata": {
        "id": "R190OPGr1rHR"
      },
      "execution_count": 80,
      "outputs": []
    },
    {
      "cell_type": "code",
      "source": [
        "torch.cuda.is_available()\n",
        "device = torch.device('cuda' if torch.cuda.is_available() else 'cpu')\n",
        "device"
      ],
      "metadata": {
        "colab": {
          "base_uri": "https://localhost:8080/"
        },
        "id": "wBM58vM148OT",
        "outputId": "909ea04c-1892-42b0-fbb4-d7ff2775428f"
      },
      "execution_count": 81,
      "outputs": [
        {
          "output_type": "execute_result",
          "data": {
            "text/plain": [
              "device(type='cpu')"
            ]
          },
          "metadata": {},
          "execution_count": 81
        }
      ]
    },
    {
      "cell_type": "markdown",
      "source": [
        "Разделим наши данные тренировочные и тестовые. на тренировочных наша сеть будет обучаться, и предсказывать значения на тестовых."
      ],
      "metadata": {
        "id": "tz3ju__U-dmw"
      }
    },
    {
      "cell_type": "code",
      "source": [
        "X_train, X_test,y_train_sex, y_test_sex, y_train_age, y_test_age, y_train_ed, y_test_ed, y_train_ms, y_test_ms = \\\n",
        " train_test_split(X, y_sex, y_age, y_ed, y_ms,  test_size = 0.2, shuffle= True) \n",
        "X_train = torch.FloatTensor(X_train.values)\n",
        "X_test = torch.FloatTensor(X_test.values)\n",
        "\n",
        "y_train_sex = torch.FloatTensor(y_train_sex.values)\n",
        "y_test_sex= torch.FloatTensor(y_test_sex.values)\n",
        "\n",
        "y_train_age = torch.FloatTensor(y_train_age.values)\n",
        "y_test_age= torch.FloatTensor(y_test_age.values)\n",
        "\n",
        "y_train_ed= torch.FloatTensor(y_train_ed.values)\n",
        "y_test_ed= torch.FloatTensor(y_test_ed.values)\n",
        "\n",
        "y_train_ms = torch.FloatTensor(y_train_ms.values)\n",
        "y_test_ms= torch.FloatTensor(y_test_ms.values)"
      ],
      "metadata": {
        "id": "Xx11pgGp8F6e"
      },
      "execution_count": 82,
      "outputs": []
    },
    {
      "cell_type": "markdown",
      "source": [
        "Создадим первую нейросеть. На входе будет кол-во нейронов равное число признаков из датафрейма. Далее у нас будет один скрытый слой, и на выходе слой с 2 мя нейронами. Активация которых будет происходить от выбора пола нейросетью."
      ],
      "metadata": {
        "id": "rWCqNcWgBJr2"
      }
    },
    {
      "cell_type": "code",
      "source": [
        "class NeuralNetworkSex(nn.Module):\n",
        "    def __init__(self, first_neurons, n_hidden_neurons):\n",
        "        super().__init__()\n",
        "        self.fc1 = nn.Linear(first_neurons, n_hidden_neurons)\n",
        "        self.activ1 = nn.ReLU()\n",
        "        self.fc2 = nn.Linear(n_hidden_neurons, n_hidden_neurons)\n",
        "        self.activ2 = nn.ReLU()\n",
        "        self.fc3 = nn.Linear(n_hidden_neurons, 2)\n",
        "        \n",
        "    def forward(self, x):\n",
        "        x = self.fc1(x)\n",
        "        x = self.activ1(x)\n",
        "      \n",
        "        x = self.fc2(x)\n",
        "        x = self.activ2(x)\n",
        "        \n",
        "        x = self.fc3(x)\n",
        "        return x \n",
        "      \n",
        "myNet = NeuralNetworkSex(X_train.shape[1], 144)\n",
        "myNet = myNet.to(device)\n",
        "myNet.parameters()\n",
        "# list(myNet.parameters())\n",
        "loss = torch.nn.CrossEntropyLoss()\n",
        "optimizer = torch.optim.Adam(myNet.parameters(),  lr = 10 **(-4))\n",
        "\n",
        "X_test = X_test.to(device)\n",
        "y_test_sex = y_test_sex.to(device)"
      ],
      "metadata": {
        "id": "V4XVrZM78GNt"
      },
      "execution_count": 83,
      "outputs": []
    },
    {
      "cell_type": "markdown",
      "source": [
        "Напишем процесс обучения нейросети. Обучения будет происходить батчами (частями). Мы проходим по батчу, считаем общую ошибку, и возвращаем градиент. Так проходим эпохи (Эпоха - полный проход по данным из тренировочной части датасэта) Далее предсказываем данные на тестовой выборке и оцениваем результат с помощью метрики \"accuracy\"."
      ],
      "metadata": {
        "id": "aVosA2y7Brlo"
      }
    },
    {
      "cell_type": "code",
      "source": [
        "acc = []\n",
        "losss = []\n",
        "def training(model, batch_size, epochs, loss, optimizer):\n",
        "    for epoch in range(epochs):\n",
        "        order = np.random.permutation(len(X_train))\n",
        "        for start_ind in range(0, len(X_train), batch_size):\n",
        "            optimizer.zero_grad()\n",
        "            batch_indexes = order[start_ind:start_ind + batch_size]\n",
        "            X_batch = X_train[batch_indexes].to(device)\n",
        "            y_batch = y_train_sex[batch_indexes].to(device)\n",
        "\n",
        "            preds = model.forward(X_batch)\n",
        "            loss_value = loss(preds, y_batch.long())\n",
        "            loss_value.backward()\n",
        "            optimizer.step()\n",
        "\n",
        "        test_preds = model.forward(X_test)\n",
        "        losss.append(loss(test_preds, y_test_sex.long()).to('cpu').item())\n",
        "\n",
        "        accuracy = (test_preds.argmax(dim=1) == y_test_sex).float().mean().to('cpu')\n",
        "        acc.append(accuracy)\n",
        "        if (epoch + 1) % 20 == 0:\n",
        "            print(f'epoch: {epoch + 1}, acc:{accuracy}')"
      ],
      "metadata": {
        "id": "e3kDpJGx8Gea"
      },
      "execution_count": 84,
      "outputs": []
    },
    {
      "cell_type": "markdown",
      "source": [
        "Проведем обучение нашей сети и построим график зависимости точности от эпохи"
      ],
      "metadata": {
        "id": "Sw5P_hMYCPp_"
      }
    },
    {
      "cell_type": "code",
      "source": [
        "epoch = 200\n",
        "batch_size = 32\n",
        "training(myNet, batch_size, epoch, loss, optimizer)"
      ],
      "metadata": {
        "id": "RWswB9dy8LYe",
        "colab": {
          "base_uri": "https://localhost:8080/"
        },
        "outputId": "66fe9368-5dce-4fa6-f0d6-ca831f75401e"
      },
      "execution_count": 85,
      "outputs": [
        {
          "output_type": "stream",
          "name": "stdout",
          "text": [
            "epoch: 20, acc:0.9189189076423645\n",
            "epoch: 40, acc:0.8918918967247009\n",
            "epoch: 60, acc:0.8918918967247009\n",
            "epoch: 80, acc:0.8918918967247009\n",
            "epoch: 100, acc:0.8918918967247009\n",
            "epoch: 120, acc:0.9189189076423645\n",
            "epoch: 140, acc:0.9189189076423645\n",
            "epoch: 160, acc:0.8918918967247009\n",
            "epoch: 180, acc:0.8918918967247009\n",
            "epoch: 200, acc:0.9189189076423645\n"
          ]
        }
      ]
    },
    {
      "cell_type": "code",
      "source": [
        ""
      ],
      "metadata": {
        "id": "h4wglp-0a2gv"
      },
      "execution_count": 85,
      "outputs": []
    },
    {
      "cell_type": "code",
      "source": [
        "x = np.arange(1,201)\n",
        "y_v = np.array(acc) * 100\n",
        "max_value = y_v.max().reshape(-1)\n",
        "y_values = np.array(acc) * 100\n",
        "y_ticks =   np.concatenate((np.arange(y_v[1:].min(), y_v.max(), 5), max_value),axis = 0)\n",
        "plt.plot(x, y_v,  color ='darkblue', linewidth=4)\n",
        "plt.yticks(y_ticks)\n",
        "plt.grid(axis='y', linestyle='-')\n",
        "plt.grid(axis='x', linestyle='-')\n",
        "plt.title('Точность предсказания пола преступника', fontsize = 15 );\n",
        "plt.xlabel('epoch', fontsize=12);\n",
        "plt.show();"
      ],
      "metadata": {
        "id": "pgUiD0bM8Ll4",
        "colab": {
          "base_uri": "https://localhost:8080/",
          "height": 300
        },
        "outputId": "5019708e-5a9a-4f09-efbe-0ec364d285f3"
      },
      "execution_count": 86,
      "outputs": [
        {
          "output_type": "display_data",
          "data": {
            "text/plain": [
              "<Figure size 432x288 with 1 Axes>"
            ],
            "image/png": "[encoded data removed]"
          },
          "metadata": {
            "needs_background": "light"
          }
        }
      ]
    },
    {
      "cell_type": "markdown",
      "source": [
        "Точность нашей нейросети равна более 80%. Как мы видим, и при большем количестве эпох наша сеть даёт такие же результаты, что говорит о выходе на плато, и отсутствием переобучения"
      ],
      "metadata": {
        "id": "O4wVXpTBCYo_"
      }
    },
    {
      "cell_type": "markdown",
      "source": [
        "Создадим аналогичную сеть для оценки возрастной категории преступника, на основе его характеристики"
      ],
      "metadata": {
        "id": "wpaJ_K-hCoRl"
      }
    },
    {
      "cell_type": "code",
      "source": [
        "class NeuralNetworkAge(nn.Module):\n",
        "    def __init__(self, first_neurons, n_hidden_neurons):\n",
        "        super().__init__()\n",
        "        self.fc1 = nn.Linear(first_neurons, n_hidden_neurons)\n",
        "        self.activ1 = nn.ReLU()\n",
        "        self.fc2 = nn.Linear(n_hidden_neurons, n_hidden_neurons)\n",
        "        self.activ2 = nn.ReLU()\n",
        "        self.fc3 = nn.Linear(n_hidden_neurons, n_hidden_neurons // 2)\n",
        "        self.activ3 = nn.ReLU()\n",
        "\n",
        "        self.fc4 = nn.Linear(n_hidden_neurons // 2, 5)\n",
        "        \n",
        "    def forward(self, x):\n",
        "        x = self.fc1(x)\n",
        "        x = self.activ1(x)\n",
        "      \n",
        "        x = self.fc2(x)\n",
        "        x = self.activ2(x)\n",
        "        \n",
        "        x = self.fc3(x)\n",
        "        x = self.activ3(x)\n",
        "\n",
        "        x = self.fc4(x)\n",
        "        return x "
      ],
      "metadata": {
        "id": "1O540p8c8Lsb"
      },
      "execution_count": 87,
      "outputs": []
    },
    {
      "cell_type": "code",
      "source": [
        "myNet = NeuralNetworkAge(X_train.shape[1], 48)\n",
        "myNet = myNet.to(device)\n",
        "myNet.parameters()\n",
        "# list(myNet.parameters())\n",
        "loss = torch.nn.CrossEntropyLoss()\n",
        "optimizer = torch.optim.Adam(myNet.parameters(),  lr = 10 **(-4))\n",
        "\n",
        "X_test = X_test.to(device)\n",
        "y_test_age = y_test_age.to(device)\n",
        "\n",
        "acc = []\n",
        "losss = []\n",
        "def training(model, batch_size, epochs, loss, optimizer):\n",
        "    for epoch in range(epochs):\n",
        "        order = np.random.permutation(len(X_train))\n",
        "        for start_ind in range(0, len(X_train), batch_size):\n",
        "            optimizer.zero_grad()\n",
        "            batch_indexes = order[start_ind:start_ind + batch_size]\n",
        "            X_batch = X_train[batch_indexes].to(device)\n",
        "            y_batch = y_train_age[batch_indexes].to(device)\n",
        "\n",
        "            preds = model.forward(X_batch)\n",
        "            loss_value = loss(preds, y_batch.long())\n",
        "            loss_value.backward()\n",
        "            optimizer.step()\n",
        "\n",
        "        test_preds = model.forward(X_test)\n",
        "        losss.append(loss(test_preds, y_test_age.long()).to('cpu').item())\n",
        "        accuracy = (test_preds.argmax(dim=1) == y_test_age ).float().mean().to('cpu')\n",
        "        acc.append(accuracy)\n",
        "        if (epoch + 1) % 5 == 0:\n",
        "            print(f'epoch: {epoch + 1}, acc:{accuracy}')"
      ],
      "metadata": {
        "id": "9PuY02nV8Lu9"
      },
      "execution_count": 88,
      "outputs": []
    },
    {
      "cell_type": "code",
      "source": [
        "epoch = 100\n",
        "batch_size = 32\n",
        "training(myNet, batch_size, epoch, loss, optimizer)"
      ],
      "metadata": {
        "id": "MjZ49n-P48S7",
        "colab": {
          "base_uri": "https://localhost:8080/"
        },
        "outputId": "96570f09-021d-4110-867a-bf29ea3b3774"
      },
      "execution_count": 89,
      "outputs": [
        {
          "output_type": "stream",
          "name": "stdout",
          "text": [
            "epoch: 5, acc:0.29729729890823364\n",
            "epoch: 10, acc:0.29729729890823364\n",
            "epoch: 15, acc:0.29729729890823364\n",
            "epoch: 20, acc:0.29729729890823364\n",
            "epoch: 25, acc:0.29729729890823364\n",
            "epoch: 30, acc:0.29729729890823364\n",
            "epoch: 35, acc:0.29729729890823364\n",
            "epoch: 40, acc:0.29729729890823364\n",
            "epoch: 45, acc:0.29729729890823364\n",
            "epoch: 50, acc:0.29729729890823364\n",
            "epoch: 55, acc:0.3513513505458832\n",
            "epoch: 60, acc:0.3513513505458832\n",
            "epoch: 65, acc:0.37837839126586914\n",
            "epoch: 70, acc:0.37837839126586914\n",
            "epoch: 75, acc:0.37837839126586914\n",
            "epoch: 80, acc:0.37837839126586914\n",
            "epoch: 85, acc:0.4324324429035187\n",
            "epoch: 90, acc:0.4324324429035187\n",
            "epoch: 95, acc:0.4324324429035187\n",
            "epoch: 100, acc:0.4324324429035187\n"
          ]
        }
      ]
    },
    {
      "cell_type": "code",
      "source": [
        "x = np.arange(1,101)\n",
        "y_v = np.array(acc) * 100\n",
        "max_value = y_v.max().reshape(-1)\n",
        "y_values = np.array(acc) * 100\n",
        "y_ticks =   np.concatenate((np.arange(y_v[1:].min(), y_v.max(), 5), max_value),axis = 0)\n",
        "plt.plot(x, y_v,  color ='darkblue', linewidth=4)\n",
        "plt.yticks(y_ticks)\n",
        "plt.grid(axis='y', linestyle='-')\n",
        "plt.grid(axis='x', linestyle='-')\n",
        "plt.title('Точность предсказания возрастной категории преступника', fontsize = 15 );\n",
        "plt.xlabel('epoch', fontsize=12);\n",
        "plt.show();"
      ],
      "metadata": {
        "id": "H-Ztd6D748Va",
        "colab": {
          "base_uri": "https://localhost:8080/",
          "height": 300
        },
        "outputId": "f84bdbf6-9385-4abf-9299-a0cfc4c89a1f"
      },
      "execution_count": 90,
      "outputs": [
        {
          "output_type": "display_data",
          "data": {
            "text/plain": [
              "<Figure size 432x288 with 1 Axes>"
            ],
            "image/png": "[encoded data removed]"
          },
          "metadata": {
            "needs_background": "light"
          }
        }
      ]
    },
    {
      "cell_type": "markdown",
      "source": [
        "Результаты нашей сети не идеальны. Наша сеть может верно Предсказать категорию преступника только в 50% случаев. Это гораздо лучше, чем выбор наугад. Вероятность правильно ответа наугад 20%"
      ],
      "metadata": {
        "id": "PQPGkdJhCwWm"
      }
    },
    {
      "cell_type": "markdown",
      "source": [
        "Нейросеть для предсказания образования преступника."
      ],
      "metadata": {
        "id": "4z5g5HeNtnkE"
      }
    },
    {
      "cell_type": "code",
      "source": [
        "class NeuralNetworkEd(nn.Module):\n",
        "    def __init__(self, first_neurons, n_hidden_neurons):\n",
        "        super().__init__()\n",
        "        self.fc1 = nn.Linear(first_neurons, n_hidden_neurons)\n",
        "        self.activ1 = nn.ReLU()\n",
        "        self.fc2 = nn.Linear(n_hidden_neurons, n_hidden_neurons)\n",
        "        self.activ2 = nn.ReLU()\n",
        "        self.fc3 = nn.Linear(n_hidden_neurons, n_hidden_neurons // 2)\n",
        "        self.activ3 = nn.ReLU()\n",
        "\n",
        "        self.fc4 = nn.Linear(n_hidden_neurons // 2, 4)\n",
        "        \n",
        "    def forward(self, x):\n",
        "        x = self.fc1(x)\n",
        "        x = self.activ1(x)\n",
        "      \n",
        "        x = self.fc2(x)\n",
        "        x = self.activ2(x)\n",
        "        \n",
        "        x = self.fc3(x)\n",
        "        x = self.activ3(x)\n",
        "\n",
        "        x = self.fc4(x)\n",
        "        return x  \n",
        "      \n",
        "myNet = NeuralNetworkEd(X_train.shape[1], 72)\n",
        "myNet = myNet.to(device)\n",
        "myNet.parameters()\n",
        "# list(myNet.parameters())\n",
        "loss = torch.nn.CrossEntropyLoss()\n",
        "optimizer = torch.optim.Adam(myNet.parameters(),  lr = 10 **(-4))\n",
        "\n",
        "X_test = X_test.to(device)\n",
        "y_test_ed = y_test_ed.to(device)"
      ],
      "metadata": {
        "id": "JkxsN8yYtvs9"
      },
      "execution_count": 91,
      "outputs": []
    },
    {
      "cell_type": "code",
      "source": [
        "acc = []\n",
        "losss = []\n",
        "def training(model, batch_size, epochs, loss, optimizer):\n",
        "    for epoch in range(epochs):\n",
        "        order = np.random.permutation(len(X_train))\n",
        "        for start_ind in range(0, len(X_train), batch_size):\n",
        "            optimizer.zero_grad()\n",
        "            batch_indexes = order[start_ind:start_ind + batch_size]\n",
        "            X_batch = X_train[batch_indexes].to(device)\n",
        "            y_batch = y_train_ed[batch_indexes].to(device)\n",
        "\n",
        "            preds = model.forward(X_batch)\n",
        "            loss_value = loss(preds, y_batch.long())\n",
        "            loss_value.backward()\n",
        "            optimizer.step()\n",
        "\n",
        "        test_preds = model.forward(X_test)\n",
        "        losss.append(loss(test_preds, y_test_ed.long()).to('cpu').item())\n",
        "\n",
        "        accuracy = (test_preds.argmax(dim=1) == y_test_ed).float().mean().to('cpu')\n",
        "        acc.append(accuracy)\n",
        "        if (epoch + 1) % 20 == 0:\n",
        "            print(f'epoch: {epoch + 1}, acc:{accuracy}')\n",
        "\n",
        "\n",
        "epoch = 200\n",
        "batch_size = 32\n",
        "training(myNet, batch_size, epoch, loss, optimizer)"
      ],
      "metadata": {
        "colab": {
          "base_uri": "https://localhost:8080/"
        },
        "id": "aybPejGAt6U3",
        "outputId": "786f82ce-70d2-4338-89fe-5abaf0d6709b"
      },
      "execution_count": 92,
      "outputs": [
        {
          "output_type": "stream",
          "name": "stdout",
          "text": [
            "epoch: 20, acc:0.37837839126586914\n",
            "epoch: 40, acc:0.37837839126586914\n",
            "epoch: 60, acc:0.4054054021835327\n",
            "epoch: 80, acc:0.4054054021835327\n",
            "epoch: 100, acc:0.37837839126586914\n",
            "epoch: 120, acc:0.3243243098258972\n",
            "epoch: 140, acc:0.29729729890823364\n",
            "epoch: 160, acc:0.29729729890823364\n",
            "epoch: 180, acc:0.3513513505458832\n",
            "epoch: 200, acc:0.37837839126586914\n"
          ]
        }
      ]
    },
    {
      "cell_type": "code",
      "source": [
        "x = np.arange(1,201)\n",
        "y_v = np.array(acc) * 100\n",
        "max_value = y_v.max().reshape(-1)\n",
        "y_values = np.array(acc) * 100\n",
        "y_ticks =   np.concatenate((np.arange(y_v[1:].min(), y_v.max(), 5), max_value),axis = 0)\n",
        "plt.plot(x, y_v,  color ='darkblue', linewidth=4)\n",
        "plt.yticks(y_ticks)\n",
        "plt.grid(axis='y', linestyle='-')\n",
        "plt.grid(axis='x', linestyle='-')\n",
        "plt.title('Точность предсказания образования преступника', fontsize = 15 );\n",
        "plt.xlabel('epoch', fontsize=12);\n",
        "plt.show();"
      ],
      "metadata": {
        "colab": {
          "base_uri": "https://localhost:8080/",
          "height": 301
        },
        "id": "HVMGNVHzt6XO",
        "outputId": "abaa63d7-6aca-4004-e080-1ab0bcd74460"
      },
      "execution_count": 93,
      "outputs": [
        {
          "output_type": "display_data",
          "data": {
            "text/plain": [
              "<Figure size 432x288 with 1 Axes>"
            ],
            "image/png": "[encoded data removed]"
          },
          "metadata": {
            "needs_background": "light"
          }
        }
      ]
    },
    {
      "cell_type": "markdown",
      "source": [
        "Нейронная сеть для предсказания семейного статуса преступника"
      ],
      "metadata": {
        "id": "6SWo1mFet6Z6"
      }
    },
    {
      "cell_type": "code",
      "source": [
        "class NeuralNetworkMs(nn.Module):\n",
        "    def __init__(self, first_neurons, n_hidden_neurons):\n",
        "        super().__init__()\n",
        "        self.fc1 = nn.Linear(first_neurons, n_hidden_neurons)\n",
        "        self.activ1 = nn.ReLU()\n",
        "        self.fc2 = nn.Linear(n_hidden_neurons, n_hidden_neurons)\n",
        "        self.activ2 = nn.ReLU()\n",
        "        self.fc3 = nn.Linear(n_hidden_neurons, n_hidden_neurons // 2)\n",
        "        self.activ3 = nn.ReLU()\n",
        "\n",
        "        self.fc4 = nn.Linear(n_hidden_neurons // 2, 2)\n",
        "        \n",
        "    def forward(self, x):\n",
        "        x = self.fc1(x)\n",
        "        x = self.activ1(x)\n",
        "      \n",
        "        x = self.fc2(x)\n",
        "        x = self.activ2(x)\n",
        "        \n",
        "        x = self.fc3(x)\n",
        "        x = self.activ3(x)\n",
        "\n",
        "        x = self.fc4(x)\n",
        "        return x  \n",
        "      \n",
        "myNet = NeuralNetworkMs(X_train.shape[1], 37)\n",
        "myNet = myNet.to(device)\n",
        "myNet.parameters()\n",
        "# list(myNet.parameters())\n",
        "loss = torch.nn.CrossEntropyLoss()\n",
        "optimizer = torch.optim.Adam(myNet.parameters(),  lr = 10 **(-4))\n",
        "\n",
        "X_test = X_test.to(device)\n",
        "y_test_ed = y_test_ed.to(device)"
      ],
      "metadata": {
        "id": "aQGxDaY3t6cJ"
      },
      "execution_count": 94,
      "outputs": []
    },
    {
      "cell_type": "code",
      "source": [
        "acc = []\n",
        "losss = []\n",
        "def training(model, batch_size, epochs, loss, optimizer):\n",
        "    for epoch in range(epochs):\n",
        "        order = np.random.permutation(len(X_train))\n",
        "        for start_ind in range(0, len(X_train), batch_size):\n",
        "            optimizer.zero_grad()\n",
        "            batch_indexes = order[start_ind:start_ind + batch_size]\n",
        "            X_batch = X_train[batch_indexes].to(device)\n",
        "            y_batch = y_train_ms[batch_indexes].to(device)\n",
        "\n",
        "            preds = model.forward(X_batch)\n",
        "            loss_value = loss(preds, y_batch.long())\n",
        "            loss_value.backward()\n",
        "            optimizer.step()\n",
        "\n",
        "        test_preds = model.forward(X_test)\n",
        "        losss.append(loss(test_preds, y_test_ms.long()).to('cpu').item())\n",
        "\n",
        "        accuracy = (test_preds.argmax(dim=1) == y_test_ms).float().mean().to('cpu')\n",
        "        acc.append(accuracy)\n",
        "        if (epoch + 1) % 20 == 0:\n",
        "            print(f'epoch: {epoch + 1}, acc:{accuracy}')\n",
        "\n",
        "\n",
        "epoch = 200\n",
        "batch_size = 32\n",
        "training(myNet, batch_size, epoch, loss, optimizer)"
      ],
      "metadata": {
        "colab": {
          "base_uri": "https://localhost:8080/"
        },
        "id": "-EI_r53nt6eb",
        "outputId": "b921b8f5-b18e-4e46-8fcb-9a38237a16f7"
      },
      "execution_count": 95,
      "outputs": [
        {
          "output_type": "stream",
          "name": "stdout",
          "text": [
            "epoch: 20, acc:0.45945945382118225\n",
            "epoch: 40, acc:0.5945945978164673\n",
            "epoch: 60, acc:0.5945945978164673\n",
            "epoch: 80, acc:0.5945945978164673\n",
            "epoch: 100, acc:0.5945945978164673\n",
            "epoch: 120, acc:0.6216216087341309\n",
            "epoch: 140, acc:0.6216216087341309\n",
            "epoch: 160, acc:0.6216216087341309\n",
            "epoch: 180, acc:0.6216216087341309\n",
            "epoch: 200, acc:0.6216216087341309\n"
          ]
        }
      ]
    },
    {
      "cell_type": "code",
      "source": [
        "x = np.arange(1,201)\n",
        "y_v = np.array(acc) * 100\n",
        "max_value = y_v.max().reshape(-1)\n",
        "y_values = np.array(acc) * 100\n",
        "y_ticks =   np.concatenate((np.arange(y_v[1:].min(), y_v.max(), 5), max_value),axis = 0)\n",
        "plt.plot(x, y_v,  color ='darkblue', linewidth=4)\n",
        "plt.yticks(y_ticks)\n",
        "plt.grid(axis='y', linestyle='-')\n",
        "plt.grid(axis='x', linestyle='-')\n",
        "plt.title('Точность предсказания семейного статуса преступника', fontsize = 15 );\n",
        "plt.xlabel('epoch', fontsize=12);\n",
        "plt.show();"
      ],
      "metadata": {
        "colab": {
          "base_uri": "https://localhost:8080/",
          "height": 300
        },
        "id": "UH-GD_Fvt6gx",
        "outputId": "378b2b88-74c3-436b-b327-b4e6b05572d0"
      },
      "execution_count": 96,
      "outputs": [
        {
          "output_type": "display_data",
          "data": {
            "text/plain": [
              "<Figure size 432x288 with 1 Axes>"
            ],
            "image/png": "[encoded data removed]"
          },
          "metadata": {
            "needs_background": "light"
          }
        }
      ]
    },
    {
      "cell_type": "code",
      "source": [
        ""
      ],
      "metadata": {
        "id": "7MSN_VZtt6jD"
      },
      "execution_count": 96,
      "outputs": []
    }
  ]
}
